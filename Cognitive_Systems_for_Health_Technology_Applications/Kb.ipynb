{
  "cells": [
    {
      "metadata": {
        "_cell_guid": "b1076dfc-b9ad-4769-8c92-a6c4dae69d19",
        "_uuid": "8f2839f25d086af736a60e9eeb907d3b93b6e0e5",
        "trusted": true
      },
      "cell_type": "code",
      "source": "import os\n\nimport numpy as np\nimport pandas as pd\n\nimport matplotlib.pyplot as plt\nimport seaborn as sns\n\nimport spacy\n\nimport keras\nfrom keras import layers\nfrom keras.utils import to_categorical\n\nfrom wordcloud import WordCloud\n\nfrom html import unescape",
      "execution_count": 2,
      "outputs": [
        {
          "output_type": "stream",
          "text": "Using TensorFlow backend.\n",
          "name": "stderr"
        }
      ]
    },
    {
      "metadata": {
        "trusted": true,
        "_uuid": "7b90fe650019cf2a3e554b85343c9063580d1cb6"
      },
      "cell_type": "code",
      "source": "!python -m spacy download en_core_web_lg\n\nimport spacy\nnlp = spacy.load('en_core_web_lg')",
      "execution_count": 3,
      "outputs": [
        {
          "output_type": "stream",
          "text": "Requirement already satisfied: en_core_web_lg==2.0.0 from https://github.com/explosion/spacy-models/releases/download/en_core_web_lg-2.0.0/en_core_web_lg-2.0.0.tar.gz#egg=en_core_web_lg==2.0.0 in /opt/conda/lib/python3.6/site-packages (2.0.0)\n\n\u001b[93m    Linking successful\u001b[0m\n    /opt/conda/lib/python3.6/site-packages/en_core_web_lg -->\n    /opt/conda/lib/python3.6/site-packages/spacy/data/en_core_web_lg\n\n    You can now load the model via spacy.load('en_core_web_lg')\n\n",
          "name": "stdout"
        }
      ]
    },
    {
      "metadata": {
        "trusted": true,
        "_uuid": "601ee1725169ff092b315c6681657c221f823781"
      },
      "cell_type": "code",
      "source": "### plotting ###\n# prettier and larger basic graphs\nsns.set(rc={\n    'figure.figsize':(18,8),\n    'axes.titlesize':14,\n})\n\n### pandas ###\n# no need to see many decimal places and makes nicer horizontal fits :-)\npd.options.display.float_format = '{:.3f}'.format\n# pd.options.display.precision = 3\n# make the tables more compact vertically, too\npd.options.display.max_rows = 20\n\n### numpy ###\n# same as for pandas - max. 3 decimal places\nnp.set_printoptions(formatter={'float_kind':'{:.3f}'.format})\n# np.set_printoptions(precision=3)",
      "execution_count": 4,
      "outputs": []
    },
    {
      "metadata": {
        "_cell_guid": "b1076dfc-b9ad-4769-8c92-a6c4dae69d19",
        "_uuid": "8f2839f25d086af736a60e9eeb907d3b93b6e0e5",
        "trusted": true
      },
      "cell_type": "code",
      "source": "print(os.listdir(\"../input\"))",
      "execution_count": 5,
      "outputs": [
        {
          "output_type": "stream",
          "text": "['drugsComTest_raw.csv', 'drugsComTrain_raw.csv']\n",
          "name": "stdout"
        }
      ]
    },
    {
      "metadata": {
        "_cell_guid": "79c7e3d0-c299-4dcb-8224-4455121ee9b0",
        "_uuid": "d629ff2d2480ee46fbb7e2d37f6b5fab8052498a",
        "trusted": true
      },
      "cell_type": "code",
      "source": "reviews_df = pd.read_csv('../input/drugsComTrain_raw.csv')\nreviews_df",
      "execution_count": 6,
      "outputs": [
        {
          "output_type": "execute_result",
          "execution_count": 6,
          "data": {
            "text/plain": "        uniqueID     ...     usefulCount\n0         206461     ...              27\n1          95260     ...             192\n2          92703     ...              17\n3         138000     ...              10\n4          35696     ...              37\n5         155963     ...              43\n6         165907     ...               5\n7         102654     ...              32\n8          74811     ...              11\n9          48928     ...               1\n...          ...     ...             ...\n161287    132177     ...              61\n161288     45410     ...              22\n161289    105263     ...              10\n161290    103458     ...              18\n161291    164345     ...               0\n161292    191035     ...             125\n161293    127085     ...              34\n161294    187382     ...              35\n161295     47128     ...              79\n161296    215220     ...             116\n\n[161297 rows x 7 columns]",
            "text/html": "<div>\n<style scoped>\n    .dataframe tbody tr th:only-of-type {\n        vertical-align: middle;\n    }\n\n    .dataframe tbody tr th {\n        vertical-align: top;\n    }\n\n    .dataframe thead th {\n        text-align: right;\n    }\n</style>\n<table border=\"1\" class=\"dataframe\">\n  <thead>\n    <tr style=\"text-align: right;\">\n      <th></th>\n      <th>uniqueID</th>\n      <th>drugName</th>\n      <th>condition</th>\n      <th>review</th>\n      <th>rating</th>\n      <th>date</th>\n      <th>usefulCount</th>\n    </tr>\n  </thead>\n  <tbody>\n    <tr>\n      <th>0</th>\n      <td>206461</td>\n      <td>Valsartan</td>\n      <td>Left Ventricular Dysfunction</td>\n      <td>\"It has no side effect, I take it in combinati...</td>\n      <td>9</td>\n      <td>20-May-12</td>\n      <td>27</td>\n    </tr>\n    <tr>\n      <th>1</th>\n      <td>95260</td>\n      <td>Guanfacine</td>\n      <td>ADHD</td>\n      <td>\"My son is halfway through his fourth week of ...</td>\n      <td>8</td>\n      <td>27-Apr-10</td>\n      <td>192</td>\n    </tr>\n    <tr>\n      <th>2</th>\n      <td>92703</td>\n      <td>Lybrel</td>\n      <td>Birth Control</td>\n      <td>\"I used to take another oral contraceptive, wh...</td>\n      <td>5</td>\n      <td>14-Dec-09</td>\n      <td>17</td>\n    </tr>\n    <tr>\n      <th>3</th>\n      <td>138000</td>\n      <td>Ortho Evra</td>\n      <td>Birth Control</td>\n      <td>\"This is my first time using any form of birth...</td>\n      <td>8</td>\n      <td>3-Nov-15</td>\n      <td>10</td>\n    </tr>\n    <tr>\n      <th>4</th>\n      <td>35696</td>\n      <td>Buprenorphine / naloxone</td>\n      <td>Opiate Dependence</td>\n      <td>\"Suboxone has completely turned my life around...</td>\n      <td>9</td>\n      <td>27-Nov-16</td>\n      <td>37</td>\n    </tr>\n    <tr>\n      <th>5</th>\n      <td>155963</td>\n      <td>Cialis</td>\n      <td>Benign Prostatic Hyperplasia</td>\n      <td>\"2nd day on 5mg started to work with rock hard...</td>\n      <td>2</td>\n      <td>28-Nov-15</td>\n      <td>43</td>\n    </tr>\n    <tr>\n      <th>6</th>\n      <td>165907</td>\n      <td>Levonorgestrel</td>\n      <td>Emergency Contraception</td>\n      <td>\"He pulled out, but he cummed a bit in me. I t...</td>\n      <td>1</td>\n      <td>7-Mar-17</td>\n      <td>5</td>\n    </tr>\n    <tr>\n      <th>7</th>\n      <td>102654</td>\n      <td>Aripiprazole</td>\n      <td>Bipolar Disorde</td>\n      <td>\"Abilify changed my life. There is hope. I was...</td>\n      <td>10</td>\n      <td>14-Mar-15</td>\n      <td>32</td>\n    </tr>\n    <tr>\n      <th>8</th>\n      <td>74811</td>\n      <td>Keppra</td>\n      <td>Epilepsy</td>\n      <td>\" I Ve had  nothing but problems with the Kepp...</td>\n      <td>1</td>\n      <td>9-Aug-16</td>\n      <td>11</td>\n    </tr>\n    <tr>\n      <th>9</th>\n      <td>48928</td>\n      <td>Ethinyl estradiol / levonorgestrel</td>\n      <td>Birth Control</td>\n      <td>\"I had been on the pill for many years. When m...</td>\n      <td>8</td>\n      <td>8-Dec-16</td>\n      <td>1</td>\n    </tr>\n    <tr>\n      <th>...</th>\n      <td>...</td>\n      <td>...</td>\n      <td>...</td>\n      <td>...</td>\n      <td>...</td>\n      <td>...</td>\n      <td>...</td>\n    </tr>\n    <tr>\n      <th>161287</th>\n      <td>132177</td>\n      <td>Ativan</td>\n      <td>Anxiety</td>\n      <td>\"I was super against taking medication. I&amp;#039...</td>\n      <td>9</td>\n      <td>16-Aug-16</td>\n      <td>61</td>\n    </tr>\n    <tr>\n      <th>161288</th>\n      <td>45410</td>\n      <td>Fluoxetine</td>\n      <td>Obsessive Compulsive Disorde</td>\n      <td>\"I have been off Prozac for about 4 weeks now....</td>\n      <td>8</td>\n      <td>21-Jan-15</td>\n      <td>22</td>\n    </tr>\n    <tr>\n      <th>161289</th>\n      <td>105263</td>\n      <td>Carbamazepine</td>\n      <td>Trigeminal Neuralgia</td>\n      <td>\"Up to 800mg seems to work about once every 2n...</td>\n      <td>1</td>\n      <td>31-Jan-16</td>\n      <td>10</td>\n    </tr>\n    <tr>\n      <th>161290</th>\n      <td>103458</td>\n      <td>Tekturna</td>\n      <td>High Blood Pressure</td>\n      <td>\"I have only been on Tekturna for 9 days. The ...</td>\n      <td>7</td>\n      <td>7-Feb-10</td>\n      <td>18</td>\n    </tr>\n    <tr>\n      <th>161291</th>\n      <td>164345</td>\n      <td>Junel 1.5 / 30</td>\n      <td>Birth Control</td>\n      <td>\"This would be my second month on Junel. I&amp;#03...</td>\n      <td>6</td>\n      <td>27-May-15</td>\n      <td>0</td>\n    </tr>\n    <tr>\n      <th>161292</th>\n      <td>191035</td>\n      <td>Campral</td>\n      <td>Alcohol Dependence</td>\n      <td>\"I wrote my first report in Mid-October of 201...</td>\n      <td>10</td>\n      <td>31-May-15</td>\n      <td>125</td>\n    </tr>\n    <tr>\n      <th>161293</th>\n      <td>127085</td>\n      <td>Metoclopramide</td>\n      <td>Nausea/Vomiting</td>\n      <td>\"I was given this in IV before surgey. I immed...</td>\n      <td>1</td>\n      <td>1-Nov-11</td>\n      <td>34</td>\n    </tr>\n    <tr>\n      <th>161294</th>\n      <td>187382</td>\n      <td>Orencia</td>\n      <td>Rheumatoid Arthritis</td>\n      <td>\"Limited improvement after 4 months, developed...</td>\n      <td>2</td>\n      <td>15-Mar-14</td>\n      <td>35</td>\n    </tr>\n    <tr>\n      <th>161295</th>\n      <td>47128</td>\n      <td>Thyroid desiccated</td>\n      <td>Underactive Thyroid</td>\n      <td>\"I&amp;#039;ve been on thyroid medication 49 years...</td>\n      <td>10</td>\n      <td>19-Sep-15</td>\n      <td>79</td>\n    </tr>\n    <tr>\n      <th>161296</th>\n      <td>215220</td>\n      <td>Lubiprostone</td>\n      <td>Constipation, Chronic</td>\n      <td>\"I&amp;#039;ve had chronic constipation all my adu...</td>\n      <td>9</td>\n      <td>13-Dec-14</td>\n      <td>116</td>\n    </tr>\n  </tbody>\n</table>\n<p>161297 rows × 7 columns</p>\n</div>"
          },
          "metadata": {}
        }
      ]
    },
    {
      "metadata": {
        "trusted": true,
        "_uuid": "8a38176c3a93d028cb73eec4a1e284694aeaa313"
      },
      "cell_type": "code",
      "source": "def clean_review(text):\n    # replace HTML escaped characters and strip outer quotes and spaces\n    return unescape(\n        text.strip(' \"\\'').replace('/', ' ')\n    )\n\nreviews_df.review = reviews_df.review.apply(clean_review)",
      "execution_count": 7,
      "outputs": []
    },
    {
      "metadata": {
        "trusted": true,
        "_uuid": "400fedcf7df704361b330305adb6880e8113b0d1"
      },
      "cell_type": "code",
      "source": "MAX_SEQUENCE_LENGTH = 200\nVOCABULARY_SIZE = 2137",
      "execution_count": 9,
      "outputs": []
    },
    {
      "metadata": {
        "trusted": true,
        "_uuid": "383db92392c4365dfd52e8b9089f5b073369a46b"
      },
      "cell_type": "code",
      "source": "reviews_nlp = nlp.pipe(\n    texts=reviews_df.review.values,\n    disable=['tagger', 'parser', 'ner'],\n)\n\nreviews_df['review_seq'] = None\nreviews_df['review_vector'] = None\n\nfor index, review in zip(reviews_df.index, reviews_nlp):\n    # transform the review to a sequence of vectors\n    seq = [\n        hash(token.lemma_) % VOCABULARY_SIZE\n        for token in review\n    ]\n    reviews_df.at[index, 'review_seq'] = seq\n    reviews_df.at[index, 'review_vector'] = review.vector",
      "execution_count": 10,
      "outputs": []
    },
    {
      "metadata": {
        "trusted": true,
        "_uuid": "90974c9781e0399d81b6d430334023af7996aea6"
      },
      "cell_type": "code",
      "source": "wordcloud = WordCloud(width=800, height=500, random_state=21, max_font_size=110)",
      "execution_count": null,
      "outputs": []
    },
    {
      "metadata": {
        "trusted": true,
        "_uuid": "97de22ee7f0a1976bb98e4bcea7112172a0489d6"
      },
      "cell_type": "code",
      "source": "text = ' '.join(reviews_df.review)",
      "execution_count": null,
      "outputs": []
    },
    {
      "metadata": {
        "trusted": true,
        "_uuid": "926008e3eadf6972234234c95b3be5c88edaa7c7"
      },
      "cell_type": "code",
      "source": "wordcloud.generate(text)",
      "execution_count": null,
      "outputs": []
    },
    {
      "metadata": {
        "trusted": true,
        "_uuid": "352ab89a93320def0bf82c5e769b65d48049a806"
      },
      "cell_type": "code",
      "source": "\nplt.figure(figsize=(15, 12))\nplt.imshow(wordcloud, interpolation=\"bilinear\")\nplt.axis('off')\nplt.show()",
      "execution_count": null,
      "outputs": []
    },
    {
      "metadata": {
        "trusted": true,
        "_uuid": "9c82ee1c52617eece87d795db1da12d872792966"
      },
      "cell_type": "code",
      "source": "sequence_lenghts = np.array([len(s) for s in reviews_df.review_seq])",
      "execution_count": 11,
      "outputs": []
    },
    {
      "metadata": {
        "trusted": true,
        "_uuid": "d9900d13fea47a0d948492e97b34202d5fdda9eb"
      },
      "cell_type": "code",
      "source": "sns.distplot(\n    sequence_lenghts,\n    hist_kws=dict(label='Histogram'),\n    kde=True,\n    kde_kws=dict(label='Kernel Density'),\n    rug=True,\n    norm_hist=False,\n    rug_kws=dict(color='orangered', label='Sample'),\n    axlabel='Sequence Lenght',\n)\nplt.axvline(x=MAX_SEQUENCE_LENGTH, color='yellowgreen', label='Sequence Cutoff Lenght')\nplt.ylabel('Density')\nplt.legend();",
      "execution_count": null,
      "outputs": []
    },
    {
      "metadata": {
        "trusted": true,
        "_uuid": "c239602eff73b5f3e7aa873576f706c01eb0ba57"
      },
      "cell_type": "code",
      "source": "sns.distplot(sequence_lenghts, kde=False)\nplt.gca().set_yscale('log')\nplt.axvline(x=MAX_SEQUENCE_LENGTH, color='yellowgreen');",
      "execution_count": null,
      "outputs": []
    },
    {
      "metadata": {
        "trusted": true,
        "_uuid": "454c1df2422e982543bea15cb77249850e28d3e7"
      },
      "cell_type": "code",
      "source": "sum(sequence_lenghts > MAX_SEQUENCE_LENGTH)/len(sequence_lenghts)",
      "execution_count": null,
      "outputs": []
    },
    {
      "metadata": {
        "trusted": true,
        "_uuid": "722bc42ef7151da5c3e4ef562e2f96b67072ed95"
      },
      "cell_type": "code",
      "source": "x_train = keras.preprocessing.sequence.pad_sequences(reviews_df.review_seq, maxlen=MAX_SEQUENCE_LENGTH)",
      "execution_count": 12,
      "outputs": []
    },
    {
      "metadata": {
        "trusted": true,
        "_uuid": "ba0837ffd8ca56f74eb82d01efaa15ee742441bf"
      },
      "cell_type": "code",
      "source": "y_train = reviews_df.rating.values / 10",
      "execution_count": 13,
      "outputs": []
    },
    {
      "metadata": {
        "trusted": true,
        "_uuid": "bdef422dbe24af8d54074b01ee11999503cb868a"
      },
      "cell_type": "code",
      "source": "# plotting\n\ndef plot_history(history, skip_first_n_epochs=0):\n    \"\"\"Show information about the training\"\"\"\n    \n    # plot every train-valid metric pair separately\n    for metric in history:\n        if not metric.startswith('val_'):\n            x = np.arange(len(history[metric]))+1\n\n            y_train = history[metric][skip_first_n_epochs:]\n            y_valid = history['val_'+metric][skip_first_n_epochs:]\n\n            # make the plots\n            plt.plot(x, y_train)\n            plt.plot(x, y_valid)\n\n            # add a legend\n            plt.legend([metric, 'val_'+metric], fontsize='large')\n\n            # title with min/max stats\n            plt.title(\n                f'{metric.upper()} - '\n                f'min/max [train: {min(y_train):.3f}/{max(y_train):.3f}, '\n                f'valid: {min(y_valid):.3f}/{max(y_valid):.3f}]'\n            )\n            \n            # label and show\n            plt.xlabel('epoch')\n            plt.show()",
      "execution_count": 14,
      "outputs": []
    },
    {
      "metadata": {
        "_uuid": "043aec47574c1e62321af572b71f163a3afd795c",
        "trusted": true
      },
      "cell_type": "code",
      "source": "model_input = layers.Input(shape=x_train.shape[1:], dtype='int32')\n\nbranch_a = layers.Embedding(VOCABULARY_SIZE, output_dim=256)(model_input)\nbranch_a = layers.CuDNNLSTM(128)(branch_a)\n\nbranch_b = layers.Embedding(VOCABULARY_SIZE, output_dim=256)(model_input)\nbranch_b = layers.Conv1D(16, 3, padding='same', activation='relu')(branch_b)\nbranch_b = layers.BatchNormalization()(branch_b)\nbranch_b = layers.MaxPool1D(2)(branch_b)\n\nbranch_b = layers.Conv1D(32, 3, padding='same', activation='relu')(branch_b)\nbranch_b = layers.BatchNormalization()(branch_b)\nbranch_b = layers.MaxPool1D(2)(branch_b)\n\nbranch_b = layers.Conv1D(64, 3, padding='same', activation='relu')(branch_b)\nbranch_b = layers.BatchNormalization()(branch_b)\nbranch_b = layers.MaxPool1D(2)(branch_b)\n\nbranch_b = layers.Conv1D(128, 3, padding='same', activation='relu')(branch_b)\nbranch_b = layers.BatchNormalization()(branch_b)\nbranch_b = layers.GlobalMaxPool1D()(branch_b)\n\n# model_top = branch_a\n\nmodel_top = layers.concatenate([branch_a, branch_b])\nmodel_top = layers.Dropout(0.2)(model_top)\nmodel_top = layers.Dense(64, activation='relu')(model_top)\nmodel_top = layers.Dropout(0.2)(model_top)\nmodel_top = layers.Dense(64, activation='relu')(model_top)\nmodel_top = layers.BatchNormalization()(model_top)\nmodel_top = layers.Dropout(0.2)(model_top)\nmodel_output = layers.Dense(1, activation='linear')(model_top)\n\nmodel = keras.models.Model(\n    inputs=model_input,\n    outputs=model_output,\n)\nmodel.summary()",
      "execution_count": 95,
      "outputs": [
        {
          "output_type": "stream",
          "text": "__________________________________________________________________________________________________\nLayer (type)                    Output Shape         Param #     Connected to                     \n==================================================================================================\ninput_13 (InputLayer)           (None, 200)          0                                            \n__________________________________________________________________________________________________\nembedding_17 (Embedding)        (None, 200, 256)     547072      input_13[0][0]                   \n__________________________________________________________________________________________________\nconv1d_42 (Conv1D)              (None, 200, 16)      12304       embedding_17[0][0]               \n__________________________________________________________________________________________________\nbatch_normalization_50 (BatchNo (None, 200, 16)      64          conv1d_42[0][0]                  \n__________________________________________________________________________________________________\nmax_pooling1d_31 (MaxPooling1D) (None, 100, 16)      0           batch_normalization_50[0][0]     \n__________________________________________________________________________________________________\nconv1d_43 (Conv1D)              (None, 100, 32)      1568        max_pooling1d_31[0][0]           \n__________________________________________________________________________________________________\nbatch_normalization_51 (BatchNo (None, 100, 32)      128         conv1d_43[0][0]                  \n__________________________________________________________________________________________________\nmax_pooling1d_32 (MaxPooling1D) (None, 50, 32)       0           batch_normalization_51[0][0]     \n__________________________________________________________________________________________________\nconv1d_44 (Conv1D)              (None, 50, 64)       6208        max_pooling1d_32[0][0]           \n__________________________________________________________________________________________________\nbatch_normalization_52 (BatchNo (None, 50, 64)       256         conv1d_44[0][0]                  \n__________________________________________________________________________________________________\nmax_pooling1d_33 (MaxPooling1D) (None, 25, 64)       0           batch_normalization_52[0][0]     \n__________________________________________________________________________________________________\nconv1d_45 (Conv1D)              (None, 25, 128)      24704       max_pooling1d_33[0][0]           \n__________________________________________________________________________________________________\nembedding_16 (Embedding)        (None, 200, 256)     547072      input_13[0][0]                   \n__________________________________________________________________________________________________\nbatch_normalization_53 (BatchNo (None, 25, 128)      512         conv1d_45[0][0]                  \n__________________________________________________________________________________________________\ncu_dnnlstm_14 (CuDNNLSTM)       (None, 128)          197632      embedding_16[0][0]               \n__________________________________________________________________________________________________\nglobal_max_pooling1d_11 (Global (None, 128)          0           batch_normalization_53[0][0]     \n__________________________________________________________________________________________________\nconcatenate_10 (Concatenate)    (None, 256)          0           cu_dnnlstm_14[0][0]              \n                                                                 global_max_pooling1d_11[0][0]    \n__________________________________________________________________________________________________\ndropout_17 (Dropout)            (None, 256)          0           concatenate_10[0][0]             \n__________________________________________________________________________________________________\ndense_17 (Dense)                (None, 64)           16448       dropout_17[0][0]                 \n__________________________________________________________________________________________________\ndropout_18 (Dropout)            (None, 64)           0           dense_17[0][0]                   \n__________________________________________________________________________________________________\ndense_18 (Dense)                (None, 64)           4160        dropout_18[0][0]                 \n__________________________________________________________________________________________________\nbatch_normalization_54 (BatchNo (None, 64)           256         dense_18[0][0]                   \n__________________________________________________________________________________________________\ndropout_19 (Dropout)            (None, 64)           0           batch_normalization_54[0][0]     \n__________________________________________________________________________________________________\ndense_19 (Dense)                (None, 1)            65          dropout_19[0][0]                 \n==================================================================================================\nTotal params: 1,358,449\nTrainable params: 1,357,841\nNon-trainable params: 608\n__________________________________________________________________________________________________\n",
          "name": "stdout"
        }
      ]
    },
    {
      "metadata": {
        "_uuid": "043aec47574c1e62321af572b71f163a3afd795c",
        "trusted": true
      },
      "cell_type": "code",
      "source": "model.compile(\n    optimizer='adam',\n    loss='mae',\n)",
      "execution_count": 96,
      "outputs": []
    },
    {
      "metadata": {
        "trusted": true,
        "_uuid": "d9448aa560a722352880627a5aa2767e0d93767a"
      },
      "cell_type": "code",
      "source": "x = x_train[-500:]\ny = y_train[-500:]\ny, x = zip(*sorted(zip(y, x), key=lambda pair: pair[0]))\nx = np.array(x)\nyh = model.predict(x).ravel()",
      "execution_count": 93,
      "outputs": []
    },
    {
      "metadata": {
        "trusted": true,
        "_uuid": "8eaf0065a514d7a050d0e08722349fe8d41ca97c"
      },
      "cell_type": "code",
      "source": "plt.plot(y, '.')\nplt.plot(yh, '.');",
      "execution_count": 94,
      "outputs": [
        {
          "output_type": "display_data",
          "data": {
            "text/plain": "<Figure size 1296x576 with 1 Axes>",
            "image/png": "[encoded data removed]"
          },
          "metadata": {}
        }
      ]
    },
    {
      "metadata": {
        "_uuid": "db91fa575c01c026ca1547237960fa1125fa3d95",
        "trusted": true,
        "scrolled": false
      },
      "cell_type": "code",
      "source": "history = model.fit(\n    x=x_train,\n    y=y_train,\n    batch_size=256,\n    epochs=120,\n    verbose=1,\n    validation_split=0.25,\n    callbacks=[\n        keras.callbacks.ModelCheckpoint(\n            'model-epoch_{epoch:02d}-val_loss_{val_loss:.2f}.hdf5',\n            monitor='val_loss',\n            verbose=0,\n            save_best_only=True,\n            save_weights_only=False,\n            mode='auto',\n            period=1,\n        ),\n    ],\n)\n\nplot_history(history.history)",
      "execution_count": null,
      "outputs": []
    }
  ],
  "metadata": {
    "kernelspec": {
      "display_name": "Python 3",
      "language": "python",
      "name": "python3"
    },
    "language_info": {
      "name": "python",
      "version": "3.6.6",
      "mimetype": "text/x-python",
      "codemirror_mode": {
        "name": "ipython",
        "version": 3
      },
      "pygments_lexer": "ipython3",
      "nbconvert_exporter": "python",
      "file_extension": ".py"
    }
  },
  "nbformat": 4,
  "nbformat_minor": 1
}