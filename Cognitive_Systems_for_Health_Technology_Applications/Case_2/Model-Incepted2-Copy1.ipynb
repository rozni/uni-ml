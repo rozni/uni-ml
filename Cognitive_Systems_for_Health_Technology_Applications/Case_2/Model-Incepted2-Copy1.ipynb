{
 "cells": [
  {
   "cell_type": "markdown",
   "metadata": {
    "colab_type": "text",
    "id": "uCj0slOztSEN"
   },
   "source": [
    "# Model description\n",
    "## (this model is still being trained, it should be ready in about 2 hours, I will recommit the new version)\n",
    "\n",
    "This was the best performing model we found.\n",
    "\n",
    "It is based on InceptionV3 model pretrained on ImageNet,\n",
    "we put our own classifier on top, we frozed the weights of the base\n",
    "and we trained only the top for a few epochs.\n",
    "Then we thawed all the layers and have been training whole model.\n",
    "\n",
    "During the first training, this model was reaching 75% accuracy on\n",
    "a balanced dataset (we trained on equal amount of eyes with and without symptoms for easier assesment).\n",
    "This model seemed to perform the best on images preprocessed by\n",
    "Contrast Limited Adaptive Histogram Equalization (CLAHE), to read more about how we preprocessed\n",
    "our images open [this](https://github.com/rozni/uni-ml/blob/master/Cognitive_Systems_for_Health_Technology_Applications/Case_2/Image_Preprocessing.ipynb) notebook and [here](https://github.com/rozni/uni-ml/tree/master/Cognitive_Systems_for_Health_Technology_Applications/Case_2) is the full report.\n",
    "\n",
    "We also tried NASNetLarge and MobileNetV2 as our base model,\n",
    "however, InceptionV3 is a simplier and easier to train model,\n",
    "so it was faster to reach better results."
   ]
  },
  {
   "cell_type": "code",
   "execution_count": 1,
   "metadata": {
    "_uuid": "e4d5827277fb8fef6c02bbc3e73c683d0cb0e757",
    "colab": {},
    "colab_type": "code",
    "id": "S5SNRUGJl3w8"
   },
   "outputs": [],
   "source": [
    "import os\n",
    "import pandas as pd\n",
    "\n",
    "import matplotlib.pyplot as plt\n",
    "import seaborn as sns"
   ]
  },
  {
   "cell_type": "code",
   "execution_count": 2,
   "metadata": {
    "_uuid": "c6bb95154418bcb49b1e22c0fc4c30e8cfa8e167",
    "colab": {
     "base_uri": "https://localhost:8080/",
     "height": 36
    },
    "colab_type": "code",
    "id": "oeGCr9NSl3xE",
    "outputId": "56fdc6d5-4792-48ed-aed0-e5dd18f6b531"
   },
   "outputs": [
    {
     "name": "stderr",
     "output_type": "stream",
     "text": [
      "Using TensorFlow backend.\n"
     ]
    }
   ],
   "source": [
    "import keras\n",
    "from keras import layers, regularizers\n",
    "from keras.applications.inception_v3 import InceptionV3\n",
    "from keras.preprocessing import image\n",
    "from keras.models import Model\n",
    "from keras.layers import Dense, GlobalAveragePooling2D\n",
    "from keras import backend as K"
   ]
  },
  {
   "cell_type": "code",
   "execution_count": 24,
   "metadata": {
    "_uuid": "bf80d39ff72dc4a25d540f8595bdb04dcd7e1df7",
    "colab": {},
    "colab_type": "code",
    "id": "Xie-_6c9l3xJ"
   },
   "outputs": [],
   "source": [
    "BASE_DIR = '/Share/dr/'\n",
    "TRAIN_DIR = '500x500_cropped_clahe_128/'\n",
    "TARGET_SIZE = (299, 299)"
   ]
  },
  {
   "cell_type": "code",
   "execution_count": 7,
   "metadata": {
    "_uuid": "7613ca0305a7779170840b100705ab24422c43da",
    "colab": {},
    "colab_type": "code",
    "id": "upf5WHO4l3xM"
   },
   "outputs": [],
   "source": [
    "# load the labels and balance the training set\n",
    "labels_df = pd.read_csv(os.path.join(BASE_DIR, 'labels.csv'))\n",
    "\n",
    "# balance classes\n",
    "fifty_fifty_subset = pd.concat([\n",
    "    labels_df[labels_df['class']=='symptoms'].sample(n=9000, random_state=0),\n",
    "    labels_df[labels_df['class']=='nosymptoms'].sample(n=9000, random_state=0)\n",
    "]).sample(frac=1.0, random_state=0) # shuffle\n",
    "\n",
    "# training/validation split (70% to 30%)\n",
    "split = 70*len(fifty_fifty_subset)//100\n",
    "train_df = fifty_fifty_subset.iloc[:split]\n",
    "valid_df = fifty_fifty_subset.iloc[split:]\n",
    "test_df = pd.read_csv('/Share/dr/orig/test_labels.csv')"
   ]
  },
  {
   "cell_type": "code",
   "execution_count": 28,
   "metadata": {},
   "outputs": [
    {
     "data": {
      "text/html": [
       "<div>\n",
       "<style scoped>\n",
       "    .dataframe tbody tr th:only-of-type {\n",
       "        vertical-align: middle;\n",
       "    }\n",
       "\n",
       "    .dataframe tbody tr th {\n",
       "        vertical-align: top;\n",
       "    }\n",
       "\n",
       "    .dataframe thead th {\n",
       "        text-align: right;\n",
       "    }\n",
       "</style>\n",
       "<table border=\"1\" class=\"dataframe\">\n",
       "  <thead>\n",
       "    <tr style=\"text-align: right;\">\n",
       "      <th></th>\n",
       "      <th>image</th>\n",
       "      <th>level</th>\n",
       "      <th>Usage</th>\n",
       "      <th>class</th>\n",
       "      <th>src_name</th>\n",
       "      <th>file_name</th>\n",
       "    </tr>\n",
       "  </thead>\n",
       "  <tbody>\n",
       "    <tr>\n",
       "      <th>0</th>\n",
       "      <td>1_left</td>\n",
       "      <td>0</td>\n",
       "      <td>Private</td>\n",
       "      <td>nosymptoms</td>\n",
       "      <td>1_left.jpeg</td>\n",
       "      <td>test/1_left.jpeg</td>\n",
       "    </tr>\n",
       "    <tr>\n",
       "      <th>1</th>\n",
       "      <td>1_right</td>\n",
       "      <td>0</td>\n",
       "      <td>Private</td>\n",
       "      <td>nosymptoms</td>\n",
       "      <td>1_right.jpeg</td>\n",
       "      <td>test/1_right.jpeg</td>\n",
       "    </tr>\n",
       "    <tr>\n",
       "      <th>2</th>\n",
       "      <td>2_left</td>\n",
       "      <td>0</td>\n",
       "      <td>Public</td>\n",
       "      <td>nosymptoms</td>\n",
       "      <td>2_left.jpeg</td>\n",
       "      <td>test/2_left.jpeg</td>\n",
       "    </tr>\n",
       "    <tr>\n",
       "      <th>3</th>\n",
       "      <td>2_right</td>\n",
       "      <td>0</td>\n",
       "      <td>Public</td>\n",
       "      <td>nosymptoms</td>\n",
       "      <td>2_right.jpeg</td>\n",
       "      <td>test/2_right.jpeg</td>\n",
       "    </tr>\n",
       "    <tr>\n",
       "      <th>4</th>\n",
       "      <td>3_left</td>\n",
       "      <td>2</td>\n",
       "      <td>Private</td>\n",
       "      <td>symptoms</td>\n",
       "      <td>3_left.jpeg</td>\n",
       "      <td>test/3_left.jpeg</td>\n",
       "    </tr>\n",
       "  </tbody>\n",
       "</table>\n",
       "</div>"
      ],
      "text/plain": [
       "     image  level    Usage       class      src_name          file_name\n",
       "0   1_left      0  Private  nosymptoms   1_left.jpeg   test/1_left.jpeg\n",
       "1  1_right      0  Private  nosymptoms  1_right.jpeg  test/1_right.jpeg\n",
       "2   2_left      0   Public  nosymptoms   2_left.jpeg   test/2_left.jpeg\n",
       "3  2_right      0   Public  nosymptoms  2_right.jpeg  test/2_right.jpeg\n",
       "4   3_left      2  Private    symptoms   3_left.jpeg   test/3_left.jpeg"
      ]
     },
     "execution_count": 28,
     "metadata": {},
     "output_type": "execute_result"
    }
   ],
   "source": [
    "test_df.head()"
   ]
  },
  {
   "cell_type": "code",
   "execution_count": 27,
   "metadata": {},
   "outputs": [],
   "source": [
    "test_df['file_name'] = 'test/'+test_df.src_name"
   ]
  },
  {
   "cell_type": "code",
   "execution_count": 72,
   "metadata": {
    "_uuid": "1422aacf308f406420fd420f0967adced87ee48c",
    "colab": {
     "base_uri": "https://localhost:8080/",
     "height": 55
    },
    "colab_type": "code",
    "id": "VmRq80QUl3xQ",
    "outputId": "678f8752-ea8f-4afe-eeb4-72cf56e62548"
   },
   "outputs": [
    {
     "name": "stdout",
     "output_type": "stream",
     "text": [
      "Found 12600 images belonging to 2 classes.\n",
      "Found 5400 images belonging to 2 classes.\n",
      "Found 53576 images belonging to 2 classes.\n"
     ]
    }
   ],
   "source": [
    "# set up image geterators\n",
    "\n",
    "common_flow_kwargs = dict(\n",
    "    directory=os.path.join(BASE_DIR, TRAIN_DIR),\n",
    "    x_col='file_name',\n",
    "    y_col='class',\n",
    "    target_size=TARGET_SIZE,\n",
    "    batch_size=32,\n",
    "    class_mode='binary',\n",
    ")\n",
    "\n",
    "train_gen = keras.preprocessing.image.ImageDataGenerator(\n",
    "    rotation_range=360,\n",
    "    fill_mode='nearest',\n",
    "    horizontal_flip=True,\n",
    "    rescale=1/255,\n",
    ").flow_from_dataframe(\n",
    "    dataframe=train_df,\n",
    "    **common_flow_kwargs,\n",
    ")\n",
    "\n",
    "valid_gen = keras.preprocessing.image.ImageDataGenerator(\n",
    "    rescale=1./255,\n",
    ").flow_from_dataframe(\n",
    "    dataframe=valid_df,\n",
    "    shuffle=False,\n",
    "    **common_flow_kwargs,\n",
    ")\n",
    "\n",
    "test_gen = keras.preprocessing.image.ImageDataGenerator(\n",
    "    rescale=1./255,\n",
    ").flow_from_dataframe(\n",
    "    dataframe=test_df,\n",
    "    shuffle=False,\n",
    "    **common_flow_kwargs\n",
    ")"
   ]
  },
  {
   "cell_type": "code",
   "execution_count": 30,
   "metadata": {
    "_uuid": "6c7036448b296de6040a284053b56e8652e89024",
    "colab": {
     "base_uri": "https://localhost:8080/",
     "height": 151
    },
    "colab_type": "code",
    "id": "NpZ2NCvwl3xT",
    "outputId": "434e7211-59dd-4c02-a10b-2c4b4dac4f9d"
   },
   "outputs": [
    {
     "name": "stdout",
     "output_type": "stream",
     "text": [
      "Downloading data from https://github.com/fchollet/deep-learning-models/releases/download/v0.5/inception_v3_weights_tf_dim_ordering_tf_kernels_notop.h5\n",
      "87916544/87910968 [==============================] - 22s 0us/step\n"
     ]
    }
   ],
   "source": [
    "# create the base pre-trained model\n",
    "base_model = InceptionV3(weights='imagenet', include_top=False)\n",
    "\n",
    "# add a global spatial average pooling layer\n",
    "x = base_model.output\n",
    "x = layers.GlobalAveragePooling2D()(x)\n",
    "# add a classifier\n",
    "x = layers.Dropout(0.3)(x)\n",
    "x = layers.BatchNormalization()(x)\n",
    "x = layers.Dense(64, activation='elu')(x)\n",
    "x = layers.BatchNormalization()(x)\n",
    "x = layers.Dense(32, activation='elu')(x)\n",
    "x = layers.BatchNormalization()(x)\n",
    "x = layers.Dense(16, activation='elu')(x)\n",
    "output = layers.Dense(1, activation='sigmoid')(x)\n",
    "\n",
    "# this is the final model\n",
    "model = Model(inputs=base_model.input, outputs=output)"
   ]
  },
  {
   "cell_type": "code",
   "execution_count": 33,
   "metadata": {},
   "outputs": [],
   "source": [
    "model.load_weights('Inception-e11-vl0.51-va0.742.hdf5')"
   ]
  },
  {
   "cell_type": "code",
   "execution_count": 71,
   "metadata": {},
   "outputs": [],
   "source": [
    "valid_gen.reset()"
   ]
  },
  {
   "cell_type": "code",
   "execution_count": 75,
   "metadata": {},
   "outputs": [],
   "source": [
    "y_true = valid_gen.classes"
   ]
  },
  {
   "cell_type": "code",
   "execution_count": 69,
   "metadata": {},
   "outputs": [],
   "source": [
    "x1, y1 = next(valid_gen)"
   ]
  },
  {
   "cell_type": "code",
   "execution_count": 73,
   "metadata": {},
   "outputs": [],
   "source": [
    "pred = model.predict_generator(valid_gen, steps=pd.np.ceil(valid_gen.n/valid_gen.batch_size))"
   ]
  },
  {
   "cell_type": "code",
   "execution_count": 142,
   "metadata": {},
   "outputs": [],
   "source": [
    "test_pred = model.predict_generator(test_gen, steps=pd.np.ceil(test_gen.n/test_gen.batch_size))"
   ]
  },
  {
   "cell_type": "code",
   "execution_count": 76,
   "metadata": {},
   "outputs": [],
   "source": [
    "y_pred = 1*(pred > 0.5)"
   ]
  },
  {
   "cell_type": "code",
   "execution_count": 143,
   "metadata": {},
   "outputs": [],
   "source": [
    "test_true = test_gen.classes"
   ]
  },
  {
   "cell_type": "code",
   "execution_count": 145,
   "metadata": {},
   "outputs": [],
   "source": [
    "test_y = 1*(test_pred > 0.5)"
   ]
  },
  {
   "cell_type": "code",
   "execution_count": 51,
   "metadata": {},
   "outputs": [
    {
     "data": {
      "text/plain": [
       "5400"
      ]
     },
     "execution_count": 51,
     "metadata": {},
     "output_type": "execute_result"
    }
   ],
   "source": [
    "len(pred)"
   ]
  },
  {
   "cell_type": "code",
   "execution_count": 77,
   "metadata": {},
   "outputs": [],
   "source": [
    "predict = pred"
   ]
  },
  {
   "cell_type": "code",
   "execution_count": 78,
   "metadata": {},
   "outputs": [
    {
     "name": "stdout",
     "output_type": "stream",
     "text": [
      "Confusion matrix:\n",
      "[[2450  186]\n",
      " [1219 1545]]\n",
      "\n",
      "Classification report:\n",
      "              precision    recall  f1-score   support\n",
      "\n",
      "           0       0.67      0.93      0.78      2636\n",
      "           1       0.89      0.56      0.69      2764\n",
      "\n",
      "   micro avg       0.74      0.74      0.74      5400\n",
      "   macro avg       0.78      0.74      0.73      5400\n",
      "weighted avg       0.78      0.74      0.73      5400\n",
      "\n",
      "\n"
     ]
    }
   ],
   "source": [
    "from sklearn.metrics import confusion_matrix, cohen_kappa_score, classification_report\n",
    "cm = confusion_matrix(y_true, y_pred)\n",
    "print('Confusion matrix:')\n",
    "print(cm)\n",
    "print('')\n",
    "\n",
    "cr = classification_report(y_true, y_pred)\n",
    "print('Classification report:')\n",
    "print(cr)\n",
    "print('')"
   ]
  },
  {
   "cell_type": "code",
   "execution_count": 146,
   "metadata": {},
   "outputs": [
    {
     "name": "stdout",
     "output_type": "stream",
     "text": [
      "Confusion matrix:\n",
      "[[37032  2501]\n",
      " [ 6462  7581]]\n",
      "\n",
      "Classification report:\n",
      "              precision    recall  f1-score   support\n",
      "\n",
      "           0       0.85      0.94      0.89     39533\n",
      "           1       0.75      0.54      0.63     14043\n",
      "\n",
      "   micro avg       0.83      0.83      0.83     53576\n",
      "   macro avg       0.80      0.74      0.76     53576\n",
      "weighted avg       0.83      0.83      0.82     53576\n",
      "\n",
      "\n"
     ]
    }
   ],
   "source": [
    "from sklearn.metrics import confusion_matrix, cohen_kappa_score, classification_report\n",
    "cm = confusion_matrix(test_true, test_y)\n",
    "print('Confusion matrix:')\n",
    "print(cm)\n",
    "print('')\n",
    "\n",
    "cr = classification_report(test_true, test_y)\n",
    "print('Classification report:')\n",
    "print(cr)\n",
    "print('')"
   ]
  },
  {
   "cell_type": "code",
   "execution_count": 147,
   "metadata": {},
   "outputs": [
    {
     "name": "stdout",
     "output_type": "stream",
     "text": [
      "0.8327049425115723\n",
      "Accuracy with old decision point 0.5000 ==> 0.8327\n"
     ]
    }
   ],
   "source": [
    "from sklearn.metrics import accuracy_score\n",
    "a = accuracy_score(test_true, (test_y))\n",
    "print(a)\n",
    "print('Accuracy with old decision point {:.4f} ==> {:.4f}'.format(0.5, a))\n"
   ]
  },
  {
   "cell_type": "code",
   "execution_count": 85,
   "metadata": {},
   "outputs": [],
   "source": [
    "import numpy as np"
   ]
  },
  {
   "cell_type": "code",
   "execution_count": 88,
   "metadata": {},
   "outputs": [],
   "source": [
    "dps = np.linspace(0.3, 0.7, 100).reshape(-1, 1)"
   ]
  },
  {
   "cell_type": "code",
   "execution_count": 98,
   "metadata": {},
   "outputs": [],
   "source": [
    "ones = np.ones_like(pred)"
   ]
  },
  {
   "cell_type": "code",
   "execution_count": 99,
   "metadata": {},
   "outputs": [],
   "source": [
    "M = dps@ones.T"
   ]
  },
  {
   "cell_type": "code",
   "execution_count": 133,
   "metadata": {},
   "outputs": [
    {
     "data": {
      "text/plain": [
       "True"
      ]
     },
     "execution_count": 133,
     "metadata": {},
     "output_type": "execute_result"
    }
   ],
   "source": [
    "np.all((M < pred.T)[0] == (M[0]<pred.ravel()))"
   ]
  },
  {
   "cell_type": "code",
   "execution_count": 140,
   "metadata": {},
   "outputs": [
    {
     "data": {
      "text/plain": [
       "0.7527777777777778"
      ]
     },
     "execution_count": 140,
     "metadata": {},
     "output_type": "execute_result"
    }
   ],
   "source": [
    "max(((M < pred.T) == y_true).sum(axis=1)/5400)"
   ]
  },
  {
   "cell_type": "code",
   "execution_count": 139,
   "metadata": {},
   "outputs": [
    {
     "data": {
      "text/plain": [
       "array([0.3969697])"
      ]
     },
     "execution_count": 139,
     "metadata": {},
     "output_type": "execute_result"
    }
   ],
   "source": [
    "dps[24]"
   ]
  },
  {
   "cell_type": "code",
   "execution_count": 83,
   "metadata": {},
   "outputs": [
    {
     "name": "stdout",
     "output_type": "stream",
     "text": [
      "[[ True]\n",
      " [False]\n",
      " [ True]\n",
      " ...\n",
      " [False]\n",
      " [False]\n",
      " [ True]]\n",
      "\n",
      "Confusion matrix:\n",
      "[[2304  332]\n",
      " [1012 1752]]\n",
      "\n",
      "Classification report:\n",
      "              precision    recall  f1-score   support\n",
      "\n",
      "           0       0.69      0.87      0.77      2636\n",
      "           1       0.84      0.63      0.72      2764\n",
      "\n",
      "   micro avg       0.75      0.75      0.75      5400\n",
      "   macro avg       0.77      0.75      0.75      5400\n",
      "weighted avg       0.77      0.75      0.75      5400\n",
      "\n",
      "\n"
     ]
    }
   ],
   "source": [
    "# Try different decision point\n",
    "dp = 0.4\n",
    "cm = confusion_matrix(y_true, (predict > dp))\n",
    "print((predict>dp))\n",
    "print('')\n",
    "\n",
    "print('Confusion matrix:')\n",
    "print(cm)\n",
    "print('')\n",
    "\n",
    "cr = classification_report(y_true, (predict > dp))\n",
    "print('Classification report:')\n",
    "print(cr)\n",
    "print('')"
   ]
  },
  {
   "cell_type": "code",
   "execution_count": 84,
   "metadata": {},
   "outputs": [
    {
     "name": "stdout",
     "output_type": "stream",
     "text": [
      "0.7511111111111111\n",
      "Accuracy with new decision point 0.4000 ==> 0.7511\n"
     ]
    }
   ],
   "source": [
    "from sklearn.metrics import accuracy_score\n",
    "a = accuracy_score(y_true, (predict > dp))\n",
    "print(a)\n",
    "print('Accuracy with new decision point {:.4f} ==> {:.4f}'.format(dp, a))"
   ]
  },
  {
   "cell_type": "code",
   "execution_count": 141,
   "metadata": {},
   "outputs": [
    {
     "data": {
      "image/png": "[encoded data removed]",
      "text/plain": [
       "<Figure size 432x288 with 1 Axes>"
      ]
     },
     "metadata": {
      "needs_background": "light"
     },
     "output_type": "display_data"
    }
   ],
   "source": [
    "# Calculate and plot ROC-curve\n",
    "# See: https://scikit-learn.org/stable/modules/generated/sklearn.metrics.roc_curve.html\n",
    "from sklearn.metrics import roc_curve\n",
    "\n",
    "fpr, tpr, thresholds = roc_curve(y_true, predict) \n",
    "\n",
    "plt.plot(fpr, tpr, color='darkorange', lw = 2)\n",
    "plt.plot([0, 1], [0, 1], color='navy', lw = 2, linestyle='--')\n",
    "plt.xlim([0.0, 1.0])\n",
    "plt.ylim([0.0, 1.05])\n",
    "plt.xlabel('False Positive Rate')\n",
    "plt.ylabel('True Positive Rate')\n",
    "plt.title('Receiver operating characteristic curve')\n",
    "plt.show()\n"
   ]
  },
  {
   "cell_type": "code",
   "execution_count": 0,
   "metadata": {
    "_uuid": "d283bb9a8a620623bcca158373ac0f46c5f59a14",
    "colab": {},
    "colab_type": "code",
    "id": "w5ZWSoCyl3xV"
   },
   "outputs": [],
   "source": [
    "# train only the top layers\n",
    "for layer in base_model.layers:\n",
    "    layer.trainable = False\n",
    "\n",
    "# compile the model\n",
    "model.compile(\n",
    "    optimizer='rmsprop',\n",
    "    loss='binary_crossentropy',\n",
    "    metrics=['acc']\n",
    ")"
   ]
  },
  {
   "cell_type": "code",
   "execution_count": 0,
   "metadata": {
    "_uuid": "ca10552910aac2391fa456fc575f0ce857cfef9a",
    "colab": {
     "base_uri": "https://localhost:8080/",
     "height": 321
    },
    "colab_type": "code",
    "id": "amIJYaP1l3xY",
    "outputId": "05f9c8d3-a12b-4776-bf41-1d3a736ded18"
   },
   "outputs": [
    {
     "name": "stdout",
     "output_type": "stream",
     "text": [
      "WARNING:tensorflow:From /usr/local/lib/python3.6/dist-packages/tensorflow/python/ops/math_ops.py:3066: to_int32 (from tensorflow.python.ops.math_ops) is deprecated and will be removed in a future version.\n",
      "Instructions for updating:\n",
      "Use tf.cast instead.\n",
      "Epoch 1/6\n",
      "393/393 [==============================] - 413s 1s/step - loss: 0.6744 - acc: 0.5953 - val_loss: 0.7152 - val_acc: 0.5240\n",
      "Epoch 2/6\n",
      "393/393 [==============================] - 399s 1s/step - loss: 0.6494 - acc: 0.6174 - val_loss: 0.7222 - val_acc: 0.5175\n",
      "Epoch 3/6\n",
      "393/393 [==============================] - 397s 1s/step - loss: 0.6443 - acc: 0.6209 - val_loss: 0.7481 - val_acc: 0.5002\n",
      "Epoch 4/6\n",
      "393/393 [==============================] - 398s 1s/step - loss: 0.6424 - acc: 0.6236 - val_loss: 0.7310 - val_acc: 0.4961\n",
      "Epoch 5/6\n",
      "393/393 [==============================] - 398s 1s/step - loss: 0.6356 - acc: 0.6360 - val_loss: 0.7121 - val_acc: 0.5216\n",
      "Epoch 6/6\n",
      "393/393 [==============================] - 397s 1s/step - loss: 0.6368 - acc: 0.6306 - val_loss: 0.7309 - val_acc: 0.4968\n"
     ]
    },
    {
     "data": {
      "text/plain": [
       "<keras.callbacks.History at 0x7f00d49bddd8>"
      ]
     },
     "execution_count": 8,
     "metadata": {
      "tags": []
     },
     "output_type": "execute_result"
    }
   ],
   "source": [
    "# train the top of the model\n",
    "model.fit_generator(\n",
    "      train_gen,\n",
    "      steps_per_epoch=train_gen.n//train_gen.batch_size,\n",
    "      epochs=6,\n",
    "      validation_data=valid_gen,\n",
    "      validation_steps=valid_gen.n//valid_gen.batch_size,\n",
    ")"
   ]
  },
  {
   "cell_type": "code",
   "execution_count": 0,
   "metadata": {
    "_uuid": "ecbdd4a67ac628346ab664de670f4b708a1a154e",
    "colab": {},
    "colab_type": "code",
    "id": "n7XTQ4KMl3xb"
   },
   "outputs": [],
   "source": [
    "# make all layers trainable\n",
    "for layer in model.layers:\n",
    "    layer.trainable = True"
   ]
  },
  {
   "cell_type": "code",
   "execution_count": 11,
   "metadata": {
    "_uuid": "114ff4044470fb1c94512107864a58993de3dc1e",
    "colab": {
     "base_uri": "https://localhost:8080/",
     "height": 2696
    },
    "colab_type": "code",
    "id": "awjI8k6Pl3xd",
    "outputId": "8b18d3a8-57f8-4021-c0ef-4d15c6f2a23f",
    "scrolled": true
   },
   "outputs": [
    {
     "name": "stdout",
     "output_type": "stream",
     "text": [
      "Epoch 1/35\n",
      "393/393 [==============================] - 559s 1s/step - loss: 0.5977 - acc: 0.6675 - val_loss: 0.5645 - val_acc: 0.6945\n",
      "\n",
      "Epoch 00001: saving model to Inception-e01-vl0.56-va0.694.hdf5\n",
      "Epoch 2/35\n",
      "393/393 [==============================] - 525s 1s/step - loss: 0.5563 - acc: 0.7076 - val_loss: 0.5445 - val_acc: 0.7142\n",
      "\n",
      "Epoch 00002: saving model to Inception-e02-vl0.54-va0.714.hdf5\n",
      "Epoch 3/35\n",
      "393/393 [==============================] - 515s 1s/step - loss: 0.5293 - acc: 0.7251 - val_loss: 0.5383 - val_acc: 0.7105\n",
      "\n",
      "Epoch 00003: saving model to Inception-e03-vl0.54-va0.711.hdf5\n",
      "Epoch 4/35\n",
      "393/393 [==============================] - 512s 1s/step - loss: 0.5078 - acc: 0.7405 - val_loss: 0.5926 - val_acc: 0.6863\n",
      "\n",
      "Epoch 00004: saving model to Inception-e04-vl0.59-va0.686.hdf5\n",
      "Epoch 5/35\n",
      "393/393 [==============================] - 513s 1s/step - loss: 0.4911 - acc: 0.7536 - val_loss: 0.5700 - val_acc: 0.6978\n",
      "\n",
      "Epoch 00005: saving model to Inception-e05-vl0.57-va0.698.hdf5\n",
      "Epoch 6/35\n",
      "393/393 [==============================] - 528s 1s/step - loss: 0.4822 - acc: 0.7627 - val_loss: 0.6516 - val_acc: 0.6775\n",
      "\n",
      "Epoch 00006: saving model to Inception-e06-vl0.65-va0.678.hdf5\n",
      "Epoch 7/35\n",
      "393/393 [==============================] - 536s 1s/step - loss: 0.4678 - acc: 0.7721 - val_loss: 0.7056 - val_acc: 0.6820\n",
      "\n",
      "Epoch 00007: saving model to Inception-e07-vl0.71-va0.682.hdf5\n",
      "Epoch 8/35\n",
      "393/393 [==============================] - 550s 1s/step - loss: 0.4599 - acc: 0.7750 - val_loss: 0.6656 - val_acc: 0.6714\n",
      "\n",
      "Epoch 00008: saving model to Inception-e08-vl0.67-va0.671.hdf5\n",
      "Epoch 9/35\n",
      "393/393 [==============================] - 547s 1s/step - loss: 0.4530 - acc: 0.7822 - val_loss: 0.5187 - val_acc: 0.7299\n",
      "\n",
      "Epoch 00009: saving model to Inception-e09-vl0.52-va0.730.hdf5\n",
      "Epoch 10/35\n",
      "393/393 [==============================] - 549s 1s/step - loss: 0.4343 - acc: 0.7919 - val_loss: 0.5523 - val_acc: 0.7222\n",
      "\n",
      "Epoch 00010: saving model to Inception-e10-vl0.55-va0.722.hdf5\n",
      "Epoch 11/35\n",
      "393/393 [==============================] - 547s 1s/step - loss: 0.4313 - acc: 0.7982 - val_loss: 0.5137 - val_acc: 0.7422\n",
      "\n",
      "Epoch 00011: saving model to Inception-e11-vl0.51-va0.742.hdf5\n",
      "Epoch 12/35\n",
      "393/393 [==============================] - 547s 1s/step - loss: 0.4219 - acc: 0.8007 - val_loss: 0.6779 - val_acc: 0.6827\n",
      "\n",
      "Epoch 00012: saving model to Inception-e12-vl0.68-va0.683.hdf5\n",
      "Epoch 13/35\n",
      "393/393 [==============================] - 547s 1s/step - loss: 0.4051 - acc: 0.8083 - val_loss: 0.5245 - val_acc: 0.7353\n",
      "\n",
      "Epoch 00013: saving model to Inception-e13-vl0.52-va0.735.hdf5\n",
      "Epoch 14/35\n",
      "393/393 [==============================] - 547s 1s/step - loss: 0.3989 - acc: 0.8112 - val_loss: 0.5321 - val_acc: 0.7489\n",
      "\n",
      "Epoch 00014: saving model to Inception-e14-vl0.53-va0.749.hdf5\n",
      "Epoch 15/35\n",
      "393/393 [==============================] - 547s 1s/step - loss: 0.3876 - acc: 0.8217 - val_loss: 0.6199 - val_acc: 0.7016\n",
      "\n",
      "Epoch 00015: saving model to Inception-e15-vl0.62-va0.702.hdf5\n",
      "Epoch 16/35\n",
      "393/393 [==============================] - 548s 1s/step - loss: 0.3745 - acc: 0.8311 - val_loss: 0.5956 - val_acc: 0.7135\n",
      "\n",
      "Epoch 00016: saving model to Inception-e16-vl0.60-va0.713.hdf5\n",
      "Epoch 17/35\n",
      "393/393 [==============================] - 548s 1s/step - loss: 0.3717 - acc: 0.8273 - val_loss: 0.5619 - val_acc: 0.7090\n",
      "\n",
      "Epoch 00017: saving model to Inception-e17-vl0.56-va0.709.hdf5\n",
      "Epoch 18/35\n",
      "393/393 [==============================] - 547s 1s/step - loss: 0.3569 - acc: 0.8402 - val_loss: 0.5684 - val_acc: 0.7330\n",
      "\n",
      "Epoch 00018: saving model to Inception-e18-vl0.57-va0.733.hdf5\n",
      "Epoch 19/35\n",
      "393/393 [==============================] - 547s 1s/step - loss: 0.3410 - acc: 0.8462 - val_loss: 0.5941 - val_acc: 0.7295\n",
      "\n",
      "Epoch 00019: saving model to Inception-e19-vl0.59-va0.730.hdf5\n",
      "Epoch 20/35\n",
      "393/393 [==============================] - 548s 1s/step - loss: 0.3358 - acc: 0.8476 - val_loss: 0.6406 - val_acc: 0.7226\n",
      "\n",
      "Epoch 00020: saving model to Inception-e20-vl0.64-va0.723.hdf5\n",
      "Epoch 21/35\n",
      "393/393 [==============================] - 547s 1s/step - loss: 0.3113 - acc: 0.8620 - val_loss: 0.5840 - val_acc: 0.7191\n",
      "\n",
      "Epoch 00021: saving model to Inception-e21-vl0.58-va0.719.hdf5\n",
      "Epoch 22/35\n",
      "393/393 [==============================] - 546s 1s/step - loss: 0.3077 - acc: 0.8639 - val_loss: 0.6802 - val_acc: 0.7211\n",
      "\n",
      "Epoch 00022: saving model to Inception-e22-vl0.68-va0.721.hdf5\n",
      "Epoch 23/35\n",
      "393/393 [==============================] - 547s 1s/step - loss: 0.2906 - acc: 0.8726 - val_loss: 0.8886 - val_acc: 0.6641\n",
      "\n",
      "Epoch 00023: saving model to Inception-e23-vl0.89-va0.664.hdf5\n",
      "Epoch 24/35\n",
      "393/393 [==============================] - 544s 1s/step - loss: 0.2905 - acc: 0.8717 - val_loss: 0.7262 - val_acc: 0.7161\n",
      "\n",
      "Epoch 00024: saving model to Inception-e24-vl0.73-va0.716.hdf5\n",
      "Epoch 25/35\n",
      "393/393 [==============================] - 547s 1s/step - loss: 0.2718 - acc: 0.8813 - val_loss: 0.6553 - val_acc: 0.7332\n",
      "\n",
      "Epoch 00025: saving model to Inception-e25-vl0.66-va0.733.hdf5\n",
      "Epoch 26/35\n",
      "393/393 [==============================] - 546s 1s/step - loss: 0.2627 - acc: 0.8880 - val_loss: 0.8768 - val_acc: 0.6969\n",
      "\n",
      "Epoch 00026: saving model to Inception-e26-vl0.88-va0.697.hdf5\n",
      "Epoch 27/35\n",
      "393/393 [==============================] - 546s 1s/step - loss: 0.2562 - acc: 0.8914 - val_loss: 0.6689 - val_acc: 0.7113\n",
      "\n",
      "Epoch 00027: saving model to Inception-e27-vl0.67-va0.711.hdf5\n",
      "Epoch 28/35\n",
      "393/393 [==============================] - 547s 1s/step - loss: 0.2423 - acc: 0.8975 - val_loss: 0.7047 - val_acc: 0.7280\n",
      "\n",
      "Epoch 00028: saving model to Inception-e28-vl0.70-va0.728.hdf5\n",
      "Epoch 29/35\n",
      "393/393 [==============================] - 546s 1s/step - loss: 0.2311 - acc: 0.9021 - val_loss: 0.6934 - val_acc: 0.7293\n",
      "\n",
      "Epoch 00029: saving model to Inception-e29-vl0.69-va0.729.hdf5\n",
      "Epoch 30/35\n",
      "393/393 [==============================] - 548s 1s/step - loss: 0.2163 - acc: 0.9081 - val_loss: 0.8156 - val_acc: 0.7105\n",
      "\n",
      "Epoch 00030: saving model to Inception-e30-vl0.82-va0.711.hdf5\n",
      "Epoch 31/35\n",
      "393/393 [==============================] - 548s 1s/step - loss: 0.2112 - acc: 0.9146 - val_loss: 0.7559 - val_acc: 0.7340\n",
      "\n",
      "Epoch 00031: saving model to Inception-e31-vl0.76-va0.734.hdf5\n",
      "Epoch 32/35\n",
      "393/393 [==============================] - 547s 1s/step - loss: 0.1936 - acc: 0.9219 - val_loss: 0.7647 - val_acc: 0.7295\n",
      "\n",
      "Epoch 00032: saving model to Inception-e32-vl0.76-va0.730.hdf5\n",
      "Epoch 33/35\n",
      "393/393 [==============================] - 546s 1s/step - loss: 0.1945 - acc: 0.9198 - val_loss: 0.8475 - val_acc: 0.7120\n",
      "\n",
      "Epoch 00033: saving model to Inception-e33-vl0.85-va0.712.hdf5\n",
      "Epoch 34/35\n",
      "393/393 [==============================] - 550s 1s/step - loss: 0.1840 - acc: 0.9245 - val_loss: 0.7454 - val_acc: 0.7155\n",
      "\n",
      "Epoch 00034: saving model to Inception-e34-vl0.75-va0.716.hdf5\n",
      "Epoch 35/35\n",
      "393/393 [==============================] - 546s 1s/step - loss: 0.1819 - acc: 0.9257 - val_loss: 0.7591 - val_acc: 0.7241\n",
      "\n",
      "Epoch 00035: saving model to Inception-e35-vl0.76-va0.724.hdf5\n"
     ]
    },
    {
     "data": {
      "text/plain": [
       "<keras.callbacks.History at 0x7f00acea9b70>"
      ]
     },
     "execution_count": 11,
     "metadata": {
      "tags": []
     },
     "output_type": "execute_result"
    }
   ],
   "source": [
    "# setup a model checkpoint (because we have already lost many)\n",
    "checkpoint = keras.callbacks.ModelCheckpoint(\n",
    "    filepath='Inception-e{epoch:02d}-vl{val_loss:.2f}-va{val_acc:.3f}.hdf5',\n",
    "    monitor='val_acc',\n",
    "    verbose=1,\n",
    "    save_best_only=False,\n",
    "    save_weights_only=False,\n",
    "    mode='auto',\n",
    "    period=1\n",
    ")\n",
    "\n",
    "# compile again and decrease the learning rate\n",
    "model.compile(\n",
    "    optimizer=keras.optimizers.Adam(lr=0.0001),\n",
    "    loss='binary_crossentropy',\n",
    "    metrics=['acc'],\n",
    ")\n",
    "\n",
    "# final training\n",
    "history = model.fit_generator(\n",
    "      train_gen,\n",
    "      steps_per_epoch=train_gen.n//train_gen.batch_size,\n",
    "      epochs=35,\n",
    "      validation_data=valid_gen,\n",
    "      validation_steps=valid_gen.n//valid_gen.batch_size,\n",
    "      callbacks=[checkpoint]\n",
    ")"
   ]
  },
  {
   "cell_type": "code",
   "execution_count": 14,
   "metadata": {
    "_uuid": "c2c23db95ddf8b507c29f06b71324bb1cda18934",
    "colab": {
     "base_uri": "https://localhost:8080/",
     "height": 707
    },
    "colab_type": "code",
    "id": "a9QwfMDbl3xg",
    "outputId": "10740336-cf79-4de6-d4e5-c96cd1022efd"
   },
   "outputs": [
    {
     "data": {
      "image/png": "[encoded data removed]",
      "text/plain": [
       "<Figure size 576x396 with 1 Axes>"
      ]
     },
     "metadata": {
      "tags": []
     },
     "output_type": "display_data"
    },
    {
     "data": {
      "image/png": "[encoded data removed]",
      "text/plain": [
       "<Figure size 576x396 with 1 Axes>"
      ]
     },
     "metadata": {
      "tags": []
     },
     "output_type": "display_data"
    }
   ],
   "source": [
    "#print statistics\n",
    "acc = history.history['acc']\n",
    "val_acc = history.history['val_acc']\n",
    "loss = history.history['loss']\n",
    "val_loss = history.history['val_loss']\n",
    "\n",
    "epochs = range(len(acc))\n",
    "\n",
    "plt.plot(epochs, acc, 'bo', label='Training acc')\n",
    "plt.plot(epochs, val_acc, 'b', label='Validation acc')\n",
    "plt.title('Training and validation accuracy')\n",
    "plt.legend()\n",
    "\n",
    "plt.figure()\n",
    "\n",
    "plt.plot(epochs, loss, 'bo', label='Training loss')\n",
    "plt.plot(epochs, val_loss, 'b', label='Validation loss')\n",
    "plt.title('Training and validation loss')\n",
    "plt.legend()\n",
    "\n",
    "plt.show()"
   ]
  }
 ],
 "metadata": {
  "accelerator": "GPU",
  "colab": {
   "name": "Model-Incepted.ipynb",
   "provenance": [],
   "version": "0.3.2"
  },
  "kernelspec": {
   "display_name": "Python 3",
   "language": "python",
   "name": "python3"
  },
  "language_info": {
   "codemirror_mode": {
    "name": "ipython",
    "version": 3
   },
   "file_extension": ".py",
   "mimetype": "text/x-python",
   "name": "python",
   "nbconvert_exporter": "python",
   "pygments_lexer": "ipython3",
   "version": "3.7.2"
  }
 },
 "nbformat": 4,
 "nbformat_minor": 1
}
