{
 "cells": [
  {
   "cell_type": "markdown",
   "metadata": {},
   "source": [
    "# Model description\n",
    "## (this model is still being recommited in Kaggle, no idea about the progress , I will recommit the new version)\n",
    "\n",
    "This was a model we trained on different preprocessing pipelines,\n",
    "to find out how they compared.\n",
    "The best results were on images that have been preprocessed by contrast limited adaptive histogram equalization (CLAHE), cropping, masking and padding with 128 level gray or by a technique inspired by Benjamin Graham,\n",
    "read more [here](https://github.com/rozni/uni-ml/blob/master/Cognitive_Systems_for_Health_Technology_Applications/Case_2/Image_Preprocessing.ipynb)\n",
    "or see the [full report](https://github.com/rozni/uni-ml/tree/master/Cognitive_Systems_for_Health_Technology_Applications/Case_2). \n",
    "\n",
    "Even though, artificial neural networks are great in making linear combinations\n",
    "on their own, we thought of helping them, in this case, the model was trained\n",
    "on images preprocessed by the CLAHE method mentioned above and then converted to grayscale.\n",
    "That improved the training speed twice (there is 3 times fewer input values).\n",
    "We also tried to use YCrCb and HSL colorspaces, they performed just as good\n",
    "as ordinary RGB (although, YCrCb seemed pick up on features a little earlier).\n",
    "This grayscale  was interesting because of the faster training\n",
    "starting to recognize feautres much earlier compared to RGB (about 5 epochs),\n",
    "we have not found out when would RGB took over.\n",
    "\n",
    "This model was reached about 70% accuracy on\n",
    "a balanced subset of the dataset (18 000 samples, we trained on equal amount of eyes with and without symptoms for easier assesment), which was some of the best we achieved."
   ]
  },
  {
   "cell_type": "code",
   "execution_count": 1,
   "metadata": {
    "_uuid": "edfb9e6b2ee8fd837b6ddb2ad92f3b5e62059bcb"
   },
   "outputs": [
    {
     "name": "stderr",
     "output_type": "stream",
     "text": [
      "Using TensorFlow backend.\n"
     ]
    }
   ],
   "source": [
    "import os\n",
    "import numpy as np\n",
    "import pandas as pd\n",
    "\n",
    "import matplotlib.pyplot as plt\n",
    "\n",
    "import keras\n",
    "from keras import layers, regularizers"
   ]
  },
  {
   "cell_type": "code",
   "execution_count": 2,
   "metadata": {
    "_uuid": "fb1cae1e2ed42956364582877e44bec9864928b4"
   },
   "outputs": [],
   "source": [
    "BASE_DIR = '../input/'\n",
    "TRAIN_DIR = '500x500_cropped_clahe_128/500x500_cropped_clahe_128/'\n",
    "TARGET_SIZE = (300, 300)"
   ]
  },
  {
   "cell_type": "code",
   "execution_count": 3,
   "metadata": {
    "_uuid": "73b99bace79455f0e6fae067872f042c04f2e3b7"
   },
   "outputs": [
    {
     "name": "stdout",
     "output_type": "stream",
     "text": [
      "_________________________________________________________________\n",
      "Layer (type)                 Output Shape              Param #   \n",
      "=================================================================\n",
      "batch_normalization_1 (Batch (None, 300, 300, 1)       4         \n",
      "_________________________________________________________________\n",
      "conv2d_1 (Conv2D)            (None, 298, 298, 32)      320       \n",
      "_________________________________________________________________\n",
      "batch_normalization_2 (Batch (None, 298, 298, 32)      128       \n",
      "_________________________________________________________________\n",
      "activation_1 (Activation)    (None, 298, 298, 32)      0         \n",
      "_________________________________________________________________\n",
      "conv2d_2 (Conv2D)            (None, 296, 296, 32)      9248      \n",
      "_________________________________________________________________\n",
      "batch_normalization_3 (Batch (None, 296, 296, 32)      128       \n",
      "_________________________________________________________________\n",
      "activation_2 (Activation)    (None, 296, 296, 32)      0         \n",
      "_________________________________________________________________\n",
      "max_pooling2d_1 (MaxPooling2 (None, 148, 148, 32)      0         \n",
      "_________________________________________________________________\n",
      "conv2d_3 (Conv2D)            (None, 146, 146, 64)      18496     \n",
      "_________________________________________________________________\n",
      "batch_normalization_4 (Batch (None, 146, 146, 64)      256       \n",
      "_________________________________________________________________\n",
      "activation_3 (Activation)    (None, 146, 146, 64)      0         \n",
      "_________________________________________________________________\n",
      "conv2d_4 (Conv2D)            (None, 144, 144, 64)      36928     \n",
      "_________________________________________________________________\n",
      "batch_normalization_5 (Batch (None, 144, 144, 64)      256       \n",
      "_________________________________________________________________\n",
      "activation_4 (Activation)    (None, 144, 144, 64)      0         \n",
      "_________________________________________________________________\n",
      "max_pooling2d_2 (MaxPooling2 (None, 72, 72, 64)        0         \n",
      "_________________________________________________________________\n",
      "conv2d_5 (Conv2D)            (None, 70, 70, 128)       73856     \n",
      "_________________________________________________________________\n",
      "batch_normalization_6 (Batch (None, 70, 70, 128)       512       \n",
      "_________________________________________________________________\n",
      "activation_5 (Activation)    (None, 70, 70, 128)       0         \n",
      "_________________________________________________________________\n",
      "conv2d_6 (Conv2D)            (None, 68, 68, 128)       147584    \n",
      "_________________________________________________________________\n",
      "batch_normalization_7 (Batch (None, 68, 68, 128)       512       \n",
      "_________________________________________________________________\n",
      "activation_6 (Activation)    (None, 68, 68, 128)       0         \n",
      "_________________________________________________________________\n",
      "max_pooling2d_3 (MaxPooling2 (None, 34, 34, 128)       0         \n",
      "_________________________________________________________________\n",
      "conv2d_7 (Conv2D)            (None, 32, 32, 256)       295168    \n",
      "_________________________________________________________________\n",
      "batch_normalization_8 (Batch (None, 32, 32, 256)       1024      \n",
      "_________________________________________________________________\n",
      "activation_7 (Activation)    (None, 32, 32, 256)       0         \n",
      "_________________________________________________________________\n",
      "conv2d_8 (Conv2D)            (None, 30, 30, 256)       590080    \n",
      "_________________________________________________________________\n",
      "batch_normalization_9 (Batch (None, 30, 30, 256)       1024      \n",
      "_________________________________________________________________\n",
      "activation_8 (Activation)    (None, 30, 30, 256)       0         \n",
      "_________________________________________________________________\n",
      "max_pooling2d_4 (MaxPooling2 (None, 15, 15, 256)       0         \n",
      "_________________________________________________________________\n",
      "flatten_1 (Flatten)          (None, 57600)             0         \n",
      "_________________________________________________________________\n",
      "dropout_1 (Dropout)          (None, 57600)             0         \n",
      "_________________________________________________________________\n",
      "dense_1 (Dense)              (None, 64)                3686464   \n",
      "_________________________________________________________________\n",
      "dropout_2 (Dropout)          (None, 64)                0         \n",
      "_________________________________________________________________\n",
      "batch_normalization_10 (Batc (None, 64)                256       \n",
      "_________________________________________________________________\n",
      "dense_2 (Dense)              (None, 32)                2080      \n",
      "_________________________________________________________________\n",
      "batch_normalization_11 (Batc (None, 32)                128       \n",
      "_________________________________________________________________\n",
      "dense_3 (Dense)              (None, 16)                528       \n",
      "_________________________________________________________________\n",
      "batch_normalization_12 (Batc (None, 16)                64        \n",
      "_________________________________________________________________\n",
      "dense_4 (Dense)              (None, 1)                 17        \n",
      "=================================================================\n",
      "Total params: 4,865,061\n",
      "Trainable params: 4,862,915\n",
      "Non-trainable params: 2,146\n",
      "_________________________________________________________________\n"
     ]
    }
   ],
   "source": [
    "# design the model\n",
    "model = keras.models.Sequential()\n",
    "\n",
    "model.add(layers.InputLayer((*TARGET_SIZE, 1)))\n",
    "model.add(layers.BatchNormalization())\n",
    "\n",
    "model.add(layers.Conv2D(32, (3,3)))\n",
    "model.add(layers.BatchNormalization())\n",
    "model.add(layers.Activation('relu'))\n",
    "model.add(layers.Conv2D(32, (3,3)))\n",
    "model.add(layers.BatchNormalization())\n",
    "model.add(layers.Activation('relu'))\n",
    "model.add(layers.MaxPooling2D(pool_size=(2,2)))\n",
    "\n",
    "model.add(layers.Conv2D(64, (3,3)))\n",
    "model.add(layers.BatchNormalization())\n",
    "model.add(layers.Activation('relu'))\n",
    "model.add(layers.Conv2D(64, (3,3)))\n",
    "model.add(layers.BatchNormalization())\n",
    "model.add(layers.Activation('relu'))\n",
    "model.add(layers.MaxPooling2D(pool_size=(2,2)))\n",
    "\n",
    "model.add(layers.Conv2D(128, (3,3)))\n",
    "model.add(layers.BatchNormalization())\n",
    "model.add(layers.Activation('relu'))\n",
    "model.add(layers.Conv2D(128, (3,3)))\n",
    "model.add(layers.BatchNormalization())\n",
    "model.add(layers.Activation('relu'))\n",
    "model.add(layers.MaxPooling2D(pool_size=(2,2)))\n",
    " \n",
    "model.add(layers.Conv2D(256, (3,3)))\n",
    "model.add(layers.BatchNormalization())\n",
    "model.add(layers.Activation('relu'))\n",
    "model.add(layers.Conv2D(256, (3,3)))\n",
    "model.add(layers.BatchNormalization())\n",
    "model.add(layers.Activation('relu'))\n",
    "model.add(layers.MaxPooling2D(pool_size=(2,2)))\n",
    "          \n",
    "model.add(layers.Flatten())\n",
    "model.add(layers.Dropout(0.4))\n",
    "\n",
    "model.add(layers.Dense(64, activation='relu'))\n",
    "model.add(layers.Dropout(0.3))\n",
    "model.add(layers.BatchNormalization())\n",
    "model.add(layers.Dense(32, activation='relu'))\n",
    "model.add(layers.BatchNormalization())\n",
    "model.add(layers.Dense(16, activation='relu'))\n",
    "model.add(layers.BatchNormalization())\n",
    "model.add(layers.Dense(1, activation='sigmoid'))\n",
    "\n",
    "model.summary()\n",
    "\n",
    "model.compile(\n",
    "    loss='binary_crossentropy',\n",
    "    optimizer=keras.optimizers.Adam(lr=1e-4),\n",
    "    metrics=['acc']\n",
    ")"
   ]
  },
  {
   "cell_type": "code",
   "execution_count": 4,
   "metadata": {
    "_uuid": "d5143f63a8cd0740f7d277296e0560f528e6c23f"
   },
   "outputs": [],
   "source": [
    "# load the labels and balance teh training set\n",
    "\n",
    "labels_df = pd.read_csv(os.path.join(BASE_DIR, 'labels.csv'))\n",
    "\n",
    "# balance classes\n",
    "fifty_fifty_subset = pd.concat([\n",
    "    labels_df[labels_df['class']=='symptoms'].sample(n=9000, random_state=0),\n",
    "    labels_df[labels_df['class']=='nosymptoms'].sample(n=9000, random_state=0)\n",
    "]).sample(frac=1.0, random_state=0) # shuffle\n",
    "\n",
    "# training/validation split (70% to 30%)\n",
    "split = 70*len(fifty_fifty_subset)//100\n",
    "train_df = fifty_fifty_subset.iloc[:split]\n",
    "valid_df = fifty_fifty_subset.iloc[split:]"
   ]
  },
  {
   "cell_type": "code",
   "execution_count": 5,
   "metadata": {
    "_uuid": "795a2960044538f4898122f725c7e5f4e59ef852"
   },
   "outputs": [
    {
     "name": "stdout",
     "output_type": "stream",
     "text": [
      "Found 12600 images belonging to 2 classes.\n",
      "Found 5400 images belonging to 2 classes.\n"
     ]
    }
   ],
   "source": [
    "# setup image generators\n",
    "\n",
    "common_flow_kwargs = dict(\n",
    "    directory=os.path.join(BASE_DIR, TRAIN_DIR),\n",
    "    x_col='file_name',\n",
    "    y_col='class',\n",
    "    target_size=TARGET_SIZE,\n",
    "    batch_size=50,\n",
    "    class_mode='binary',\n",
    "    color_mode='grayscale',\n",
    ")\n",
    "\n",
    "train_gen = keras.preprocessing.image.ImageDataGenerator(\n",
    "    fill_mode='nearest',\n",
    "    horizontal_flip=True,\n",
    "    vertical_flip=True,\n",
    "    rescale=1/255,\n",
    ").flow_from_dataframe(\n",
    "    dataframe=train_df,\n",
    "    **common_flow_kwargs,\n",
    ")\n",
    "\n",
    "valid_gen = keras.preprocessing.image.ImageDataGenerator(\n",
    "    rescale=1./255,\n",
    ").flow_from_dataframe(\n",
    "    dataframe=valid_df,\n",
    "    **common_flow_kwargs,\n",
    ")"
   ]
  },
  {
   "cell_type": "code",
   "execution_count": 6,
   "metadata": {
    "_uuid": "2255a3cf3eee97850240a37e6b8a187da391f129"
   },
   "outputs": [
    {
     "name": "stdout",
     "output_type": "stream",
     "text": [
      "Epoch 1/25\n",
      "252/252 [==============================] - 311s 1s/step - loss: 0.7862 - acc: 0.5088 - val_loss: 0.7399 - val_acc: 0.5041\n",
      "Epoch 2/25\n",
      "252/252 [==============================] - 290s 1s/step - loss: 0.7363 - acc: 0.5105 - val_loss: 0.7119 - val_acc: 0.5135\n",
      "Epoch 3/25\n",
      "252/252 [==============================] - 290s 1s/step - loss: 0.7221 - acc: 0.5057 - val_loss: 0.7045 - val_acc: 0.5133\n",
      "Epoch 4/25\n",
      "252/252 [==============================] - 290s 1s/step - loss: 0.7131 - acc: 0.5156 - val_loss: 0.7008 - val_acc: 0.5204\n",
      "Epoch 5/25\n",
      "252/252 [==============================] - 290s 1s/step - loss: 0.7113 - acc: 0.5200 - val_loss: 0.6934 - val_acc: 0.5267\n",
      "Epoch 6/25\n",
      "252/252 [==============================] - 290s 1s/step - loss: 0.7072 - acc: 0.5235 - val_loss: 0.6969 - val_acc: 0.5343\n",
      "Epoch 7/25\n",
      "252/252 [==============================] - 290s 1s/step - loss: 0.7013 - acc: 0.5266 - val_loss: 0.6886 - val_acc: 0.5387\n",
      "Epoch 8/25\n",
      "252/252 [==============================] - 290s 1s/step - loss: 0.6997 - acc: 0.5285 - val_loss: 0.6964 - val_acc: 0.5269\n",
      "Epoch 9/25\n",
      "252/252 [==============================] - 290s 1s/step - loss: 0.6961 - acc: 0.5360 - val_loss: 0.7055 - val_acc: 0.5054\n",
      "Epoch 10/25\n",
      "252/252 [==============================] - 290s 1s/step - loss: 0.6975 - acc: 0.5269 - val_loss: 0.6923 - val_acc: 0.5320\n",
      "Epoch 11/25\n",
      "252/252 [==============================] - 291s 1s/step - loss: 0.6973 - acc: 0.5337 - val_loss: 0.6943 - val_acc: 0.5293\n",
      "Epoch 12/25\n",
      "252/252 [==============================] - 291s 1s/step - loss: 0.6983 - acc: 0.5356 - val_loss: 0.6841 - val_acc: 0.5526\n",
      "Epoch 13/25\n",
      "252/252 [==============================] - 295s 1s/step - loss: 0.6919 - acc: 0.5437 - val_loss: 0.6963 - val_acc: 0.5191\n",
      "Epoch 14/25\n",
      "252/252 [==============================] - 291s 1s/step - loss: 0.6926 - acc: 0.5417 - val_loss: 0.6950 - val_acc: 0.5306\n",
      "Epoch 15/25\n",
      "252/252 [==============================] - 291s 1s/step - loss: 0.6919 - acc: 0.5464 - val_loss: 0.6819 - val_acc: 0.5620\n",
      "Epoch 16/25\n",
      "252/252 [==============================] - 290s 1s/step - loss: 0.6922 - acc: 0.5368 - val_loss: 0.6749 - val_acc: 0.5752\n",
      "Epoch 17/25\n",
      "252/252 [==============================] - 290s 1s/step - loss: 0.6956 - acc: 0.5397 - val_loss: 0.7018 - val_acc: 0.5269\n",
      "Epoch 18/25\n",
      "252/252 [==============================] - 290s 1s/step - loss: 0.6900 - acc: 0.5495 - val_loss: 0.6915 - val_acc: 0.5480\n",
      "Epoch 19/25\n",
      "252/252 [==============================] - 290s 1s/step - loss: 0.6850 - acc: 0.5590 - val_loss: 0.6935 - val_acc: 0.5470\n",
      "Epoch 20/25\n",
      "252/252 [==============================] - 290s 1s/step - loss: 0.6784 - acc: 0.5730 - val_loss: 0.7091 - val_acc: 0.5252\n",
      "Epoch 21/25\n",
      "252/252 [==============================] - 290s 1s/step - loss: 0.6738 - acc: 0.5788 - val_loss: 0.6706 - val_acc: 0.5824\n",
      "Epoch 22/25\n",
      "252/252 [==============================] - 290s 1s/step - loss: 0.6661 - acc: 0.5990 - val_loss: 0.7007 - val_acc: 0.5691\n",
      "Epoch 23/25\n",
      "252/252 [==============================] - 290s 1s/step - loss: 0.6639 - acc: 0.5991 - val_loss: 0.7239 - val_acc: 0.5148\n",
      "Epoch 24/25\n",
      "252/252 [==============================] - 290s 1s/step - loss: 0.6598 - acc: 0.6079 - val_loss: 0.6958 - val_acc: 0.5602\n",
      "Epoch 25/25\n",
      "252/252 [==============================] - 290s 1s/step - loss: 0.6535 - acc: 0.6193 - val_loss: 0.6971 - val_acc: 0.5665\n"
     ]
    }
   ],
   "source": [
    "# train the model\n",
    "history = model.fit_generator(\n",
    "      train_gen,\n",
    "      steps_per_epoch=train_gen.n//train_gen.batch_size,\n",
    "      epochs=25,\n",
    "      validation_data=valid_gen,\n",
    "      validation_steps=valid_gen.n//valid_gen.batch_size,\n",
    ")\n",
    "\n",
    "# save the model just in case\n",
    "model.save('grayscale-clahe.h5')"
   ]
  },
  {
   "cell_type": "markdown",
   "metadata": {
    "_uuid": "e693aee499c2453c820c358a0cc24ba38dde0d16"
   },
   "source": [
    "## Results"
   ]
  },
  {
   "cell_type": "code",
   "execution_count": 7,
   "metadata": {
    "_uuid": "0eccf5afeb44b727678f03b298994d3ecd0a5cfd"
   },
   "outputs": [
    {
     "data": {
      "image/png": "[encoded data removed]",
      "text/plain": [
       "<Figure size 432x288 with 1 Axes>"
      ]
     },
     "metadata": {},
     "output_type": "display_data"
    },
    {
     "data": {
      "image/png": "[encoded data removed]",
      "text/plain": [
       "<Figure size 432x288 with 1 Axes>"
      ]
     },
     "metadata": {},
     "output_type": "display_data"
    }
   ],
   "source": [
    "acc = history.history['acc']\n",
    "val_acc = history.history['val_acc']\n",
    "loss = history.history['loss']\n",
    "val_loss = history.history['val_loss']\n",
    "\n",
    "epochs = range(len(acc))\n",
    "\n",
    "plt.plot(epochs, acc, 'bo', label='Training acc')\n",
    "plt.plot(epochs, val_acc, 'b', label='Validation acc')\n",
    "plt.title('Training and validation accuracy')\n",
    "plt.legend()\n",
    "\n",
    "plt.figure()\n",
    "\n",
    "plt.plot(epochs, loss, 'bo', label='Training loss')\n",
    "plt.plot(epochs, val_loss, 'b', label='Validation loss')\n",
    "plt.title('Training and validation loss')\n",
    "plt.legend()\n",
    "\n",
    "plt.show()"
   ]
  }
 ],
 "metadata": {
  "kernelspec": {
   "display_name": "Python 3",
   "language": "python",
   "name": "python3"
  },
  "language_info": {
   "codemirror_mode": {
    "name": "ipython",
    "version": 3
   },
   "file_extension": ".py",
   "mimetype": "text/x-python",
   "name": "python",
   "nbconvert_exporter": "python",
   "pygments_lexer": "ipython3",
   "version": "3.7.2"
  }
 },
 "nbformat": 4,
 "nbformat_minor": 1
}
