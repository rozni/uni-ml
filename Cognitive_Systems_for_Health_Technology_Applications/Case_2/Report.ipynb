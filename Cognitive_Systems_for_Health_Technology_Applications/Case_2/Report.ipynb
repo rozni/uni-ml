{
 "cells": [
  {
   "cell_type": "markdown",
   "metadata": {},
   "source": [
    "# Case 2. Diabetic Retinopathy Detection\n",
    "\n",
    "\n",
    "* Authors: Martin Rožnovják, Lauri Solin\n",
    "* Last edited: 2019-03-03\n",
    "* Organization: [Metropolia University of Applied Sciences](https://www.metropolia.fi/)"
   ]
  },
  {
   "cell_type": "markdown",
   "metadata": {},
   "source": [
    "## What is this?\n",
    "\n",
    "This is an assignment for *Cognitive Systems for Health Technology Applications* course.\n",
    "\n",
    "The goal is to use convolutional neural networks to create a classifier for diabetic retinopathy images.\n",
    "We use the dataset from [Diabetic Retinopathy Detection](https://www.kaggle.com/c/diabetic-retinopathy-detection)\n",
    "2015 [Kaggle](www.kaggle.com) competition.\n",
    "It contains tens of thousands fundus photography images with and without signs of diabetic retinopathy\n",
    "(the leading cause of blindness in the working-age population of the developed world,\n",
    "it is estimated to affect over 93 million people\n",
    "<sup><a href=\"https://www.kaggle.com/c/diabetic-retinopathy-detection\">[1]</a></sup>).\n",
    "\n",
    "Lauri and I were working on this assignment together, we shared ideas, insights and were giving\n",
    "each other suggestions and helped with troubleshooting."
   ]
  },
  {
   "cell_type": "markdown",
   "metadata": {},
   "source": [
    "## Introduction\n",
    "\n",
    "The dataset turned out to be a very challenging one. We struggled to find a model architecture which would train reasonably fast and would achieve good performance in terms of accuracy and receiver operating characteristic (ROC) curve. We were trying to follow advice and guidelines of various sources, mainly the following:\n",
    "\n",
    " - https://github.com/fchollet/deep-learning-with-python-notebooks/blob/master/5.2-using-convnets-with-small-datasets.ipynb\n",
    " - http://blog.kaggle.com/2015/09/09/diabetic-retinopathy-winners-interview-1st-place-ben-graham/\n",
    " - https://www.kaggle.com/c/diabetic-retinopathy-detection/discussion/15801\n",
    " - http://blog.kaggle.com/2015/08/14/diabetic-retinopathy-winners-interview-4th-place-julian-daniel/\n",
    " - https://www.ncbi.nlm.nih.gov/pmc/articles/PMC5961805/\n",
    " - course material\n",
    " \n",
    "However, due to limited resources and large hyperparameter space we were unable to explore as many preprocessing and model pipelines as we intended. Most of our models performed close to random guessing and/or would always predict no symptoms.\n",
    "\n",
    "For the sake of better organization and clarity, we will only link chosen preprocessing steps and models instead of embedding them in this notebook."
   ]
  },
  {
   "cell_type": "markdown",
   "metadata": {},
   "source": [
    "## Examples"
   ]
  },
  {
   "cell_type": "markdown",
   "metadata": {},
   "source": [
    "### Preprocessing\n",
    "\n",
    "In [this](https://github.com/rozni/uni-ml/blob/master/Cognitive_Systems_for_Health_Technology_Applications/Case_2/Image_Preprocessing.ipynb) notebook you can find how we preprocessed the data before feeding them into the network."
   ]
  },
  {
   "cell_type": "markdown",
   "metadata": {},
   "source": [
    "### Models\n",
    "\n",
    "Following are the examples of our models:\n",
    " - [Cats & Dogs](https://www.kaggle.com/late347/returnable-convnet-case2)\n",
    " - [DeepGray](https://github.com/rozni/uni-ml/blob/master/Cognitive_Systems_for_Health_Technology_Applications/Case_2/Model-DeepGray.ipynb)\n",
    " - [Incepted](https://github.com/rozni/uni-ml/blob/master/Cognitive_Systems_for_Health_Technology_Applications/Case_2/Model-Incepted.ipynb)\n",
    "\n",
    "Other than those, we have tried dozens of different model architectures in combination with various preprocessing methods."
   ]
  },
  {
   "cell_type": "markdown",
   "metadata": {},
   "source": [
    "## Conclusion\n",
    "\n",
    "For a tough dataset one needs tough preparation.\n",
    "There was a lot to learn about diabetic retinopathy, fundus photography,\n",
    "we have also learnt new ways how process images and look at the data.\n",
    "We improved our skills in many Python and ML libraries\n",
    "and gained valuable insights into deep learning.\n",
    "(And I understood I should finally invest into more RAM and an SSD... :-) )\n",
    "\n",
    "Thanks to Google for [Colab](https://colab.research.google.com) and [Kaggle](https://www.kaggle.com/), their environments enabled us to try much more than we would otherwise be able to."
   ]
  },
  {
   "cell_type": "markdown",
   "metadata": {},
   "source": [
    "## Bonus\n",
    "\n",
    "### When preprocessing goes wrong\n",
    "\n",
    "![spoiled image](art.jpg \"When preprocessing goes wrong\")"
   ]
  }
 ],
 "metadata": {
  "kernelspec": {
   "display_name": "Python 3",
   "language": "python",
   "name": "python3"
  },
  "language_info": {
   "codemirror_mode": {
    "name": "ipython",
    "version": 3
   },
   "file_extension": ".py",
   "mimetype": "text/x-python",
   "name": "python",
   "nbconvert_exporter": "python",
   "pygments_lexer": "ipython3",
   "version": "3.7.2"
  }
 },
 "nbformat": 4,
 "nbformat_minor": 2
}
