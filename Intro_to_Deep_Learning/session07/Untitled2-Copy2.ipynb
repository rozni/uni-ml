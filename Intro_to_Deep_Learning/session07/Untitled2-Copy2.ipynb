{
 "cells": [
  {
   "cell_type": "code",
   "execution_count": 1,
   "metadata": {},
   "outputs": [
    {
     "name": "stderr",
     "output_type": "stream",
     "text": [
      "/usr/lib/python3.6/site-packages/h5py/__init__.py:36: FutureWarning: Conversion of the second argument of issubdtype from `float` to `np.floating` is deprecated. In future, it will be treated as `np.float64 == np.dtype(float).type`.\n",
      "  from ._conv import register_converters as _register_converters\n",
      "Using TensorFlow backend.\n"
     ]
    }
   ],
   "source": [
    "# for testing whether CPU or GPU is faster on a problem\n",
    "NO_GPU = False\n",
    "\n",
    "if NO_GPU:\n",
    "    import os\n",
    "    os.environ[\"CUDA_DEVICE_ORDER\"] = \"PCI_BUS_ID\"\n",
    "    os.environ[\"CUDA_VISIBLE_DEVICES\"] = \"\"\n",
    "    \n",
    "import numpy as np\n",
    "import matplotlib.pyplot as plt\n",
    "import keras\n",
    "import keras.layers as kl"
   ]
  },
  {
   "cell_type": "code",
   "execution_count": 2,
   "metadata": {},
   "outputs": [],
   "source": [
    "def build_model(*layers, verbose=False,\n",
    "               optimizer='adam', loss='binary_crossentropy', metrics=['acc'],\n",
    "               compile_kwargs={}):\n",
    "    \n",
    "    model = keras.models.Sequential()\n",
    "    \n",
    "    for layer in layers:\n",
    "        model.add(layer)\n",
    "        \n",
    "    if verbose:\n",
    "        print(\"Model summary:\")\n",
    "        model.summary()\n",
    "    \n",
    "    print(compile_kwargs, optimizer, loss, metrics)\n",
    "    ckw = compile_kwargs.copy()\n",
    "    for kw in ('optimizer', 'loss', 'metrics'):\n",
    "        if not kw in ckw:\n",
    "            ckw[kw] = locals()[kw]\n",
    "    print(ckw)\n",
    "    model.compile(**ckw)\n",
    "    \n",
    "    return model"
   ]
  },
  {
   "cell_type": "code",
   "execution_count": 3,
   "metadata": {},
   "outputs": [],
   "source": [
    "def plot_history(history, figsize=(15,4), title='', columns=2, start_x_from=0):\n",
    "    \"\"\"Graphs a history for each key (combines validation and training keys into one plot).\n",
    "    \n",
    "    start_x_from=N skips the first N entries.\n",
    "    \n",
    "    History can be a whole training history class or just a dict.\"\"\"\n",
    "    \n",
    "    if hasattr(history, 'history'): # full history given\n",
    "        history = history.history   # only that history is enough\n",
    "        \n",
    "    assert hasattr(history, 'keys')\n",
    "    keys = [key for key in history.keys() if not key.startswith(\"val_\")]\n",
    "    assert keys # there is one at least\n",
    "    epochs = list(range(1,len(history[keys[0]])+1)) # all should have the same size list\n",
    "    \n",
    "    rows = np.ceil(len(keys)/columns).astype('int')\n",
    "    \n",
    "    fig=plt.figure(figsize=figsize)\n",
    "    f = plt.title(title)\n",
    "    f.axes.get_xaxis().set_visible(False)\n",
    "    f.axes.get_yaxis().set_visible(False)\n",
    "    \n",
    "    i = 1\n",
    "    for key in sorted(keys):\n",
    "        valkey = \"val_\" + key\n",
    "        fig.add_subplot(rows, columns, i)\n",
    "        i += 1\n",
    "        plt.plot(epochs[start_x_from:], history[key][start_x_from:], label=\"Training \" + key,\n",
    "                 marker='.', color='#00A287', linestyle='')\n",
    "        \n",
    "        late_avg = np.mean(history[key][(len(history[key]) * 90) // 100 : ])\n",
    "        plt.plot((epochs[start_x_from], epochs[-1]), (late_avg, late_avg),\n",
    "                 color=\"#74E600\", label='Mean {:.3f}'.format(late_avg))\n",
    "        if valkey in history:\n",
    "            plt.plot(epochs[start_x_from:], history[valkey][start_x_from:], label='Validation ' + key,\n",
    "                    marker='+', color='#DF004F', linestyle='')\n",
    "            \n",
    "            late_avg = np.mean(history[valkey][(len(history[valkey]) * 90) // 100 : ])\n",
    "            plt.plot((epochs[start_x_from], epochs[-1]), (late_avg, late_avg),\n",
    "                     color=\"#FF6700\", label='Mean {:.3f}'.format(late_avg))\n",
    "        plt.legend()\n",
    "        \n",
    "    plt.show()"
   ]
  },
  {
   "cell_type": "code",
   "execution_count": 4,
   "metadata": {},
   "outputs": [],
   "source": [
    "def get_sequence_label_pair(sequence_length, predict_length, coef=1., angf=1., phase=0., const=0.):\n",
    "    x = np.linspace(0.0, 2.0*np.pi, num=sequence_length+predict_length)\n",
    "    y = coef*np.sin(angf*x + phase) + const\n",
    "    return y[:sequence_length], y[sequence_length:]\n",
    "\n",
    "def data_generator(batch_size, sequence_length, predict_length, coef=(-4., 4.), angf=(0.5, 1.5), phase=(0., 2.*np.pi), const=(-1., 1.)):\n",
    "    data = np.zeros((batch_size, sequence_length))\n",
    "    while True:\n",
    "        labels = []\n",
    "        batch_coef =np.random.uniform(*coef )\n",
    "        batch_angf =np.random.uniform(*angf )\n",
    "        batch_phase=np.random.uniform(*phase)\n",
    "        batch_const=np.random.uniform(*const)\n",
    "        \n",
    "        for i in range(batch_size):\n",
    "            x, y = get_sequence_label_pair(\n",
    "                sequence_length,\n",
    "                predict_length,\n",
    "                coef =batch_coef ,\n",
    "                angf =batch_angf ,\n",
    "                phase=batch_phase,\n",
    "                const=batch_const)\n",
    "            data[i] = x\n",
    "            labels.append(y)\n",
    "\n",
    "        yield data.reshape((batch_size, sequence_length, 1)), np.asarray(labels)\n"
   ]
  },
  {
   "cell_type": "code",
   "execution_count": 5,
   "metadata": {},
   "outputs": [],
   "source": [
    "def train_and_show_hist(lossf, model_layers):\n",
    "    model = build_model(*model_layers, loss=lossf, verbose=1)\n",
    "    \n",
    "    hist = model.fit_generator(gen, steps_per_epoch=1000, epochs=15, verbose=1)\n",
    "    \n",
    "    plot_history(hist, (16,4), title=str(lossf), start_x_from=3)\n",
    "    \n",
    "    # logcosh, cosine, mse, MAPE"
   ]
  },
  {
   "cell_type": "code",
   "execution_count": 6,
   "metadata": {},
   "outputs": [],
   "source": [
    "import keras.backend as K"
   ]
  },
  {
   "cell_type": "code",
   "execution_count": 7,
   "metadata": {
    "scrolled": true
   },
   "outputs": [
    {
     "ename": "NameError",
     "evalue": "name 'custom_loss' is not defined",
     "output_type": "error",
     "traceback": [
      "\u001b[0;31m---------------------------------------------------------------------------\u001b[0m",
      "\u001b[0;31mNameError\u001b[0m                                 Traceback (most recent call last)",
      "\u001b[0;32m<ipython-input-7-49aacc48aa2f>\u001b[0m in \u001b[0;36m<module>\u001b[0;34m()\u001b[0m\n\u001b[1;32m      8\u001b[0m model.compile(\n\u001b[1;32m      9\u001b[0m     \u001b[0moptimizer\u001b[0m\u001b[0;34m=\u001b[0m\u001b[0mkeras\u001b[0m\u001b[0;34m.\u001b[0m\u001b[0moptimizers\u001b[0m\u001b[0;34m.\u001b[0m\u001b[0madam\u001b[0m\u001b[0;34m(\u001b[0m\u001b[0;34m)\u001b[0m\u001b[0;34m,\u001b[0m\u001b[0;34m\u001b[0m\u001b[0m\n\u001b[0;32m---> 10\u001b[0;31m     \u001b[0mloss\u001b[0m\u001b[0;34m=\u001b[0m\u001b[0mcustom_loss\u001b[0m\u001b[0;34m,\u001b[0m\u001b[0;34m\u001b[0m\u001b[0m\n\u001b[0m\u001b[1;32m     11\u001b[0m     \u001b[0mmetrics\u001b[0m\u001b[0;34m=\u001b[0m\u001b[0;34m[\u001b[0m\u001b[0;34m'acc'\u001b[0m\u001b[0;34m]\u001b[0m\u001b[0;34m\u001b[0m\u001b[0m\n\u001b[1;32m     12\u001b[0m )\n",
      "\u001b[0;31mNameError\u001b[0m: name 'custom_loss' is not defined"
     ]
    }
   ],
   "source": [
    "SL = 100\n",
    "PL = SL // 2\n",
    "input_layer = kl.Input((SL, 1))\n",
    "x = kl.LSTM(SL)(input_layer)\n",
    "output_layer = kl.Dense(PL)(x)\n",
    "\n",
    "model = keras.Model(input_layer, output_layer)\n",
    "model.compile(\n",
    "    optimizer=keras.optimizers.adam(),\n",
    "    loss=custom_loss,\n",
    "    metrics=['acc']\n",
    ")\n",
    "model.summary()\n"
   ]
  },
  {
   "cell_type": "code",
   "execution_count": 92,
   "metadata": {},
   "outputs": [],
   "source": [
    "import tensorflow as tf"
   ]
  },
  {
   "cell_type": "code",
   "execution_count": null,
   "metadata": {},
   "outputs": [],
   "source": [
    "def custom_loss(y_true, y_pred):\n",
    "    mse = K.mean(K.square(y_pred - y_true), axis=-1)\n",
    "    linearity = K.sum(K.square((K.mean(y_pred) - y_pred)), axis=-1)\n",
    "    return mse/linearity"
   ]
  },
  {
   "cell_type": "code",
   "execution_count": 93,
   "metadata": {},
   "outputs": [],
   "source": [
    "def custom_loss(y_true, y_pred):\n",
    "    return K.sum(tf.square(tf.square(y_true) - tf.multiply(y_true, y_pred)))"
   ]
  },
  {
   "cell_type": "code",
   "execution_count": 97,
   "metadata": {
    "scrolled": true
   },
   "outputs": [
    {
     "name": "stdout",
     "output_type": "stream",
     "text": [
      "_________________________________________________________________\n",
      "Layer (type)                 Output Shape              Param #   \n",
      "=================================================================\n",
      "input_36 (InputLayer)        (None, 100, 1)            0         \n",
      "_________________________________________________________________\n",
      "lstm_37 (LSTM)               (None, 100, 100)          40800     \n",
      "_________________________________________________________________\n",
      "lstm_38 (LSTM)               (None, 100, 50)           30200     \n",
      "_________________________________________________________________\n",
      "reshape_9 (Reshape)          (None, 50, 100)           0         \n",
      "_________________________________________________________________\n",
      "time_distributed_20 (TimeDis (None, 50, 1)             101       \n",
      "_________________________________________________________________\n",
      "flatten_22 (Flatten)         (None, 50)                0         \n",
      "=================================================================\n",
      "Total params: 71,101\n",
      "Trainable params: 71,101\n",
      "Non-trainable params: 0\n",
      "_________________________________________________________________\n"
     ]
    }
   ],
   "source": [
    "SL = 100\n",
    "PL = SL // 2\n",
    "input_layer = kl.Input((SL, 1))\n",
    "\n",
    "x = kl.LSTM(SL, return_sequences=True)(input_layer)\n",
    "x = kl.LSTM(PL, return_sequences=True)(x)\n",
    "\n",
    "x = kl.Reshape((PL, SL))(x)\n",
    "\n",
    "x = kl.TimeDistributed(kl.Dense(1))(x)\n",
    "output_layer = kl.Flatten()(x)\n",
    "\n",
    "model = keras.Model(input_layer, output_layer)\n",
    "model.compile(\n",
    "    optimizer=keras.optimizers.adam(),\n",
    "    loss=custom_loss,\n",
    "    metrics=['acc']\n",
    ")\n",
    "model.summary()\n"
   ]
  },
  {
   "cell_type": "code",
   "execution_count": 113,
   "metadata": {
    "scrolled": true
   },
   "outputs": [
    {
     "name": "stdout",
     "output_type": "stream",
     "text": [
      "Epoch 1/10\n",
      "500/500 [==============================] - 71s 143ms/step - loss: 1853.0686 - acc: 0.0268\n",
      "Epoch 2/10\n",
      "500/500 [==============================] - 74s 147ms/step - loss: 1838.0347 - acc: 0.0260\n",
      "Epoch 3/10\n",
      "500/500 [==============================] - 75s 149ms/step - loss: 1828.1973 - acc: 0.0220\n",
      "Epoch 4/10\n",
      "500/500 [==============================] - 71s 143ms/step - loss: 1839.7738 - acc: 0.0180\n",
      "Epoch 5/10\n",
      "500/500 [==============================] - 72s 145ms/step - loss: 1820.7646 - acc: 0.0160\n",
      "Epoch 6/10\n",
      "500/500 [==============================] - 80s 161ms/step - loss: 1838.5870 - acc: 0.0200\n",
      "Epoch 7/10\n",
      "500/500 [==============================] - 80s 159ms/step - loss: 1794.0546 - acc: 0.0240\n",
      "Epoch 8/10\n",
      "500/500 [==============================] - 81s 162ms/step - loss: 1825.3186 - acc: 0.0260\n",
      "Epoch 9/10\n",
      "500/500 [==============================] - 74s 149ms/step - loss: 1799.7399 - acc: 0.0316\n",
      "Epoch 10/10\n",
      "500/500 [==============================] - 73s 146ms/step - loss: 1825.2936 - acc: 0.0300\n"
     ]
    }
   ],
   "source": [
    "gen = data_generator(\n",
    "    batch_size=100,\n",
    "    sequence_length=SL,\n",
    "    predict_length= PL,\n",
    "    coef=(1.,1.),\n",
    "    angf=(2*np.pi, 2*np.pi),\n",
    "    phase=(0.,5.),\n",
    "    const=(0.,0.)\n",
    ")\n",
    "\n",
    "hist = model.fit_generator(gen, steps_per_epoch=500, epochs=10, verbose=1)"
   ]
  },
  {
   "cell_type": "code",
   "execution_count": 122,
   "metadata": {},
   "outputs": [
    {
     "data": {
      "image/png": "[encoded data removed]",
      "text/plain": [
       "<Figure size 1152x288 with 1 Axes>"
      ]
     },
     "metadata": {},
     "output_type": "display_data"
    }
   ],
   "source": [
    "arrs, targets = next(gen)\n",
    "arr, t = arrs[0], targets[0]\n",
    "while len(arr) <= 3*SL:\n",
    "    prediction = model.predict(arr[-SL:].reshape(1, SL, 1)).reshape(PL, 1)\n",
    "    arr = np.concatenate((arr, prediction[:PL // 1]))\n",
    "\n",
    "plt.figure(figsize=(16,4))\n",
    "plt.plot(arr[:])\n",
    "plt.plot(range(SL,SL+len(t)), t) \n",
    "#plt.plot([SL, SL], [-1, 1])\n",
    "#plt.plot([SL+PL, SL+PL], [-1, 1])\n",
    "plt.show()"
   ]
  },
  {
   "cell_type": "code",
   "execution_count": null,
   "metadata": {},
   "outputs": [],
   "source": []
  },
  {
   "cell_type": "code",
   "execution_count": null,
   "metadata": {},
   "outputs": [],
   "source": []
  },
  {
   "cell_type": "code",
   "execution_count": null,
   "metadata": {},
   "outputs": [],
   "source": []
  },
  {
   "cell_type": "code",
   "execution_count": null,
   "metadata": {},
   "outputs": [],
   "source": [
    "models = [\n",
    "    (\n",
    "        kl.InputLayer((20, 1)),\n",
    "        kl.LSTM(1),\n",
    "    ),\n",
    "    (\n",
    "        kl.InputLayer((20, 1)),\n",
    "        kl.LSTM(2),\n",
    "    )]\n",
    "\n",
    "gen = data_generator(50, 20)\n",
    "\n",
    "for model_layers in models:\n",
    "    train_and_show_hist(keras.losses.mae, model_layers)\n"
   ]
  },
  {
   "cell_type": "code",
   "execution_count": null,
   "metadata": {},
   "outputs": [],
   "source": [
    "for i in range(100):\n",
    "    x, y = get_sequence_label_pair(L, 10*np.random.sample(100)-5)\n",
    "    \n",
    "    y = -1*y + 1\n",
    "    \n",
    "    #print(np.max(np.concatenate(((-x[1:] + x[:-1]), np.zeros(9))).reshape(2, 9), axis=0))\n",
    "    print(x, y, model.predict(x.reshape(1, 10, 1)).flatten()[0])"
   ]
  },
  {
   "cell_type": "code",
   "execution_count": null,
   "metadata": {},
   "outputs": [],
   "source": []
  },
  {
   "cell_type": "code",
   "execution_count": null,
   "metadata": {
    "scrolled": true
   },
   "outputs": [],
   "source": [
    "SL = 100\n",
    "PL = SL // 2\n",
    "model = build_model(\n",
    "    kl.InputLayer((SL, 1)),\n",
    "    kl.Flatten(),\n",
    "    kl.Dense(SL), #kernel_constraint=keras.constraints.UnitNorm()),\n",
    "    kl.Activation(kl.activations.tanh),\n",
    "    kl.Dense(PL, kernel_constraint=keras.constraints.UnitNorm()),\n",
    "    loss=keras.losses.cosine_proximity,\n",
    "    optimizer='adam',\n",
    "    verbose=1\n",
    ")"
   ]
  }
 ],
 "metadata": {
  "kernelspec": {
   "display_name": "Python 3",
   "language": "python",
   "name": "python3"
  },
  "language_info": {
   "codemirror_mode": {
    "name": "ipython",
    "version": 3
   },
   "file_extension": ".py",
   "mimetype": "text/x-python",
   "name": "python",
   "nbconvert_exporter": "python",
   "pygments_lexer": "ipython3",
   "version": "3.6.4"
  }
 },
 "nbformat": 4,
 "nbformat_minor": 2
}
