{
 "cells": [
  {
   "cell_type": "code",
   "execution_count": 8,
   "metadata": {},
   "outputs": [],
   "source": [
    "import comet_ml as cml\n"
   ]
  },
  {
   "cell_type": "code",
   "execution_count": 1,
   "metadata": {},
   "outputs": [
    {
     "name": "stdout",
     "output_type": "stream",
     "text": [
      "[[22. 28.]\n",
      " [49. 64.]]\n"
     ]
    }
   ],
   "source": [
    "import tensorflow as tf\n",
    "with tf.device('/gpu:0'):\n",
    "    a = tf.constant([1.0, 2.0, 3.0, 4.0, 5.0, 6.0], shape=[2, 3], name='a')\n",
    "    b = tf.constant([1.0, 2.0, 3.0, 4.0, 5.0, 6.0], shape=[3, 2], name='b')\n",
    "    c = tf.matmul(a, b)\n",
    "\n",
    "with tf.Session() as sess:\n",
    "    print (sess.run(c))"
   ]
  },
  {
   "cell_type": "code",
   "execution_count": 9,
   "metadata": {},
   "outputs": [
    {
     "data": {
      "text/plain": [
       "['ADD_SYMLINK_ERROR',\n",
       " 'ADD_TAGS_ERROR',\n",
       " 'API',\n",
       " 'AuthenticationError',\n",
       " 'BadCallbackArguments',\n",
       " 'BaseExperiment',\n",
       " 'CometModuleFinder',\n",
       " 'DistributionNotFound',\n",
       " 'EXPERIMENT_CREATED',\n",
       " 'EXPERIMENT_CREATION_FAILED',\n",
       " 'EXPERIMENT_LIVE',\n",
       " 'ExistingExperiment',\n",
       " 'Experiment',\n",
       " 'FeatureToggles',\n",
       " 'HTTP_LOGGING',\n",
       " 'INITIAL_BEAT_DURATION',\n",
       " 'INTERNET_CONNECTION_ERROR',\n",
       " 'INVALID_API_KEY',\n",
       " 'INVALID_PROJECT_NAME',\n",
       " 'INVALID_WORKSPACE_NAME',\n",
       " 'InvalidAPIKey',\n",
       " 'InvalidWorkspace',\n",
       " 'LOGGER',\n",
       " 'MODULE_FINDER',\n",
       " 'NoMoreSuggestionsAvailable',\n",
       " 'NotParametrizedException',\n",
       " 'OfflineExperiment',\n",
       " 'OptimizationMultipleParams',\n",
       " 'Optimizer',\n",
       " 'OptimizerConnection',\n",
       " 'PARSING_ERR_MSG',\n",
       " 'PCSParsingError',\n",
       " 'ProjectNameEmpty',\n",
       " 'REGISTER_RPC_FAILED',\n",
       " 'RestServerConnection',\n",
       " 'Streamer',\n",
       " 'Suggestion',\n",
       " 'ValidationError',\n",
       " 'WebSocketConnection',\n",
       " '__all__',\n",
       " '__author__',\n",
       " '__builtins__',\n",
       " '__cached__',\n",
       " '__doc__',\n",
       " '__file__',\n",
       " '__loader__',\n",
       " '__name__',\n",
       " '__package__',\n",
       " '__path__',\n",
       " '__spec__',\n",
       " '__version__',\n",
       " '_logging',\n",
       " '_reporting',\n",
       " 'api',\n",
       " 'comet',\n",
       " 'config',\n",
       " 'connection',\n",
       " 'console',\n",
       " 'create_remote_call',\n",
       " 'env_logging',\n",
       " 'exceptions',\n",
       " 'experiment',\n",
       " 'fastai_logger',\n",
       " 'fastai_patch',\n",
       " 'feature_toggles',\n",
       " 'file_uploader',\n",
       " 'generate_guid',\n",
       " 'get_api_key',\n",
       " 'get_backend_address',\n",
       " 'get_config',\n",
       " 'get_distribution',\n",
       " 'get_optimizer_address',\n",
       " 'get_remote_action_definition',\n",
       " 'git_logging',\n",
       " 'gpu_logging',\n",
       " 'is_valid_guid',\n",
       " 'json_encoder',\n",
       " 'keras_logger',\n",
       " 'keras_patch',\n",
       " 'log_url',\n",
       " 'logging',\n",
       " 'monkey_patching',\n",
       " 'offline',\n",
       " 'optimization',\n",
       " 'parse_pcs',\n",
       " 'print_function',\n",
       " 'pytorch_logger',\n",
       " 'pytorch_patch',\n",
       " 'requests',\n",
       " 'rpc',\n",
       " 'setup',\n",
       " 'setup_http_handler',\n",
       " 'six',\n",
       " 'sklearn_logger',\n",
       " 'sklearn_patch',\n",
       " 'start',\n",
       " 'tb_patch',\n",
       " 'tensorboard_logger',\n",
       " 'tensorflow_logger',\n",
       " 'tf_patch',\n",
       " 'time',\n",
       " 'traceback',\n",
       " 'utils']"
      ]
     },
     "execution_count": 9,
     "metadata": {},
     "output_type": "execute_result"
    }
   ],
   "source": [
    "dir(cml)"
   ]
  }
 ],
 "metadata": {
  "kernelspec": {
   "display_name": "Python 3",
   "language": "python",
   "name": "python3"
  },
  "language_info": {
   "codemirror_mode": {
    "name": "ipython",
    "version": 3
   },
   "file_extension": ".py",
   "mimetype": "text/x-python",
   "name": "python",
   "nbconvert_exporter": "python",
   "pygments_lexer": "ipython3",
   "version": "3.7.2"
  }
 },
 "nbformat": 4,
 "nbformat_minor": 2
}
