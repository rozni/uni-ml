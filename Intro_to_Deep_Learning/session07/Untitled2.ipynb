{
 "cells": [
  {
   "cell_type": "code",
   "execution_count": 1,
   "metadata": {},
   "outputs": [
    {
     "name": "stderr",
     "output_type": "stream",
     "text": [
      "Using TensorFlow backend.\n"
     ]
    }
   ],
   "source": [
    "# for testing whether CPU or GPU is faster on a problem\n",
    "NO_GPU = False\n",
    "\n",
    "if NO_GPU:\n",
    "    import os\n",
    "    os.environ[\"CUDA_DEVICE_ORDER\"] = \"PCI_BUS_ID\"\n",
    "    os.environ[\"CUDA_VISIBLE_DEVICES\"] = \"\"\n",
    "    \n",
    "import numpy as np\n",
    "import matplotlib.pyplot as plt\n",
    "import keras\n",
    "import keras.layers as kl"
   ]
  },
  {
   "cell_type": "code",
   "execution_count": 2,
   "metadata": {},
   "outputs": [],
   "source": [
    "def build_model(*layers, verbose=False,\n",
    "               optimizer='adam', loss='binary_crossentropy', metrics=['acc'],\n",
    "               compile_kwargs={}):\n",
    "    \n",
    "    model = keras.models.Sequential()\n",
    "    \n",
    "    for layer in layers:\n",
    "        model.add(layer)\n",
    "        \n",
    "    if verbose:\n",
    "        print(\"Model summary:\")\n",
    "        model.summary()\n",
    "    \n",
    "    for kw in ('optimizer', 'loss', 'metrics'):\n",
    "        if not kw in compile_kwargs:\n",
    "            compile_kwargs[kw] = locals()[kw]\n",
    "    model.compile(**compile_kwargs)\n",
    "    \n",
    "    return model"
   ]
  },
  {
   "cell_type": "code",
   "execution_count": 3,
   "metadata": {},
   "outputs": [],
   "source": [
    "def is_sorted(a):\n",
    "    return np.all(a[:-1] <= a[1:])\n",
    "\n",
    "def get_sorted(a):\n",
    "    assert len(a.shape) == 1 # is flat\n",
    "    return np.sort(a)\n",
    "\n",
    "def get_unsorted(a):\n",
    "    assert len(a.shape) == 1 # is flat\n",
    "    if not is_sorted(a):\n",
    "        return a\n",
    "    return get_unsorted(np.random.permutation(a))\n",
    "\n",
    "def get_sequence_label_pair(sequence_length, from_numbers, sorted_label=1, unsorted_label=0):\n",
    "    sequence = np.random.choice(from_numbers, size=sequence_length)\n",
    "    sort = np.random.randint(0, 2) # toss a coin\n",
    "    if sort:\n",
    "        return get_sorted(sequence), sorted_label\n",
    "    else:\n",
    "        try:\n",
    "            return get_unsorted(sequence), unsorted_label\n",
    "        except RecursionError: # happens when all chosen elements are the same\n",
    "            # let's try again, but not more times, I might have been stupid elsewhere\n",
    "            return get_unsorted(np.random.choice(from_numbers, size=sequence_length)), unsorted_label\n",
    "\n",
    "def data_generator(batch_size, data_shape, from_numbers, sorted_label=1, unsorted_label=0):\n",
    "    sequence_length = np.product(data_shape)\n",
    "    while True:\n",
    "        data = np.zeros((batch_size, sequence_length))\n",
    "        labels = []\n",
    "        \n",
    "        for i in range(batch_size):\n",
    "            x, y = get_sequence_label_pair(sequence_length, from_numbers, sorted_label, unsorted_label)\n",
    "            data[i] = x\n",
    "            labels.append(y)\n",
    "\n",
    "        yield data.reshape((batch_size, *data_shape)), np.asarray(labels)\n",
    "\n",
    "def variable_length_data_generator(batch_size, sequence_lengths, from_numbers, sorted_label=1, unsorted_label=0):\n",
    "    while True:\n",
    "        sequence_length = np.random.choice(sequence_lengths)\n",
    "        data = np.zeros((batch_size, sequence_length))\n",
    "        labels = []\n",
    "        \n",
    "        for i in range(batch_size):\n",
    "            x, y = get_sequence_label_pair(sequence_length, from_numbers, sorted_label, unsorted_label)\n",
    "            data[i] = x\n",
    "            labels.append(y)\n",
    "\n",
    "        yield data.reshape((batch_size, sequence_length, 1)), np.asarray(labels)\n"
   ]
  },
  {
   "cell_type": "code",
   "execution_count": 4,
   "metadata": {},
   "outputs": [],
   "source": [
    "def plot_history(history, figsize=(15,4), title='', columns=2, start_x_from=0):\n",
    "    \"\"\"Graphs a history for each key (combines validation and training keys into one plot).\n",
    "    \n",
    "    start_x_from=N skips the first N entries.\n",
    "    \n",
    "    History can be a whole training history class or just a dict.\"\"\"\n",
    "    \n",
    "    if hasattr(history, 'history'): # full history given\n",
    "        history = history.history   # only that history is enough\n",
    "        \n",
    "    assert hasattr(history, 'keys')\n",
    "    keys = [key for key in history.keys() if not key.startswith(\"val_\")]\n",
    "    assert keys # there is one at least\n",
    "    epochs = list(range(1,len(history[keys[0]])+1)) # all should have the same size list\n",
    "    \n",
    "    rows = np.ceil(len(keys)/columns).astype('int')\n",
    "    \n",
    "    fig=plt.figure(figsize=figsize)\n",
    "    f = plt.title(title)\n",
    "    f.axes.get_xaxis().set_visible(False)\n",
    "    f.axes.get_yaxis().set_visible(False)\n",
    "    \n",
    "    i = 1\n",
    "    for key in sorted(keys):\n",
    "        valkey = \"val_\" + key\n",
    "        fig.add_subplot(rows, columns, i)\n",
    "        i += 1\n",
    "        plt.plot(epochs[start_x_from:], history[key][start_x_from:], label=\"Training \" + key,\n",
    "                 marker='.', color='#00A287', linestyle='')\n",
    "        \n",
    "        late_avg = np.mean(history[key][(len(history[key]) * 90) // 100 : ])\n",
    "        plt.plot((epochs[start_x_from], epochs[-1]), (late_avg, late_avg),\n",
    "                 color=\"#74E600\", label='Mean {:.3f}'.format(late_avg))\n",
    "        if valkey in history:\n",
    "            plt.plot(epochs[start_x_from:], history[valkey][start_x_from:], label='Validation ' + key,\n",
    "                    marker='+', color='#DF004F', linestyle='')\n",
    "            \n",
    "            late_avg = np.mean(history[valkey][(len(history[valkey]) * 90) // 100 : ])\n",
    "            plt.plot((epochs[start_x_from], epochs[-1]), (late_avg, late_avg),\n",
    "                     color=\"#FF6700\", label='Mean {:.3f}'.format(late_avg))\n",
    "        plt.legend()\n",
    "        \n",
    "    plt.show()"
   ]
  },
  {
   "cell_type": "code",
   "execution_count": 5,
   "metadata": {},
   "outputs": [
    {
     "name": "stdout",
     "output_type": "stream",
     "text": [
      "WARNING:tensorflow:From /home/martin/.local/lib/python3.7/site-packages/tensorflow/python/framework/op_def_library.py:263: colocate_with (from tensorflow.python.framework.ops) is deprecated and will be removed in a future version.\n",
      "Instructions for updating:\n",
      "Colocations handled automatically by placer.\n",
      "loss: 0.3450459977388382\n",
      "acc: 1.0\n"
     ]
    }
   ],
   "source": [
    "SEQ_LENGTH = 10;\n",
    "\n",
    "model = build_model(\n",
    "    kl.InputLayer((SEQ_LENGTH, 1)),\n",
    "    kl.Conv1D(1, 2, activation='relu', use_bias=False),\n",
    "    kl.Flatten(),\n",
    "    kl.Dense(1, activation='sigmoid', use_bias=False),\n",
    "    loss='binary_crossentropy',\n",
    "    verbose=0\n",
    ")\n",
    "\n",
    "w = model.get_weights()\n",
    "\n",
    "w[0] = np.array([1.0, -1.0], dtype='float32').reshape(w[0].shape)\n",
    "w[1] = np.ones_like(w[1])\n",
    "\n",
    "model.set_weights(w)\n",
    "\n",
    "gen = data_generator(\n",
    "    batch_size=100,\n",
    "    data_shape=(SEQ_LENGTH, 1),\n",
    "    from_numbers=10*np.random.sample(10000)-5,\n",
    "    sorted_label=0,\n",
    "    unsorted_label=1\n",
    ")\n",
    "\n",
    "print(\"{0[0]}: {1[0]}\\n{0[1]}: {1[1]}\".format(model.metrics_names, model.evaluate_generator(gen, steps=500)))"
   ]
  },
  {
   "cell_type": "code",
   "execution_count": 6,
   "metadata": {},
   "outputs": [],
   "source": [
    "SEQ_LENGTH = 10;\n",
    "# best so far:\n",
    "# relu, softsign\n",
    "# elu, sigmoid\n",
    "# elu, softsign - not working (90% and then decreases)\n",
    "model = build_model(\n",
    "    kl.InputLayer((SEQ_LENGTH, 1)),\n",
    "    kl.Conv1D(1, 2, activation='elu', use_bias=True),\n",
    "    kl.Flatten(),\n",
    "    kl.Dense(1, activation='sigmoid', use_bias=True),\n",
    "    loss='binary_crossentropy',\n",
    "    verbose=0\n",
    ")\n",
    "\n",
    "gen = data_generator(\n",
    "    batch_size=100,\n",
    "    data_shape=(SEQ_LENGTH, 1),\n",
    "    from_numbers=4*np.random.sample(10000)-2,\n",
    "    sorted_label=0,\n",
    "    unsorted_label=1\n",
    ")"
   ]
  },
  {
   "cell_type": "code",
   "execution_count": 7,
   "metadata": {},
   "outputs": [
    {
     "name": "stdout",
     "output_type": "stream",
     "text": [
      "WARNING:tensorflow:From /home/martin/.local/lib/python3.7/site-packages/tensorflow/python/ops/math_ops.py:3066: to_int32 (from tensorflow.python.ops.math_ops) is deprecated and will be removed in a future version.\n",
      "Instructions for updating:\n",
      "Use tf.cast instead.\n",
      "Epoch 1/200\n",
      "1000/1000 [==============================] - 4s 4ms/step - loss: 0.6874 - acc: 0.7142\n",
      "Epoch 2/200\n",
      "1000/1000 [==============================] - 3s 3ms/step - loss: 0.6525 - acc: 0.9195\n",
      "Epoch 3/200\n",
      "1000/1000 [==============================] - 3s 3ms/step - loss: 0.6002 - acc: 0.9348\n",
      "Epoch 4/200\n",
      "1000/1000 [==============================] - 3s 3ms/step - loss: 0.5427 - acc: 0.9422\n",
      "Epoch 5/200\n",
      "1000/1000 [==============================] - 3s 3ms/step - loss: 0.4862 - acc: 0.9445\n",
      "Epoch 6/200\n",
      "1000/1000 [==============================] - 3s 3ms/step - loss: 0.4334 - acc: 0.9460\n",
      "Epoch 7/200\n",
      " 692/1000 [===================>..........] - ETA: 0s - loss: 0.3923 - acc: 0.9471"
     ]
    },
    {
     "ename": "KeyboardInterrupt",
     "evalue": "",
     "output_type": "error",
     "traceback": [
      "\u001b[0;31m---------------------------------------------------------------------------\u001b[0m",
      "\u001b[0;31mKeyboardInterrupt\u001b[0m                         Traceback (most recent call last)",
      "\u001b[0;32m<ipython-input-7-c8245e55080e>\u001b[0m in \u001b[0;36m<module>\u001b[0;34m\u001b[0m\n\u001b[1;32m     21\u001b[0m )\n\u001b[1;32m     22\u001b[0m \u001b[0;34m\u001b[0m\u001b[0m\n\u001b[0;32m---> 23\u001b[0;31m \u001b[0mmodel\u001b[0m\u001b[0;34m.\u001b[0m\u001b[0mfit_generator\u001b[0m\u001b[0;34m(\u001b[0m\u001b[0mgen\u001b[0m\u001b[0;34m,\u001b[0m \u001b[0msteps_per_epoch\u001b[0m\u001b[0;34m=\u001b[0m\u001b[0;36m1000\u001b[0m\u001b[0;34m,\u001b[0m \u001b[0mepochs\u001b[0m\u001b[0;34m=\u001b[0m\u001b[0;36m200\u001b[0m\u001b[0;34m)\u001b[0m\u001b[0;34m\u001b[0m\u001b[0;34m\u001b[0m\u001b[0m\n\u001b[0m\u001b[1;32m     24\u001b[0m \u001b[0;34m\u001b[0m\u001b[0m\n\u001b[1;32m     25\u001b[0m \u001b[0mprint\u001b[0m\u001b[0;34m(\u001b[0m\u001b[0;34m\"{0[0]}: {1[0]}\\n{0[1]}: {1[1]}\"\u001b[0m\u001b[0;34m.\u001b[0m\u001b[0mformat\u001b[0m\u001b[0;34m(\u001b[0m\u001b[0mmodel\u001b[0m\u001b[0;34m.\u001b[0m\u001b[0mmetrics_names\u001b[0m\u001b[0;34m,\u001b[0m \u001b[0mmodel\u001b[0m\u001b[0;34m.\u001b[0m\u001b[0mevaluate_generator\u001b[0m\u001b[0;34m(\u001b[0m\u001b[0mgen\u001b[0m\u001b[0;34m,\u001b[0m \u001b[0msteps\u001b[0m\u001b[0;34m=\u001b[0m\u001b[0;36m500\u001b[0m\u001b[0;34m)\u001b[0m\u001b[0;34m)\u001b[0m\u001b[0;34m)\u001b[0m\u001b[0;34m\u001b[0m\u001b[0;34m\u001b[0m\u001b[0m\n",
      "\u001b[0;32m~/.local/lib/python3.7/site-packages/keras/legacy/interfaces.py\u001b[0m in \u001b[0;36mwrapper\u001b[0;34m(*args, **kwargs)\u001b[0m\n\u001b[1;32m     89\u001b[0m                 warnings.warn('Update your `' + object_name + '` call to the ' +\n\u001b[1;32m     90\u001b[0m                               'Keras 2 API: ' + signature, stacklevel=2)\n\u001b[0;32m---> 91\u001b[0;31m             \u001b[0;32mreturn\u001b[0m \u001b[0mfunc\u001b[0m\u001b[0;34m(\u001b[0m\u001b[0;34m*\u001b[0m\u001b[0margs\u001b[0m\u001b[0;34m,\u001b[0m \u001b[0;34m**\u001b[0m\u001b[0mkwargs\u001b[0m\u001b[0;34m)\u001b[0m\u001b[0;34m\u001b[0m\u001b[0;34m\u001b[0m\u001b[0m\n\u001b[0m\u001b[1;32m     92\u001b[0m         \u001b[0mwrapper\u001b[0m\u001b[0;34m.\u001b[0m\u001b[0m_original_function\u001b[0m \u001b[0;34m=\u001b[0m \u001b[0mfunc\u001b[0m\u001b[0;34m\u001b[0m\u001b[0;34m\u001b[0m\u001b[0m\n\u001b[1;32m     93\u001b[0m         \u001b[0;32mreturn\u001b[0m \u001b[0mwrapper\u001b[0m\u001b[0;34m\u001b[0m\u001b[0;34m\u001b[0m\u001b[0m\n",
      "\u001b[0;32m~/.local/lib/python3.7/site-packages/keras/engine/training.py\u001b[0m in \u001b[0;36mfit_generator\u001b[0;34m(self, generator, steps_per_epoch, epochs, verbose, callbacks, validation_data, validation_steps, class_weight, max_queue_size, workers, use_multiprocessing, shuffle, initial_epoch)\u001b[0m\n\u001b[1;32m   1416\u001b[0m             \u001b[0muse_multiprocessing\u001b[0m\u001b[0;34m=\u001b[0m\u001b[0muse_multiprocessing\u001b[0m\u001b[0;34m,\u001b[0m\u001b[0;34m\u001b[0m\u001b[0;34m\u001b[0m\u001b[0m\n\u001b[1;32m   1417\u001b[0m             \u001b[0mshuffle\u001b[0m\u001b[0;34m=\u001b[0m\u001b[0mshuffle\u001b[0m\u001b[0;34m,\u001b[0m\u001b[0;34m\u001b[0m\u001b[0;34m\u001b[0m\u001b[0m\n\u001b[0;32m-> 1418\u001b[0;31m             initial_epoch=initial_epoch)\n\u001b[0m\u001b[1;32m   1419\u001b[0m \u001b[0;34m\u001b[0m\u001b[0m\n\u001b[1;32m   1420\u001b[0m     \u001b[0;34m@\u001b[0m\u001b[0minterfaces\u001b[0m\u001b[0;34m.\u001b[0m\u001b[0mlegacy_generator_methods_support\u001b[0m\u001b[0;34m\u001b[0m\u001b[0;34m\u001b[0m\u001b[0m\n",
      "\u001b[0;32m~/.local/lib/python3.7/site-packages/keras/engine/training_generator.py\u001b[0m in \u001b[0;36mfit_generator\u001b[0;34m(model, generator, steps_per_epoch, epochs, verbose, callbacks, validation_data, validation_steps, class_weight, max_queue_size, workers, use_multiprocessing, shuffle, initial_epoch)\u001b[0m\n\u001b[1;32m    215\u001b[0m                 outs = model.train_on_batch(x, y,\n\u001b[1;32m    216\u001b[0m                                             \u001b[0msample_weight\u001b[0m\u001b[0;34m=\u001b[0m\u001b[0msample_weight\u001b[0m\u001b[0;34m,\u001b[0m\u001b[0;34m\u001b[0m\u001b[0;34m\u001b[0m\u001b[0m\n\u001b[0;32m--> 217\u001b[0;31m                                             class_weight=class_weight)\n\u001b[0m\u001b[1;32m    218\u001b[0m \u001b[0;34m\u001b[0m\u001b[0m\n\u001b[1;32m    219\u001b[0m                 \u001b[0mouts\u001b[0m \u001b[0;34m=\u001b[0m \u001b[0mto_list\u001b[0m\u001b[0;34m(\u001b[0m\u001b[0mouts\u001b[0m\u001b[0;34m)\u001b[0m\u001b[0;34m\u001b[0m\u001b[0;34m\u001b[0m\u001b[0m\n",
      "\u001b[0;32m~/.local/lib/python3.7/site-packages/keras/engine/training.py\u001b[0m in \u001b[0;36mtrain_on_batch\u001b[0;34m(self, x, y, sample_weight, class_weight)\u001b[0m\n\u001b[1;32m   1215\u001b[0m             \u001b[0mins\u001b[0m \u001b[0;34m=\u001b[0m \u001b[0mx\u001b[0m \u001b[0;34m+\u001b[0m \u001b[0my\u001b[0m \u001b[0;34m+\u001b[0m \u001b[0msample_weights\u001b[0m\u001b[0;34m\u001b[0m\u001b[0;34m\u001b[0m\u001b[0m\n\u001b[1;32m   1216\u001b[0m         \u001b[0mself\u001b[0m\u001b[0;34m.\u001b[0m\u001b[0m_make_train_function\u001b[0m\u001b[0;34m(\u001b[0m\u001b[0;34m)\u001b[0m\u001b[0;34m\u001b[0m\u001b[0;34m\u001b[0m\u001b[0m\n\u001b[0;32m-> 1217\u001b[0;31m         \u001b[0moutputs\u001b[0m \u001b[0;34m=\u001b[0m \u001b[0mself\u001b[0m\u001b[0;34m.\u001b[0m\u001b[0mtrain_function\u001b[0m\u001b[0;34m(\u001b[0m\u001b[0mins\u001b[0m\u001b[0;34m)\u001b[0m\u001b[0;34m\u001b[0m\u001b[0;34m\u001b[0m\u001b[0m\n\u001b[0m\u001b[1;32m   1218\u001b[0m         \u001b[0;32mreturn\u001b[0m \u001b[0munpack_singleton\u001b[0m\u001b[0;34m(\u001b[0m\u001b[0moutputs\u001b[0m\u001b[0;34m)\u001b[0m\u001b[0;34m\u001b[0m\u001b[0;34m\u001b[0m\u001b[0m\n\u001b[1;32m   1219\u001b[0m \u001b[0;34m\u001b[0m\u001b[0m\n",
      "\u001b[0;32m~/.local/lib/python3.7/site-packages/keras/backend/tensorflow_backend.py\u001b[0m in \u001b[0;36m__call__\u001b[0;34m(self, inputs)\u001b[0m\n\u001b[1;32m   2713\u001b[0m                 \u001b[0;32mreturn\u001b[0m \u001b[0mself\u001b[0m\u001b[0;34m.\u001b[0m\u001b[0m_legacy_call\u001b[0m\u001b[0;34m(\u001b[0m\u001b[0minputs\u001b[0m\u001b[0;34m)\u001b[0m\u001b[0;34m\u001b[0m\u001b[0;34m\u001b[0m\u001b[0m\n\u001b[1;32m   2714\u001b[0m \u001b[0;34m\u001b[0m\u001b[0m\n\u001b[0;32m-> 2715\u001b[0;31m             \u001b[0;32mreturn\u001b[0m \u001b[0mself\u001b[0m\u001b[0;34m.\u001b[0m\u001b[0m_call\u001b[0m\u001b[0;34m(\u001b[0m\u001b[0minputs\u001b[0m\u001b[0;34m)\u001b[0m\u001b[0;34m\u001b[0m\u001b[0;34m\u001b[0m\u001b[0m\n\u001b[0m\u001b[1;32m   2716\u001b[0m         \u001b[0;32melse\u001b[0m\u001b[0;34m:\u001b[0m\u001b[0;34m\u001b[0m\u001b[0;34m\u001b[0m\u001b[0m\n\u001b[1;32m   2717\u001b[0m             \u001b[0;32mif\u001b[0m \u001b[0mpy_any\u001b[0m\u001b[0;34m(\u001b[0m\u001b[0mis_tensor\u001b[0m\u001b[0;34m(\u001b[0m\u001b[0mx\u001b[0m\u001b[0;34m)\u001b[0m \u001b[0;32mfor\u001b[0m \u001b[0mx\u001b[0m \u001b[0;32min\u001b[0m \u001b[0minputs\u001b[0m\u001b[0;34m)\u001b[0m\u001b[0;34m:\u001b[0m\u001b[0;34m\u001b[0m\u001b[0;34m\u001b[0m\u001b[0m\n",
      "\u001b[0;32m~/.local/lib/python3.7/site-packages/keras/backend/tensorflow_backend.py\u001b[0m in \u001b[0;36m_call\u001b[0;34m(self, inputs)\u001b[0m\n\u001b[1;32m   2673\u001b[0m             \u001b[0mfetched\u001b[0m \u001b[0;34m=\u001b[0m \u001b[0mself\u001b[0m\u001b[0;34m.\u001b[0m\u001b[0m_callable_fn\u001b[0m\u001b[0;34m(\u001b[0m\u001b[0;34m*\u001b[0m\u001b[0marray_vals\u001b[0m\u001b[0;34m,\u001b[0m \u001b[0mrun_metadata\u001b[0m\u001b[0;34m=\u001b[0m\u001b[0mself\u001b[0m\u001b[0;34m.\u001b[0m\u001b[0mrun_metadata\u001b[0m\u001b[0;34m)\u001b[0m\u001b[0;34m\u001b[0m\u001b[0;34m\u001b[0m\u001b[0m\n\u001b[1;32m   2674\u001b[0m         \u001b[0;32melse\u001b[0m\u001b[0;34m:\u001b[0m\u001b[0;34m\u001b[0m\u001b[0;34m\u001b[0m\u001b[0m\n\u001b[0;32m-> 2675\u001b[0;31m             \u001b[0mfetched\u001b[0m \u001b[0;34m=\u001b[0m \u001b[0mself\u001b[0m\u001b[0;34m.\u001b[0m\u001b[0m_callable_fn\u001b[0m\u001b[0;34m(\u001b[0m\u001b[0;34m*\u001b[0m\u001b[0marray_vals\u001b[0m\u001b[0;34m)\u001b[0m\u001b[0;34m\u001b[0m\u001b[0;34m\u001b[0m\u001b[0m\n\u001b[0m\u001b[1;32m   2676\u001b[0m         \u001b[0;32mreturn\u001b[0m \u001b[0mfetched\u001b[0m\u001b[0;34m[\u001b[0m\u001b[0;34m:\u001b[0m\u001b[0mlen\u001b[0m\u001b[0;34m(\u001b[0m\u001b[0mself\u001b[0m\u001b[0;34m.\u001b[0m\u001b[0moutputs\u001b[0m\u001b[0;34m)\u001b[0m\u001b[0;34m]\u001b[0m\u001b[0;34m\u001b[0m\u001b[0;34m\u001b[0m\u001b[0m\n\u001b[1;32m   2677\u001b[0m \u001b[0;34m\u001b[0m\u001b[0m\n",
      "\u001b[0;32m~/.local/lib/python3.7/site-packages/tensorflow/python/client/session.py\u001b[0m in \u001b[0;36m__call__\u001b[0;34m(self, *args, **kwargs)\u001b[0m\n\u001b[1;32m   1437\u001b[0m           ret = tf_session.TF_SessionRunCallable(\n\u001b[1;32m   1438\u001b[0m               \u001b[0mself\u001b[0m\u001b[0;34m.\u001b[0m\u001b[0m_session\u001b[0m\u001b[0;34m.\u001b[0m\u001b[0m_session\u001b[0m\u001b[0;34m,\u001b[0m \u001b[0mself\u001b[0m\u001b[0;34m.\u001b[0m\u001b[0m_handle\u001b[0m\u001b[0;34m,\u001b[0m \u001b[0margs\u001b[0m\u001b[0;34m,\u001b[0m \u001b[0mstatus\u001b[0m\u001b[0;34m,\u001b[0m\u001b[0;34m\u001b[0m\u001b[0;34m\u001b[0m\u001b[0m\n\u001b[0;32m-> 1439\u001b[0;31m               run_metadata_ptr)\n\u001b[0m\u001b[1;32m   1440\u001b[0m         \u001b[0;32mif\u001b[0m \u001b[0mrun_metadata\u001b[0m\u001b[0;34m:\u001b[0m\u001b[0;34m\u001b[0m\u001b[0;34m\u001b[0m\u001b[0m\n\u001b[1;32m   1441\u001b[0m           \u001b[0mproto_data\u001b[0m \u001b[0;34m=\u001b[0m \u001b[0mtf_session\u001b[0m\u001b[0;34m.\u001b[0m\u001b[0mTF_GetBuffer\u001b[0m\u001b[0;34m(\u001b[0m\u001b[0mrun_metadata_ptr\u001b[0m\u001b[0;34m)\u001b[0m\u001b[0;34m\u001b[0m\u001b[0;34m\u001b[0m\u001b[0m\n",
      "\u001b[0;31mKeyboardInterrupt\u001b[0m: "
     ]
    }
   ],
   "source": [
    "SEQ_LENGTH = 10;\n",
    "# best so far:\n",
    "# relu, softsign\n",
    "# elu, sigmoid (sometimes gets stuck, better to use more conv units, reaches 100%)\n",
    "# elu, softsign - not working (90% and then decreases)\n",
    "model = build_model(\n",
    "    kl.InputLayer((SEQ_LENGTH, 1)),\n",
    "    kl.Conv1D(1, 2, activation='elu', use_bias=True),\n",
    "    kl.Flatten(),\n",
    "    kl.Dense(1, activation='sigmoid', use_bias=True),\n",
    "    loss='binary_crossentropy',\n",
    "    verbose=0\n",
    ")\n",
    "\n",
    "gen = data_generator(\n",
    "    batch_size=100,\n",
    "    data_shape=(SEQ_LENGTH, 1),\n",
    "    from_numbers=0.01*(np.random.sample(10000)-0.5),\n",
    "    sorted_label=0,\n",
    "    unsorted_label=1\n",
    ")\n",
    "\n",
    "model.fit_generator(gen, steps_per_epoch=1000, epochs=200)\n",
    "\n",
    "print(\"{0[0]}: {1[0]}\\n{0[1]}: {1[1]}\".format(model.metrics_names, model.evaluate_generator(gen, steps=500)))"
   ]
  },
  {
   "cell_type": "code",
   "execution_count": null,
   "metadata": {},
   "outputs": [],
   "source": [
    "model = build_model(\n",
    "    kl.InputLayer((None, 1)),\n",
    "    kl.GRU(1),\n",
    "    kl.Dense(1, activation='sigmoid', use_bias=True),\n",
    "    loss=keras.losses.hinge,\n",
    "    verbose=1\n",
    ")"
   ]
  },
  {
   "cell_type": "code",
   "execution_count": null,
   "metadata": {},
   "outputs": [],
   "source": [
    "gen = variable_length_data_generator(\n",
    "    batch_size=100,\n",
    "    sequence_lengths=(5,10,10),\n",
    "    from_numbers=4*(np.random.sample(10000)-0.5),\n",
    "    sorted_label=1,\n",
    "    unsorted_label=0\n",
    ")\n",
    "\n",
    "model.fit_generator(gen, steps_per_epoch=1000, epochs=10)\n",
    "\n",
    "print(\"{0[0]}: {1[0]}\\n{0[1]}: {1[1]}\".format(model.metrics_names, model.evaluate_generator(gen, steps=50)))"
   ]
  },
  {
   "cell_type": "code",
   "execution_count": null,
   "metadata": {},
   "outputs": [],
   "source": [
    "model = build_model(\n",
    "    kl.InputLayer((None, 1)),\n",
    "    kl.GRU(2),\n",
    "    kl.Dense(2, activation='elu', use_bias=True),\n",
    "    kl.Dense(2, activation='softmax', use_bias=True),\n",
    "    loss=keras.losses.categorical_crossentropy,\n",
    "    verbose=1\n",
    ")"
   ]
  },
  {
   "cell_type": "code",
   "execution_count": null,
   "metadata": {},
   "outputs": [],
   "source": [
    "gen = variable_length_data_generator(\n",
    "    batch_size=100,\n",
    "    sequence_lengths=(2000),\n",
    "    from_numbers=4*(np.random.sample(10000)-0.5),\n",
    "    sorted_label=[1,0],\n",
    "    unsorted_label=[0,1]\n",
    ")\n",
    "\n",
    "#model.fit_generator(gen, steps_per_epoch=1000, epochs=10)\n",
    "\n",
    "print(\"{0[0]}: {1[0]}\\n{0[1]}: {1[1]}\".format(model.metrics_names, model.evaluate_generator(gen, steps=50)))"
   ]
  },
  {
   "cell_type": "code",
   "execution_count": null,
   "metadata": {},
   "outputs": [],
   "source": [
    "model = build_model(\n",
    "    kl.InputLayer((None, 1)),\n",
    "    kl.GRU(2),\n",
    "    #kl.Dense(2, activation='elu', use_bias=True),\n",
    "    kl.Dense(1, activation='sigmoid', use_bias=True),\n",
    "    loss=keras.losses.binary_crossentropy,\n",
    "    verbose=1\n",
    ")"
   ]
  },
  {
   "cell_type": "code",
   "execution_count": null,
   "metadata": {},
   "outputs": [],
   "source": [
    "gen = variable_length_data_generator(\n",
    "    batch_size=1,\n",
    "    sequence_lengths=(20000,),#(2,2,4,5,10,50),\n",
    "    from_numbers=4*(np.random.sample(10000)-0.5),\n",
    "    sorted_label=1,\n",
    "    unsorted_label=0\n",
    ")\n",
    "\n",
    "#model.fit_generator(gen, steps_per_epoch=1000, epochs=10)\n",
    "\n",
    "print(\"{0[0]}: {1[0]}\\n{0[1]}: {1[1]}\".format(model.metrics_names, model.evaluate_generator(gen, steps=50)))"
   ]
  },
  {
   "cell_type": "code",
   "execution_count": null,
   "metadata": {},
   "outputs": [],
   "source": [
    "def greeting(name: str, times: int) -> str:\n",
    "    return int(times)*'Hello ' + name\n"
   ]
  },
  {
   "cell_type": "code",
   "execution_count": null,
   "metadata": {},
   "outputs": [],
   "source": [
    "model = build_model(\n",
    "    kl.InputLayer((None, 1)),\n",
    "    kl.Conv1D(6, 2, use_bias=False, activation='elu'),\n",
    "    kl.Conv1D(1,1, activation='elu'),\n",
    "    kl.GlobalMaxPool1D(),\n",
    "    kl.Dense(1, activation='sigmoid', use_bias=True),\n",
    "    # not so good: cosine, cos_prox\n",
    "    # good: MSLE, KLD, MAE, MAPE, MSE, absolute_import, bin_crossentropy,\n",
    "    # cat_hinge\n",
    "    loss=keras.losses.deserialize,\n",
    "    verbose=1\n",
    ")"
   ]
  },
  {
   "cell_type": "code",
   "execution_count": null,
   "metadata": {
    "scrolled": true
   },
   "outputs": [],
   "source": [
    "gen = variable_length_data_generator(\n",
    "    batch_size=100,\n",
    "    sequence_lengths=(2,2,4,5,10,50),\n",
    "    from_numbers=2*(np.random.sample(10000)-0.5),\n",
    "    sorted_label=0,\n",
    "    unsorted_label=1\n",
    ")\n",
    "\n",
    "model.fit_generator(gen, steps_per_epoch=1000, epochs=100)\n",
    "\n",
    "print(\"{0[0]}: {1[0]}\\n{0[1]}: {1[1]}\".format(model.metrics_names, model.evaluate_generator(gen, steps=50)))"
   ]
  },
  {
   "cell_type": "code",
   "execution_count": null,
   "metadata": {},
   "outputs": [],
   "source": [
    "gen = variable_length_data_generator(\n",
    "    batch_size=100,\n",
    "    sequence_lengths=(2,2,4,5,10,50),\n",
    "    from_numbers=range(4, 65),\n",
    "    sorted_label=0,\n",
    "    unsorted_label=1\n",
    ")\n",
    "\n",
    "#model.fit_generator(gen, steps_per_epoch=1000, epochs=10)\n",
    "\n",
    "print(\"{0[0]}: {1[0]}\\n{0[1]}: {1[1]}\".format(model.metrics_names, model.evaluate_generator(gen, steps=50)))"
   ]
  },
  {
   "cell_type": "code",
   "execution_count": null,
   "metadata": {},
   "outputs": [],
   "source": [
    "losses = {v for k, v in keras.losses.__dict__.items() if callable(v)}\n",
    "\n",
    "loss_ftions = [l for l in losses if input(str(l)) != 'n']"
   ]
  },
  {
   "cell_type": "code",
   "execution_count": null,
   "metadata": {},
   "outputs": [],
   "source": [
    "def train_and_show_hist(lossf, model_layers):\n",
    "    model = build_model(*model_layers, loss=lossf, verbose=0)\n",
    "    \n",
    "    hist = model.fit_generator(gen, steps_per_epoch=1000, epochs=15, verbose=1)\n",
    "    \n",
    "    plot_history(hist, (16,4), title=str(lossf), start_x_from=3)\n",
    "    "
   ]
  },
  {
   "cell_type": "code",
   "execution_count": null,
   "metadata": {},
   "outputs": [],
   "source": [
    "models = [\n",
    "    (\n",
    "        kl.InputLayer((None, 1)),\n",
    "        kl.Conv1D(6, 2, use_bias=False, activation='elu'),\n",
    "        kl.Conv1D(1,1, activation='elu'),\n",
    "        kl.GlobalMaxPool1D(),\n",
    "        kl.Dense(1, activation='sigmoid', use_bias=True),\n",
    "    ),\n",
    "    (\n",
    "        kl.InputLayer((None, 1)),\n",
    "        kl.GRU(1),\n",
    "        kl.Dense(1, activation='sigmoid', use_bias=True)\n",
    "    ),\n",
    "    (\n",
    "        kl.InputLayer((None, 1)),\n",
    "        kl.GRU(2),\n",
    "        kl.Dense(2, activation='elu', use_bias=True),\n",
    "        kl.Dense(2, activation='softmax', use_bias=True)\n",
    "    )]"
   ]
  },
  {
   "cell_type": "code",
   "execution_count": null,
   "metadata": {
    "scrolled": false
   },
   "outputs": [],
   "source": [
    "gen = variable_length_data_generator(\n",
    "    batch_size=100,\n",
    "    sequence_lengths=(2,2,4,5,10,50),\n",
    "    from_numbers=2*(np.random.sample(10000)-0.5),\n",
    "    sorted_label=0,\n",
    "    unsorted_label=1\n",
    ")\n",
    "\n",
    "for model_layers in models:\n",
    "    for v in loss_ftions:\n",
    "        if callable(v):\n",
    "            for i in range(4):\n",
    "                try:\n",
    "                    train_and_show_hist(v, model_layers)\n",
    "                except Exception as err:\n",
    "                    print(err)"
   ]
  },
  {
   "cell_type": "code",
   "execution_count": null,
   "metadata": {},
   "outputs": [],
   "source": [
    "for i in range(100):\n",
    "    x, y = get_sequence_label_pair(L, 10*np.random.sample(100)-5)\n",
    "    \n",
    "    y = -1*y + 1\n",
    "    \n",
    "    #print(np.max(np.concatenate(((-x[1:] + x[:-1]), np.zeros(9))).reshape(2, 9), axis=0))\n",
    "    print(x, y, model.predict(x.reshape(1, 10, 1)).flatten()[0])"
   ]
  },
  {
   "cell_type": "code",
   "execution_count": null,
   "metadata": {},
   "outputs": [],
   "source": []
  }
 ],
 "metadata": {
  "kernelspec": {
   "display_name": "Python 3",
   "language": "python",
   "name": "python3"
  },
  "language_info": {
   "codemirror_mode": {
    "name": "ipython",
    "version": 3
   },
   "file_extension": ".py",
   "mimetype": "text/x-python",
   "name": "python",
   "nbconvert_exporter": "python",
   "pygments_lexer": "ipython3",
   "version": "3.7.2"
  }
 },
 "nbformat": 4,
 "nbformat_minor": 2
}
