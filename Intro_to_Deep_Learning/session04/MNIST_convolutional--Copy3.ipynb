{
 "cells": [
  {
   "cell_type": "code",
   "execution_count": 1,
   "metadata": {},
   "outputs": [
    {
     "name": "stderr",
     "output_type": "stream",
     "text": [
      "/usr/lib/python3.6/site-packages/h5py/__init__.py:36: FutureWarning: Conversion of the second argument of issubdtype from `float` to `np.floating` is deprecated. In future, it will be treated as `np.float64 == np.dtype(float).type`.\n",
      "  from ._conv import register_converters as _register_converters\n",
      "Using TensorFlow backend.\n"
     ]
    }
   ],
   "source": [
    "# for switching between GPU and CPU\n",
    "NO_GPU = False\n",
    "\n",
    "import os\n",
    "from os.path import exists\n",
    "if NO_GPU:\n",
    "    os.environ[\"CUDA_DEVICE_ORDER\"] = \"PCI_BUS_ID\"\n",
    "    os.environ[\"CUDA_VISIBLE_DEVICES\"] = \"\"\n",
    "    \n",
    "import numpy as np\n",
    "import matplotlib.pyplot as plt\n",
    "from matplotlib.gridspec import GridSpec\n",
    "import keras\n",
    "import keras.layers as kl\n",
    "from keras.preprocessing.image import ImageDataGenerator\n",
    "import scipy\n",
    "import skimage, skimage.draw, skimage.transform\n",
    "import random"
   ]
  },
  {
   "cell_type": "code",
   "execution_count": 2,
   "metadata": {
    "collapsed": true
   },
   "outputs": [],
   "source": [
    "def build_model(*layers, verbose=False,\n",
    "               optimizer='adam', loss='categorical_crossentropy', metrics=['acc'],\n",
    "               compile_kwargs={}):\n",
    "    \n",
    "    model = keras.models.Sequential()\n",
    "    \n",
    "    for layer in layers:\n",
    "        model.add(layer)\n",
    "        \n",
    "    if verbose:\n",
    "        print(\"Model summary:\")\n",
    "        model.summary()\n",
    "    \n",
    "    for kw in ('optimizer', 'loss', 'metrics'):\n",
    "        if not kw in compile_kwargs:\n",
    "            compile_kwargs[kw] = locals()[kw]\n",
    "    model.compile(**compile_kwargs)\n",
    "    \n",
    "    return model"
   ]
  },
  {
   "cell_type": "code",
   "execution_count": 3,
   "metadata": {
    "collapsed": true
   },
   "outputs": [],
   "source": [
    "def plot_history(history, figsize=(15,4), title='', columns=2, start_x_from=0):\n",
    "    \"\"\"Graphs a history for each key (combines validation and training keys into one plot).\n",
    "    \n",
    "    start_x_from=N skips the first N entries.\n",
    "    \n",
    "    History can be a whole training history class or just a dict.\"\"\"\n",
    "    \n",
    "    if hasattr(history, 'history'): # full history given\n",
    "        history = history.history   # only that history is enough\n",
    "        \n",
    "    assert hasattr(history, 'keys')\n",
    "    keys = [key for key in history.keys() if not key.startswith(\"val_\")]\n",
    "    assert keys # there is one at least\n",
    "    epochs = list(range(1,len(history[keys[0]])+1)) # all should have the same size list\n",
    "    \n",
    "    rows = np.ceil(len(keys)/columns).astype('int')\n",
    "    \n",
    "    fig=plt.figure(figsize=figsize)\n",
    "    f = plt.title(title)\n",
    "    f.axes.get_xaxis().set_visible(False)\n",
    "    f.axes.get_yaxis().set_visible(False)\n",
    "    \n",
    "    i = 1\n",
    "    for key in sorted(keys):\n",
    "        valkey = \"val_\" + key\n",
    "        fig.add_subplot(rows, columns, i)\n",
    "        i += 1\n",
    "        plt.plot(epochs[start_x_from:], history[key][start_x_from:], label=\"Training \" + key,\n",
    "                 marker='.', color='#00A287', linestyle='')\n",
    "        \n",
    "        late_avg = np.mean(history[key][(len(history[key]) * 90) // 100 : ])\n",
    "        plt.plot((epochs[start_x_from], epochs[-1]), (late_avg, late_avg),\n",
    "                 color=\"#74E600\", label='Mean {:.3f}'.format(late_avg))\n",
    "        if valkey in history:\n",
    "            plt.plot(epochs[start_x_from:], history[valkey][start_x_from:], label='Validation ' + key,\n",
    "                    marker='+', color='#DF004F', linestyle='')\n",
    "            \n",
    "            late_avg = np.mean(history[valkey][(len(history[valkey]) * 90) // 100 : ])\n",
    "            plt.plot((epochs[start_x_from], epochs[-1]), (late_avg, late_avg),\n",
    "                     color=\"#FF6700\", label='Mean {:.3f}'.format(late_avg))\n",
    "        plt.legend()\n",
    "        \n",
    "    plt.show()"
   ]
  },
  {
   "cell_type": "code",
   "execution_count": 4,
   "metadata": {
    "collapsed": true
   },
   "outputs": [],
   "source": [
    "def show_imgs(images, columns=9, figsize=(15,7), title=''):\n",
    "    \"\"\"Displays images in a grid\"\"\"\n",
    "    \n",
    "    fig=plt.figure(figsize=figsize)\n",
    "    f = plt.title(title)\n",
    "    \n",
    "    f.axes.get_xaxis().set_visible(False)\n",
    "    f.axes.get_yaxis().set_visible(False)\n",
    "    \n",
    "    rows = np.ceil(len(images)/columns).astype('int')\n",
    "    \n",
    "    for i in range(1, len(images)+1):\n",
    "        fig.add_subplot(rows, columns, i)\n",
    "        f = plt.imshow(images[i-1], cmap=plt.cm.binary)\n",
    "        f.axes.get_xaxis().set_visible(False)\n",
    "        f.axes.get_yaxis().set_visible(False)\n",
    "        \n",
    "    plt.show()"
   ]
  },
  {
   "cell_type": "code",
   "execution_count": 5,
   "metadata": {
    "collapsed": true
   },
   "outputs": [],
   "source": [
    "def all_same_length(*args):\n",
    "    \"\"\"Returns True if all arguments have equal len(.)\"\"\"\n",
    "    return all(len(a) == len(args[0]) for a in args)\n",
    "\n",
    "def shuffle_together(*numpy_arrays):\n",
    "    \"\"\"Shuffles numpy arrays in unison, returns a tuple.\n",
    "    \n",
    "    (applies the same random permutation to all of them,\n",
    "    so they have to be the same length on axis=0)\"\"\"\n",
    "    \n",
    "    assert all_same_length(*numpy_arrays)\n",
    "    permut = np.random.permutation(len(numpy_arrays[0]))\n",
    "    return tuple(a[permut] for a in numpy_arrays)"
   ]
  },
  {
   "cell_type": "code",
   "execution_count": 6,
   "metadata": {
    "collapsed": true
   },
   "outputs": [],
   "source": [
    "def feature_smoothen(img):\n",
    "    i = scipy.ndimage.filters.gaussian_filter(img, 0.16)\n",
    "    #i = scipy.ndimage.filters.uniform_filter(img)\n",
    "    #i = restoration.denoise_tv_chambolle(img)\n",
    "    return i\n",
    "\n",
    "def feature_threshold(img):\n",
    "    return img * (img > 0.2)\n",
    "\n",
    "def feature_sobel(img):\n",
    "    return scipy.ndimage.filters.sobel(img)\n",
    "    \n",
    "def feature_remove_dust(img):\n",
    "    out_img = img.copy()\n",
    "    labeled_img, nobjs = scipy.ndimage.label(img)\n",
    "    if nobjs > 1: \n",
    "        label_count_pairs = zip(*np.unique(labeled_img, return_counts=1))\n",
    "        label_count_pairs = sorted(label_count_pairs, key=lambda x: x[1], reverse=1)\n",
    "        \n",
    "        mask = np.zeros(img.shape)\n",
    "        for i in range(nobjs):\n",
    "            label, count = label_count_pairs[i]\n",
    "            if i < 2 or count > 15:\n",
    "                mask += (labeled_img == label)\n",
    "        out_img *= mask\n",
    "    return out_img"
   ]
  },
  {
   "cell_type": "code",
   "execution_count": 7,
   "metadata": {
    "collapsed": true
   },
   "outputs": [],
   "source": [
    "def feature_autoscale(img):\n",
    "    \n",
    "    rows = np.any(img, axis=1)\n",
    "    cols = np.any(img, axis=0)\n",
    "    rmin, rmax = np.where(rows)[0][[0, -1]]\n",
    "    cmin, cmax = np.where(cols)[0][[0, -1]]\n",
    "\n",
    "    return skimage.transform.resize(\n",
    "        img[rmin:rmax, cmin: cmax],\n",
    "        (28,28), order=3)"
   ]
  },
  {
   "cell_type": "code",
   "execution_count": 8,
   "metadata": {
    "collapsed": true
   },
   "outputs": [],
   "source": [
    "def normalize_arr(arr):\n",
    "    return arr / np.max(arr)\n",
    "\n",
    "def feature_histogram_vert(img):\n",
    "    return normalize_arr(np.sum(img, 0))\n",
    "\n",
    "def feature_histogram_horiz(img):\n",
    "    return normalize_arr(np.sum(img, 1))\n",
    "\n",
    "EDGES = []\n",
    "EDGES.extend([(i,  0) for i in range(13, -1, -1)])\n",
    "EDGES.extend([(0 , i) for i in range(28)])\n",
    "EDGES.extend([(i, 27) for i in range(28)])\n",
    "EDGES.extend([(27, i) for i in range(27, -1, -1)])\n",
    "EDGES.extend([(i,  0) for i in range(27, 13, -1)])\n",
    "MIDDLES = tuple((13 + c0 // 14, 13 + c1 // 14) for c0, c1 in EDGES)\n",
    "LINES = np.asarray(tuple(map(lambda m, e: skimage.draw.line_aa(*m,*e), MIDDLES, EDGES)))\n",
    "\n",
    "def feature_histogram_circ(img):\n",
    "    sum_line = lambda line: np.sum(img[line[0], line[1]]*line[2])\n",
    "    return normalize_arr(np.apply_along_axis(sum_line, -1, LINES))\n",
    "\n",
    "def get_histogram(img):\n",
    "    return np.concatenate((feature_histogram_horiz(img), \n",
    "                           feature_histogram_vert(img),\n",
    "                           feature_histogram_circ(img)))\n",
    "\n",
    "def smoothen_histogram(myarray, degree=5):\n",
    "    \"\"\"reference:\n",
    "    https://www.swharden.com/wp/2008-11-17-linear-data-smoothing-in-python/\"\"\"\n",
    "    myarray = np.pad(myarray, (degree-1,degree-1), mode='edge')\n",
    "    window=degree*2-1\n",
    "    weight=np.arange(-degree+1, degree)/window\n",
    "    weight = np.exp(-(16*weight**2))\n",
    "    weight /= sum(weight)\n",
    "    smoothed = np.convolve(myarray, weight, mode='valid')\n",
    "    return smoothed"
   ]
  },
  {
   "cell_type": "code",
   "execution_count": 9,
   "metadata": {
    "collapsed": true,
    "scrolled": false
   },
   "outputs": [],
   "source": [
    "def augment(img):\n",
    "    x = skimage.transform.rotate(img,np.random.randint(-18,19), order=5)\n",
    "    at = skimage.transform.AffineTransform(\n",
    "        scale    = (np.random.random((2,)) - 0.4)*0.3 + 1.0,\n",
    "        shear    = (np.random.random() - 0.5)*0.14,\n",
    "        translation = (np.random.random((2,)) - 0.5)*4,\n",
    "    )\n",
    "    return skimage.transform.warp(x, at.inverse,output_shape=img.shape,order=5)\n",
    "\n",
    "def augment_dataset(inputs, targets, augment_function, SAMPLES_PER_CATEGORY = 100000):\n",
    "    \n",
    "    index_map = {}\n",
    "    # find indices for each category\n",
    "    for i in range(len(targets)):\n",
    "        categ_num = np.argmax(targets[i])\n",
    "        index_map.setdefault(categ_num, []).append(i)\n",
    "        \n",
    "    inputs_augmented = []\n",
    "    targets_augmented = []\n",
    "    \n",
    "    for category_num, indices in index_map.items():\n",
    "        # generate the augmented samples for each category\n",
    "        inputs_augmented.append(\n",
    "            np.asarray(\n",
    "                [augment_function(inputs[i])\n",
    "                 for i in np.random.choice(indices, SAMPLES_PER_CATEGORY)])\n",
    "        )\n",
    "        # map the labels in another list\n",
    "        targets_augmented.append(\n",
    "            np.full((SAMPLES_PER_CATEGORY,),\n",
    "                    fill_value=category_num)\n",
    "        )\n",
    "        \n",
    "    # concantenate the samples and categories\n",
    "    return np.concatenate(tuple(inputs_augmented)), np.concatenate(tuple(targets_augmented))"
   ]
  },
  {
   "cell_type": "code",
   "execution_count": 10,
   "metadata": {
    "collapsed": true
   },
   "outputs": [],
   "source": [
    "INPUT_SHAPE = (-1, 28, 28, 1)\n",
    "VERBOSE=True\n",
    "\n",
    "BS = 500\n",
    "EPOCHS=50\n",
    "GEN_KWARGS = {} #dict(samplewise_center=True, samplewise_std_normalization=True)"
   ]
  },
  {
   "cell_type": "code",
   "execution_count": 11,
   "metadata": {},
   "outputs": [
    {
     "name": "stdout",
     "output_type": "stream",
     "text": [
      "Trying to load the BIG dataset...\n",
      "'augmented_images.npz' not found or something's broken, augmenting images...\n",
      "Saving 1000000 images into 'augmented_images.npz'...\n",
      "'augmented_images.npz' saved, done with augmentation :)\n",
      "And histograms now ('histograms.npz')\n",
      "Ooops... Let's make them instead.\n"
     ]
    },
    {
     "name": "stderr",
     "output_type": "stream",
     "text": [
      "/usr/lib/python3.6/site-packages/skimage/transform/_warps.py:84: UserWarning: The default mode, 'constant', will be changed to 'reflect' in skimage 0.15.\n",
      "  warn(\"The default mode, 'constant', will be changed to 'reflect' in \"\n"
     ]
    },
    {
     "name": "stdout",
     "output_type": "stream",
     "text": [
      "That's done, now saving into 'histograms.npz'\n",
      "'histograms.npz' now has the histogram datasets :)\n"
     ]
    }
   ],
   "source": [
    "#### Import the dataset & apply transformations\n",
    "fn_augm = 'augmented_images.npz'\n",
    "fn_hstg = 'histograms.npz'\n",
    "\n",
    "from urllib.request import urlretrieve\n",
    "filename, headers = urlretrieve(\n",
    "    'https://github.com/Avatust/my-mnist-digits/raw/master/data/digits.npz')\n",
    "\n",
    "with np.load(filename) as data:\n",
    "    x_test = data['input_data']\n",
    "    y_test = data['target_data']\n",
    "    \n",
    "(x_train, y_train), (x_valid, y_valid) = keras.datasets.mnist.load_data()\n",
    "\n",
    "y_train = keras.utils.to_categorical(y_train)\n",
    "y_valid = keras.utils.to_categorical(y_valid)\n",
    "y_test =  keras.utils.to_categorical(y_test)\n",
    "\n",
    "x_train = x_train.astype('float32') / 255.0\n",
    "x_valid = x_valid.astype('float32') / 255.0\n",
    "x_test  = x_test.astype('float32') / 255.0\n",
    "x_ditest = np.asarray([scipy.ndimage.grey_dilation(x, size=[2,2]) for x in x_test])\n",
    "\n",
    "try:\n",
    "    print(\"Trying to load the BIG dataset...\")\n",
    "    with np.load(fn_augm) as data:\n",
    "        trainX = data['input_data']\n",
    "        trainY = data['target_data']\n",
    "        print('{} images loaded.'.format(len(trainX)))\n",
    "except:\n",
    "    print(\"'{}' not found or something's broken, augmenting images...\".format(fn_augm))\n",
    "    trainX, trainY = shuffle_together(*augment_dataset(x_train, y_train, augment_function=augment))\n",
    "    print(\"Saving {} images into '{}'...\".format(len(trainX), fn_augm))\n",
    "    np.savez_compressed(fn_augm, input_data=trainX, target_data=trainY)\n",
    "    print(\"'{}' saved, done with augmentation :)\".format(fn_augm))\n",
    "trainY = keras.utils.to_categorical(trainY)\n",
    "\n",
    "try:\n",
    "    print(\"And histograms now ('{}')\".format(fn_hstg))\n",
    "    with np.load(fn_hstg) as data:\n",
    "        Xhstg_train  = data['Xhstg_train']\n",
    "        Xhstg_valid  = data['Xhstg_valid']   \n",
    "        Xhstg_test   = data['Xhstg_test']   \n",
    "        Xhstg_ditest = data['Xhstg_ditest']\n",
    "\n",
    "        Yhstg_train  = data['Yhstg_train']\n",
    "        Yhstg_valid  = data['Yhstg_valid']   \n",
    "        Yhstg_test   = data['Yhstg_test']   \n",
    "        Yhstg_ditest = data['Yhstg_ditest']\n",
    "        print(\"Hurray!!! Histograms loaded. ({} in training DS)\".format(len(Xhstg_train)))\n",
    "except:\n",
    "    print(\"Ooops... Let's make them instead.\")\n",
    "    Xhstg_train , Yhstg_train  = np.array(\n",
    "        [get_histogram(feature_autoscale(feature_threshold(x))) for x in trainX]), trainY\n",
    "    Xhstg_valid , Yhstg_valid  = np.array(\n",
    "        [get_histogram(feature_autoscale(feature_threshold(x))) for x in x_valid]), y_valid\n",
    "    Xhstg_test  , Yhstg_test   = np.array(\n",
    "        [get_histogram(feature_autoscale(feature_threshold(x))) for x in  x_test]), y_test\n",
    "    Xhstg_ditest, Yhstg_ditest = np.array(\n",
    "        [get_histogram(feature_autoscale(feature_threshold(x))) for x in  x_test]), y_test\n",
    "    print(\"That's done, now saving into '{}'\".format(fn_hstg))\n",
    "    np.savez_compressed(fn_hstg,\n",
    "        Xhstg_train = Xhstg_train, Xhstg_valid = Xhstg_valid, Xhstg_test = Xhstg_test, Xhstg_ditest = Xhstg_ditest,\n",
    "        Yhstg_train = Yhstg_train, Yhstg_valid = Yhstg_valid, Yhstg_test = Yhstg_test, Yhstg_ditest = Yhstg_ditest, )\n",
    "    print(\"'{}' now has the histogram datasets :)\".format(fn_hstg))"
   ]
  },
  {
   "cell_type": "code",
   "execution_count": 12,
   "metadata": {},
   "outputs": [
    {
     "data": {
      "image/png": "[encoded data removed]",
      "text/plain": [
       "<matplotlib.figure.Figure at 0x7f6028f4a588>"
      ]
     },
     "metadata": {},
     "output_type": "display_data"
    },
    {
     "name": "stdout",
     "output_type": "stream",
     "text": [
      "[[4 4 4 1 2 7 5 7 4]\n",
      " [5 6 0 5 4 7 1 8 3]\n",
      " [2 6 0 5 1 7 7 9 8]\n",
      " [2 1 1 9 4 8 9 7 4]\n",
      " [4 9 6 7 1 1 6 2 4]]\n"
     ]
    }
   ],
   "source": [
    "choice = np.random.choice(len(trainX), 45)\n",
    "show_imgs(trainX[choice], title='Some augmented images')\n",
    "print(np.apply_along_axis(np.argmax, 1, trainY[choice]).reshape(5,9))"
   ]
  },
  {
   "cell_type": "code",
   "execution_count": 13,
   "metadata": {
    "scrolled": false
   },
   "outputs": [
    {
     "ename": "NameError",
     "evalue": "name 'x_test_dilat' is not defined",
     "output_type": "error",
     "traceback": [
      "\u001b[0;31m---------------------------------------------------------------------------\u001b[0m",
      "\u001b[0;31mNameError\u001b[0m                                 Traceback (most recent call last)",
      "\u001b[0;32m<ipython-input-13-ec329b097895>\u001b[0m in \u001b[0;36m<module>\u001b[0;34m()\u001b[0m\n\u001b[1;32m      7\u001b[0m sample_targets = np.concatenate(tuple(\n\u001b[1;32m      8\u001b[0m     \u001b[0mx\u001b[0m\u001b[0;34m[\u001b[0m\u001b[0mnp\u001b[0m\u001b[0;34m.\u001b[0m\u001b[0mrandom\u001b[0m\u001b[0;34m.\u001b[0m\u001b[0mchoice\u001b[0m\u001b[0;34m(\u001b[0m\u001b[0mlen\u001b[0m\u001b[0;34m(\u001b[0m\u001b[0mx\u001b[0m\u001b[0;34m)\u001b[0m\u001b[0;34m,\u001b[0m \u001b[0;36m20\u001b[0m\u001b[0;34m)\u001b[0m\u001b[0;34m]\u001b[0m\u001b[0;34m\u001b[0m\u001b[0m\n\u001b[0;32m----> 9\u001b[0;31m     for x in (x_train, x_valid, x_test, x_test_dilat))\n\u001b[0m\u001b[1;32m     10\u001b[0m )\n\u001b[1;32m     11\u001b[0m \u001b[0;34m\u001b[0m\u001b[0m\n",
      "\u001b[0;31mNameError\u001b[0m: name 'x_test_dilat' is not defined"
     ]
    }
   ],
   "source": [
    "# Augment, smoothen, threshold, autoscale - is a jerkier than without 'smoothen'\n",
    "# Augment, autoscale - not much better and considerably slower than without autoscale\n",
    "#\n",
    "# Clearing the images prior to or post augmentation often removed important parts and\n",
    "# did not bring clearly better results, neither did sobelization\n",
    "\n",
    "sample_targets = np.concatenate(tuple(\n",
    "    x[np.random.choice(len(x), 20)]\n",
    "    for x in (x_train, x_valid, x_test, x_test_dilat))\n",
    ")\n",
    "\n",
    "show_imgs(title='Originals (training, validation, test, dilatated test)',\n",
    "          columns=20, figsize=(20,4),\n",
    "          images=sample_targets)\n",
    "\n",
    "show_imgs(title='Augment - for general trainings',\n",
    "          columns=20, figsize=(20,4),\n",
    "          images=[\n",
    "              augment(x)\n",
    "              for x in sample_targets])\n",
    "\n",
    "show_imgs(title=\"Augment, threshold, autoscale - for 'histograms'\",\n",
    "          columns=20, figsize=(20,4),\n",
    "          images=[\n",
    "              feature_autoscale(feature_threshold(augment(x)))\n",
    "              for x in sample_targets])\n",
    "\n",
    "show_imgs(title='Smoothen, threshold, remove dust/glyphs - too clean...',\n",
    "          columns=20, figsize=(20,4),\n",
    "          images=[\n",
    "              feature_remove_dust(feature_threshold(feature_smoothen(x)))\n",
    "              for x in sample_targets])\n",
    "\n",
    "show_imgs(title='Sobelize - and similar turned out to be useless',\n",
    "          columns=20, figsize=(20,4),\n",
    "          images=[\n",
    "              feature_sobel(x)\n",
    "              for x in sample_targets])"
   ]
  },
  {
   "cell_type": "code",
   "execution_count": null,
   "metadata": {
    "scrolled": false
   },
   "outputs": [],
   "source": [
    "for i in range(5):\n",
    "    im = feature_autoscale(feature_threshold(random.choice(x_train)))\n",
    "    \n",
    "    v =  feature_histogram_vert(im)\n",
    "    h = feature_histogram_horiz(im)\n",
    "    c = feature_histogram_circ(im)\n",
    "        \n",
    "    fig = plt.figure(figsize=(20,8))\n",
    "    gs = GridSpec(4,3, width_ratios=(2, 4, 4))\n",
    "\n",
    "    plt.subplot(gs[:, 0]); plt.imshow(im); plt.gca().axis('off')\n",
    "    \n",
    "    plt.subplot(gs[0, 1]); plt.plot(v, '+', label='Vertical histogram'); plt.legend()\n",
    "    \n",
    "    plt.subplot(gs[0, 2]); plt.plot(h, '+', label='Horizontal histogram'); plt.legend();\n",
    "    \n",
    "    plt.subplot(gs[1, 1:]); plt.plot(c, '+', label='I would call it a circular histogram'); plt.legend();\n",
    "    \n",
    "    plt.subplot(gs[2, 1]); plt.plot(smoothen_histogram(v), '+', label='Vertical histogram (smoothed)'); plt.legend();\n",
    "    \n",
    "    plt.subplot(gs[2, 2]); plt.plot(smoothen_histogram(h), '+', label='Horizontal histogram (smoothed)'); plt.legend();\n",
    "    \n",
    "    plt.subplot(gs[3, 1:]); plt.plot(smoothen_histogram(c), '+', label='I would call it a circular histogram (smoothed)'); plt.legend();\n",
    "    \n",
    "    plt.show()\n",
    "    print('\\n\\n')\n"
   ]
  },
  {
   "cell_type": "code",
   "execution_count": null,
   "metadata": {
    "collapsed": true,
    "scrolled": true
   },
   "outputs": [],
   "source": [
    "# baseline (validation accuracy about 0.90)\n",
    "# its siblings were reaching accuracy up to 0.92 (and blazingly fast to train)\n",
    "model_simple = build_model(\n",
    "    kl.InputLayer((28,28,1)),\n",
    "    \n",
    "    kl.Conv2D(filters=8, kernel_size=3, activation='relu', padding='same'),\n",
    "    kl.Dropout(0.2),\n",
    "    kl.MaxPool2D(pool_size=2, strides=2),\n",
    "    \n",
    "    kl.Flatten(),\n",
    "    \n",
    "    kl.Dropout(0.2),\n",
    "    kl.Dense(units=64, activation='relu'),\n",
    "    kl.Dense(units=10, activation='softmax'),\n",
    "    \n",
    "    verbose=1\n",
    ")\n",
    "\n",
    "hist_simple = model_simple.fit(x_train_no_dust.reshape(INPUT_SHAPE), y_train,\n",
    "                               validation_data=(x_valid_no_dust.reshape(INPUT_SHAPE), y_valid),\n",
    "                               epochs=EPOCHS, batch_size=BS, verbose=VERBOSE)"
   ]
  },
  {
   "cell_type": "code",
   "execution_count": null,
   "metadata": {
    "collapsed": true
   },
   "outputs": [],
   "source": [
    "print('Eval:', model_simple.evaluate(x_test_no_dust.reshape(INPUT_SHAPE), y_test, verbose=0))\n",
    "\n",
    "plot_history(hist_simple, start_x_from=5)"
   ]
  },
  {
   "cell_type": "code",
   "execution_count": null,
   "metadata": {
    "collapsed": true,
    "scrolled": true
   },
   "outputs": [],
   "source": [
    "# baseline (validation accuracy about 0.90)\n",
    "# its siblings were reaching accuracy up to 0.92 (and blazingly fast to train)\n",
    "model_simple_autoscale = build_model(\n",
    "    kl.InputLayer((28,28,1)),\n",
    "    \n",
    "    kl.Conv2D(filters=8, kernel_size=3, activation='relu', padding='same'),\n",
    "    kl.Dropout(0.2),\n",
    "    kl.MaxPool2D(pool_size=2, strides=2),\n",
    "    \n",
    "    kl.Flatten(),\n",
    "    \n",
    "    kl.Dropout(0.2),\n",
    "    kl.Dense(units=64, activation='relu'),\n",
    "    kl.Dense(units=10, activation='softmax'),\n",
    "    \n",
    "    verbose=1\n",
    ")\n",
    "\n",
    "hist_simple_autoscale = model_simple_autoscale.fit(x_train_no_dust_autoscaled.reshape(INPUT_SHAPE), y_train,\n",
    "                               validation_data=(x_test_no_dust_autoscaled.reshape(INPUT_SHAPE), y_test),\n",
    "                               epochs=EPOCHS, batch_size=BS, verbose=VERBOSE)"
   ]
  },
  {
   "cell_type": "code",
   "execution_count": null,
   "metadata": {
    "collapsed": true
   },
   "outputs": [],
   "source": [
    "print('Eval:', model_simple_autoscale.evaluate(x_test_no_dust_autoscaled.reshape(INPUT_SHAPE), y_test, verbose=0))\n",
    "\n",
    "plot_history(hist_simple_autoscale, start_x_from=5)"
   ]
  },
  {
   "cell_type": "code",
   "execution_count": null,
   "metadata": {
    "collapsed": true,
    "scrolled": true
   },
   "outputs": [],
   "source": [
    "# baseline (validation accuracy about 0.90)\n",
    "# its siblings were reaching accuracy up to 0.92 (and blazingly fast to train)\n",
    "model_simple_sobel = build_model(\n",
    "    kl.InputLayer((28,28,1)),\n",
    "    \n",
    "    kl.Conv2D(filters=8, kernel_size=3, activation='relu', padding='same'),\n",
    "    kl.Dropout(0.2),\n",
    "    kl.MaxPool2D(pool_size=2, strides=2),\n",
    "    \n",
    "    kl.Flatten(),\n",
    "    \n",
    "    kl.Dropout(0.2),\n",
    "    kl.Dense(units=64, activation='relu'),\n",
    "    kl.Dense(units=10, activation='softmax'),\n",
    "    \n",
    "    verbose=1\n",
    ")\n",
    "\n",
    "hist_simple_sobel = model_simple_sobel.fit(x_train_no_dust_sobel.reshape(INPUT_SHAPE), y_train,\n",
    "                               validation_data=(x_test_no_dust_sobel.reshape(INPUT_SHAPE), y_test),\n",
    "                               epochs=EPOCHS, batch_size=BS, verbose=VERBOSE)"
   ]
  },
  {
   "cell_type": "code",
   "execution_count": null,
   "metadata": {
    "collapsed": true
   },
   "outputs": [],
   "source": [
    "print('Eval:', model_simple_sobel.evaluate(x_test_no_dust_sobel.reshape(INPUT_SHAPE), y_test, verbose=0))\n",
    "\n",
    "plot_history(hist_simple_sobel, start_x_from=5)"
   ]
  },
  {
   "cell_type": "code",
   "execution_count": null,
   "metadata": {
    "collapsed": true
   },
   "outputs": [],
   "source": [
    "model_lentil_reg = build_model(\n",
    "    kl.InputLayer((28,28,1)),\n",
    "\n",
    "    kl.Conv2D(filters=20, kernel_size=5, padding='same', activation='relu'),\n",
    "    kl.Conv2D(filters=40, kernel_size=3, padding='same', activation='relu'),\n",
    "    kl.Dropout(0.1),\n",
    "    kl.MaxPool2D(pool_size=2, strides=2),\n",
    "\n",
    "\n",
    "    kl.Conv2D(filters=50, kernel_size=5, padding='same', activation='relu'),\n",
    "    kl.Dropout(0.1),\n",
    "    kl.MaxPool2D(pool_size=2, strides=2),\n",
    "\n",
    "    kl.Flatten(),\n",
    "\n",
    "    kl.Dropout(0.1),\n",
    "    kl.Dense(units=200, activation='relu'),\n",
    "    kl.Dense(units=80, activation='relu'),\n",
    "    kl.Dense(units=10, activation='softmax'),\n",
    "    \n",
    "    verbose=1\n",
    ")\n",
    "\n",
    "hist_lentil_reg = model_lentil_reg.fit_generator(generator=train_data_flow,\n",
    "                                    validation_data=test_data_flow,\n",
    "                                    steps_per_epoch=len(x_train) // BS,\n",
    "                                    epochs=40, verbose=1)"
   ]
  },
  {
   "cell_type": "code",
   "execution_count": null,
   "metadata": {
    "collapsed": true
   },
   "outputs": [],
   "source": [
    "print('Eval:', model_lentil_reg.evaluate_generator(test_data_flow))\n",
    "\n",
    "plot_history(hist_lentil_reg, start_x_from=5)"
   ]
  },
  {
   "cell_type": "code",
   "execution_count": null,
   "metadata": {
    "collapsed": true
   },
   "outputs": [],
   "source": [
    "model_just_dense = build_model(\n",
    "    kl.InputLayer((168,)),\n",
    "    \n",
    "    kl.Dense(units=170, activation='elu'),\n",
    "    kl.Dropout(0.2),\n",
    "    kl.Dense(units=120, activation='elu'),\n",
    "    kl.Dropout(0.1),\n",
    "    kl.Dense(units=80, activation='elu'),\n",
    "    kl.Dropout(0.1),\n",
    "    kl.Dense(units=80, activation='elu'),\n",
    "    kl.Dense(units=10, activation='softmax'),\n",
    "    \n",
    "    verbose=1\n",
    ")\n",
    "\n",
    "#hist_just_dense = model_just_dense.fit(x_train_histograms, y_train,\n",
    "#                                       validation_data=(x_test_histograms, y_test),\n",
    "#                                       epochs=300, batch_size=2000, verbose=VERBOSE)"
   ]
  },
  {
   "cell_type": "code",
   "execution_count": null,
   "metadata": {
    "collapsed": true
   },
   "outputs": [],
   "source": [
    "hist_just_dense = model_just_dense.fit_generator(generator=train_data_flow_hist,\n",
    "                                    validation_data=(x_test_histograms, y_test),\n",
    "                                    steps_per_epoch=len(x_train) // BS,\n",
    "                                    epochs=40, verbose=1)\n",
    "\n",
    "print('Eval:', model_just_dense.evaluate(x_test_histograms, y_test))\n",
    "\n",
    "\n",
    "plot_history(hist_just_dense, start_x_from=5)"
   ]
  },
  {
   "cell_type": "code",
   "execution_count": null,
   "metadata": {
    "collapsed": true,
    "scrolled": true
   },
   "outputs": [],
   "source": [
    "model_just_dense = build_model(\n",
    "    kl.InputLayer((168,1)),\n",
    "    kl.Flatten(),\n",
    "    \n",
    "    kl.Dense(units=168, activation='relu', kernel_constraint=keras.constraints.max_norm(3)),\n",
    "    kl.Dropout(0.1),\n",
    "    kl.Dense(units=168, activation='relu', kernel_constraint=keras.constraints.max_norm(3)),\n",
    "    kl.Dense(units=100, activation='relu', kernel_constraint=keras.constraints.max_norm(3)),\n",
    "    kl.Dropout(0.1),\n",
    "    kl.Dense(units=60, activation='relu', kernel_constraint=keras.constraints.max_norm(3)),\n",
    "    kl.Dense(units=10, activation='softmax'),\n",
    "    \n",
    "    verbose=1\n",
    ")"
   ]
  },
  {
   "cell_type": "code",
   "execution_count": null,
   "metadata": {
    "collapsed": true
   },
   "outputs": [],
   "source": [
    "nexttrain_data_flow_hist)[0].shape"
   ]
  },
  {
   "cell_type": "code",
   "execution_count": null,
   "metadata": {
    "collapsed": true,
    "scrolled": true
   },
   "outputs": [],
   "source": [
    "hist_just_dense = model_just_dense.fit(x_train_histograms.reshape(-1, 168, 1), y_train,\n",
    "                                       validation_data=(x_test_histograms.reshape(-1, 168, 1), y_test),\n",
    "                                       epochs=500, batch_size=20000, verbose=VERBOSE)\n",
    "print('Eval:', model_just_dense.evaluate(x_test_histograms.reshape(-1, 168, 1), y_test))\n",
    "\n",
    "\n",
    "plot_history(hist_just_dense, start_x_from=0)"
   ]
  }
 ],
 "metadata": {
  "kernelspec": {
   "display_name": "Python 3",
   "language": "python",
   "name": "python3"
  },
  "language_info": {
   "codemirror_mode": {
    "name": "ipython",
    "version": 3
   },
   "file_extension": ".py",
   "mimetype": "text/x-python",
   "name": "python",
   "nbconvert_exporter": "python",
   "pygments_lexer": "ipython3",
   "version": "3.7.2"
  }
 },
 "nbformat": 4,
 "nbformat_minor": 2
}
