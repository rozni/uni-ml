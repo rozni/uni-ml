{
 "cells": [
  {
   "cell_type": "code",
   "execution_count": 1,
   "metadata": {},
   "outputs": [
    {
     "name": "stderr",
     "output_type": "stream",
     "text": [
      "/usr/lib/python3.6/site-packages/h5py/__init__.py:36: FutureWarning: Conversion of the second argument of issubdtype from `float` to `np.floating` is deprecated. In future, it will be treated as `np.float64 == np.dtype(float).type`.\n",
      "  from ._conv import register_converters as _register_converters\n",
      "Using TensorFlow backend.\n"
     ]
    }
   ],
   "source": [
    "import numpy as np\n",
    "import matplotlib.pyplot as plt\n",
    "import keras\n",
    "import keras.layers as kl"
   ]
  },
  {
   "cell_type": "code",
   "execution_count": null,
   "metadata": {
    "collapsed": true
   },
   "outputs": [],
   "source": [
    "avg = avg2 = 0\n",
    "while True:\n",
    "    alive = 50\n",
    "    alive2 = 50\n",
    "    while (avg < avg2 + 0.01) or not alive2:\n",
    "        last_history = m.fit(**FIT_SETS, epochs=epoch+1, initial_epoch=epoch, batch_size=500, verbose=0)\n",
    "        for k, v in last_history.history.items():\n",
    "            history[k].append(v[0])\n",
    "        avg = np.mean(history['val_acc'][-6:])\n",
    "        print((STATS_STR + \"{nl:} m1 avg: {m1:.4f} | m2 avg: {m2:.4f} | current {curr:}\").format(\n",
    "            nl=' '*100, epoch=epoch2, **last_history2.history, m1=avg, m2=avg2, curr='m1'), end='\\r')\n",
    "        epoch += 1\n",
    "        alive -= 1\n",
    "\n",
    "    while (avg2 < avg + 0.01) or not alive:\n",
    "        last_history2 = m2.fit(**FIT_SETS, epochs=epoch2+1, initial_epoch=epoch2, batch_size=500, verbose=0)\n",
    "        for k, v in last_history2.history.items():\n",
    "            history2[k].append(v[0])\n",
    "        avg2 = np.mean(history2['val_acc'][-6:])\n",
    "        print((STATS_STR + \"{nl:} m1 avg: {m1:.4f} | m2 avg: {m2:.4f} | current {curr:}\").format(\n",
    "            nl=' '*100, epoch=epoch2, **last_history2.history, m1=avg, m2=avg2, curr='m2'), end='\\r')\n",
    "        epoch2 += 1\n",
    "        alive2 -= 1"
   ]
  },
  {
   "cell_type": "code",
   "execution_count": 51,
   "metadata": {},
   "outputs": [
    {
     "data": {
      "image/png": "[encoded data removed]",
      "text/plain": [
       "<matplotlib.figure.Figure at 0x7f939f1554e0>"
      ]
     },
     "metadata": {},
     "output_type": "display_data"
    }
   ],
   "source": [
    "x=range(20)\n",
    "y=[i**2 for i in x]\n",
    "plt.plot(x, y, color='#AA1199', linestyle='', marker='o')\n",
    "plt.show()"
   ]
  },
  {
   "cell_type": "code",
   "execution_count": 34,
   "metadata": {},
   "outputs": [
    {
     "name": "stdout",
     "output_type": "stream",
     "text": [
      "[====================] 100%                                                                                                                                             [====================] 100%\r"
     ]
    }
   ],
   "source": [
    "from time import sleep\n",
    "\n",
    "for i in range(21):\n",
    "    print(\"[{0:<20}] {1:}% {2:}[{0:<20}] {1:}%\".format('='*i, 5*i, ' '*140), end='\\r')\n",
    "    sleep(0.25)"
   ]
  },
  {
   "cell_type": "code",
   "execution_count": 8,
   "metadata": {},
   "outputs": [
    {
     "name": "stdout",
     "output_type": "stream",
     "text": [
      "You said \n"
     ]
    }
   ],
   "source": [
    "import sys, select\n",
    "\n",
    "i, o, e = select.select( [sys.stdin], [], [], 4 )\n",
    "\n",
    "if (i):\n",
    "    print(\"You said\", sys.stdin.read())\n",
    "else:\n",
    "    print(\"You said nothing!\")"
   ]
  },
  {
   "cell_type": "code",
   "execution_count": 2,
   "metadata": {},
   "outputs": [
    {
     "ename": "SyntaxError",
     "evalue": "unexpected EOF while parsing (<ipython-input-2-df7cc9f7397f>, line 3)",
     "output_type": "error",
     "traceback": [
      "\u001b[0;36m  File \u001b[0;32m\"<ipython-input-2-df7cc9f7397f>\"\u001b[0;36m, line \u001b[0;32m3\u001b[0m\n\u001b[0;31m    \u001b[0m\n\u001b[0m    ^\u001b[0m\n\u001b[0;31mSyntaxError\u001b[0m\u001b[0;31m:\u001b[0m unexpected EOF while parsing\n"
     ]
    }
   ],
   "source": [
    "histories = dict()\n",
    "last_training = m.fit()\n",
    "for key in h.history.keys():\n",
    "    "
   ]
  },
  {
   "cell_type": "code",
   "execution_count": 10,
   "metadata": {},
   "outputs": [
    {
     "data": {
      "text/plain": [
       "{'loss': [2], 'val_loss': [4]}"
      ]
     },
     "execution_count": 10,
     "metadata": {},
     "output_type": "execute_result"
    }
   ],
   "source": [
    "a = {\"loss\":[2]}\n",
    "b = {'val_loss':[4]}\n",
    "a.update(b)\n",
    "a"
   ]
  },
  {
   "cell_type": "code",
   "execution_count": 7,
   "metadata": {},
   "outputs": [
    {
     "data": {
      "text/plain": [
       "'2'"
      ]
     },
     "execution_count": 7,
     "metadata": {},
     "output_type": "execute_result"
    }
   ],
   "source": [
    "\"{loss[0]:}\".format(**a)\n"
   ]
  },
  {
   "cell_type": "code",
   "execution_count": null,
   "metadata": {
    "collapsed": true
   },
   "outputs": [],
   "source": [
    "map()"
   ]
  }
 ],
 "metadata": {
  "kernelspec": {
   "display_name": "Python 3",
   "language": "python",
   "name": "python3"
  },
  "language_info": {
   "codemirror_mode": {
    "name": "ipython",
    "version": 3
   },
   "file_extension": ".py",
   "mimetype": "text/x-python",
   "name": "python",
   "nbconvert_exporter": "python",
   "pygments_lexer": "ipython3",
   "version": "3.6.4"
  }
 },
 "nbformat": 4,
 "nbformat_minor": 2
}
