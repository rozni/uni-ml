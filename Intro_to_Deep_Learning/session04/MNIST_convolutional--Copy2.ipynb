{
 "cells": [
  {
   "cell_type": "markdown",
   "metadata": {},
   "source": []
  },
  {
   "cell_type": "code",
   "execution_count": 1,
   "metadata": {},
   "outputs": [
    {
     "name": "stderr",
     "output_type": "stream",
     "text": [
      "/usr/lib/python3.6/site-packages/h5py/__init__.py:36: FutureWarning: Conversion of the second argument of issubdtype from `float` to `np.floating` is deprecated. In future, it will be treated as `np.float64 == np.dtype(float).type`.\n",
      "  from ._conv import register_converters as _register_converters\n",
      "Using TensorFlow backend.\n"
     ]
    }
   ],
   "source": [
    "# for switching between GPU and CPU\n",
    "NO_GPU = False\n",
    "\n",
    "import os\n",
    "from os.path import exists\n",
    "if NO_GPU:\n",
    "    os.environ[\"CUDA_DEVICE_ORDER\"] = \"PCI_BUS_ID\"\n",
    "    os.environ[\"CUDA_VISIBLE_DEVICES\"] = \"\"\n",
    "    \n",
    "import numpy as np\n",
    "import matplotlib.pyplot as plt\n",
    "import keras\n",
    "import keras.layers as kl\n",
    "from keras.preprocessing.image import ImageDataGenerator\n",
    "import scipy\n",
    "import skimage, skimage.draw, skimage.transform\n",
    "import random"
   ]
  },
  {
   "cell_type": "code",
   "execution_count": 2,
   "metadata": {
    "collapsed": true
   },
   "outputs": [],
   "source": [
    "def build_model(*layers, verbose=False,\n",
    "               optimizer='adam', loss='categorical_crossentropy', metrics=['acc'],\n",
    "               compile_kwargs={}):\n",
    "    \n",
    "    model = keras.models.Sequential()\n",
    "    \n",
    "    for layer in layers:\n",
    "        model.add(layer)\n",
    "        \n",
    "    if verbose:\n",
    "        print(\"Model summary:\")\n",
    "        model.summary()\n",
    "    \n",
    "    for kw in ('optimizer', 'loss', 'metrics'):\n",
    "        if not kw in compile_kwargs:\n",
    "            compile_kwargs[kw] = locals()[kw]\n",
    "    model.compile(**compile_kwargs)\n",
    "    \n",
    "    return model"
   ]
  },
  {
   "cell_type": "code",
   "execution_count": 3,
   "metadata": {
    "collapsed": true
   },
   "outputs": [],
   "source": [
    "def plot_history(history, figsize=(15,4), title='', columns=2, start_x_from=0):\n",
    "    \"\"\"Graphs a history for each key (combines validation and training keys into one plot).\n",
    "    \n",
    "    start_x_from=N skips the first N entries.\n",
    "    \n",
    "    History can be a whole training history class or just a dict.\"\"\"\n",
    "    \n",
    "    if hasattr(history, 'history'): # full history given\n",
    "        history = history.history   # only that history is enough\n",
    "        \n",
    "    assert hasattr(history, 'keys')\n",
    "    keys = [key for key in history.keys() if not key.startswith(\"val_\")]\n",
    "    assert keys # there is one at least\n",
    "    epochs = list(range(1,len(history[keys[0]])+1)) # all should have the same size list\n",
    "    \n",
    "    rows = np.ceil(len(keys)/columns).astype('int')\n",
    "    \n",
    "    fig=plt.figure(figsize=figsize)\n",
    "    f = plt.title(title)\n",
    "    f.axes.get_xaxis().set_visible(False)\n",
    "    f.axes.get_yaxis().set_visible(False)\n",
    "    \n",
    "    i = 1\n",
    "    for key in sorted(keys):\n",
    "        valkey = \"val_\" + key\n",
    "        fig.add_subplot(rows, columns, i)\n",
    "        i += 1\n",
    "        plt.plot(epochs[start_x_from:], history[key][start_x_from:], label=\"Training \" + key,\n",
    "                 marker='.', color='#00A287', linestyle='')\n",
    "        \n",
    "        late_avg = np.mean(history[key][(len(history[key]) * 90) // 100 : ])\n",
    "        plt.plot((epochs[start_x_from], epochs[-1]), (late_avg, late_avg),\n",
    "                 color=\"#74E600\", label='Mean {:.3f}'.format(late_avg))\n",
    "        if valkey in history:\n",
    "            plt.plot(epochs[start_x_from:], history[valkey][start_x_from:], label='Validation ' + key,\n",
    "                    marker='+', color='#DF004F', linestyle='')\n",
    "            \n",
    "            late_avg = np.mean(history[valkey][(len(history[valkey]) * 90) // 100 : ])\n",
    "            plt.plot((epochs[start_x_from], epochs[-1]), (late_avg, late_avg),\n",
    "                     color=\"#FF6700\", label='Mean {:.3f}'.format(late_avg))\n",
    "        plt.legend()\n",
    "        \n",
    "    plt.show()"
   ]
  },
  {
   "cell_type": "code",
   "execution_count": 4,
   "metadata": {
    "collapsed": true
   },
   "outputs": [],
   "source": [
    "def show_imgs(images, columns=9, figsize=(15,7), title=''):\n",
    "    \"\"\"Displays images in a grid\"\"\"\n",
    "    \n",
    "    fig=plt.figure(figsize=figsize)\n",
    "    f = plt.title(title)\n",
    "    \n",
    "    f.axes.get_xaxis().set_visible(False)\n",
    "    f.axes.get_yaxis().set_visible(False)\n",
    "    \n",
    "    rows = np.ceil(len(images)/columns).astype('int')\n",
    "    \n",
    "    for i in range(1, len(images)+1):\n",
    "        fig.add_subplot(rows, columns, i)\n",
    "        f = plt.imshow(images[i-1], cmap=plt.cm.binary)\n",
    "        f.axes.get_xaxis().set_visible(False)\n",
    "        f.axes.get_yaxis().set_visible(False)\n",
    "        \n",
    "    plt.show()"
   ]
  },
  {
   "cell_type": "code",
   "execution_count": 5,
   "metadata": {
    "collapsed": true
   },
   "outputs": [],
   "source": [
    "def all_same_length(*args):\n",
    "    \"\"\"Returns True if all arguments have equal len(.)\"\"\"\n",
    "    return all(len(a) == len(args[0]) for a in args)\n",
    "\n",
    "def shuffle_together(*numpy_arrays):\n",
    "    \"\"\"Shuffles numpy arrays in unison, returns a tuple.\n",
    "    \n",
    "    (applies the same random permutation to all of them,\n",
    "    so they have to be the same length on axis=0)\"\"\"\n",
    "    \n",
    "    assert all_same_length(*numpy_arrays)\n",
    "    permut = np.random.permutation(len(numpy_arrays[0]))\n",
    "    return tuple(a[permut] for a in numpy_arrays)"
   ]
  },
  {
   "cell_type": "code",
   "execution_count": 6,
   "metadata": {
    "collapsed": true
   },
   "outputs": [],
   "source": [
    "def feature_smoothen(img):\n",
    "    i = scipy.ndimage.filters.gaussian_filter(img, 0.16)\n",
    "    #i = scipy.ndimage.filters.uniform_filter(img)\n",
    "    #i = restoration.denoise_tv_chambolle(img)\n",
    "    return i * (i > 0.2)\n",
    "\n",
    "def feature_sobel(img):\n",
    "    return scipy.ndimage.filters.sobel(img)\n",
    "    \n",
    "def feature_remove_dust(img):\n",
    "    out_img = img.copy()\n",
    "    labeled_img, nobjs = scipy.ndimage.label(img)\n",
    "    if nobjs > 1: \n",
    "        label_count_pairs = zip(*np.unique(labeled_img, return_counts=1))\n",
    "        label_count_pairs = sorted(label_count_pairs, key=lambda x: x[1], reverse=1)\n",
    "        \n",
    "        mask = np.zeros(img.shape)\n",
    "        for i in range(nobjs):\n",
    "            label, count = label_count_pairs[i]\n",
    "            if i < 2 or count > 15:\n",
    "                mask += (labeled_img == label)\n",
    "        out_img *= mask\n",
    "    return out_img"
   ]
  },
  {
   "cell_type": "code",
   "execution_count": 7,
   "metadata": {
    "collapsed": true
   },
   "outputs": [],
   "source": [
    "def feature_autoscale(img):\n",
    "    img = img.copy()\n",
    "\n",
    "    while not any(img[   0]): img = img[1:]\n",
    "    while not any(img[  -1]): img = img[ :-1]\n",
    "    while not any(img[:, 0]): img = img[:,1:]\n",
    "    while not any(img[:,-1]): img = img[:, :-1]\n",
    "\n",
    "    return skimage.transform.resize(img, (28,28))"
   ]
  },
  {
   "cell_type": "code",
   "execution_count": 8,
   "metadata": {
    "collapsed": true
   },
   "outputs": [],
   "source": [
    "def normalize_arr(arr):\n",
    "    return arr / np.max(arr)\n",
    "\n",
    "def feature_histogram_vert(img):\n",
    "    return normalize_arr(np.apply_along_axis(sum, 0, img))\n",
    "\n",
    "def feature_histogram_horiz(img):\n",
    "    return normalize_arr(np.apply_along_axis(sum, 1, img))\n",
    "\n",
    "EDGES = []\n",
    "EDGES.extend([(i,  0) for i in range(13, -1, -1)])\n",
    "EDGES.extend([(0 , i) for i in range(28)])\n",
    "EDGES.extend([(i, 27) for i in range(28)])\n",
    "EDGES.extend([(27, i) for i in range(27, -1, -1)])\n",
    "EDGES.extend([(i,  0) for i in range(27, 13, -1)])\n",
    "MIDDLES = tuple((13 + c0 // 14, 13 + c1 // 14) for c0, c1 in EDGES)\n",
    "LINES = tuple(map(lambda m, e: skimage.draw.line_aa(*m,*e), MIDDLES, EDGES))\n",
    "\n",
    "def feature_histogram_circ(img):\n",
    "    sum_point = lambda r,c,v: v*img[r,c]\n",
    "    sum_line = lambda line: sum(map(sum_point, *line))\n",
    "    return normalize_arr(np.array(tuple(map(sum_line, LINES))))"
   ]
  },
  {
   "cell_type": "code",
   "execution_count": 9,
   "metadata": {
    "collapsed": true
   },
   "outputs": [],
   "source": [
    "INPUT_SHAPE = (-1, 28, 28, 1)\n",
    "VERBOSE=True\n",
    "\n",
    "BS = 500\n",
    "EPOCHS=50\n",
    "GEN_KWARGS = {} #dict(samplewise_center=True, samplewise_std_normalization=True)\n"
   ]
  },
  {
   "cell_type": "code",
   "execution_count": 36,
   "metadata": {},
   "outputs": [
    {
     "name": "stderr",
     "output_type": "stream",
     "text": [
      "/usr/lib/python3.6/site-packages/skimage/transform/_warps.py:84: UserWarning: The default mode, 'constant', will be changed to 'reflect' in skimage 0.15.\n",
      "  warn(\"The default mode, 'constant', will be changed to 'reflect' in \"\n"
     ]
    },
    {
     "name": "stdout",
     "output_type": "stream",
     "text": [
      "Found 1000000 images belonging to 10 classes.\n",
      "Found 100000 images belonging to 10 classes.\n"
     ]
    }
   ],
   "source": [
    "#### Import the dataset & apply transformations\n",
    "from urllib.request import urlretrieve\n",
    "filename, headers = urlretrieve(\n",
    "    'https://github.com/Avatust/my-mnist-digits/raw/master/data/digits.npz')\n",
    "\n",
    "with np.load(filename) as data:\n",
    "    x_test = data['input_data']\n",
    "    y_test = data['target_data']\n",
    "    \n",
    "y_test =  keras.utils.to_categorical(y_test)\n",
    "x_test =  x_test.astype('float32') / 255.0\n",
    "x_test_no_dust = np.array(\n",
    "    [\n",
    "        scipy.ndimage.grey_dilation(\n",
    "            feature_remove_dust(feature_smoothen(x)),\n",
    "            size=[2,2])\n",
    "        for x in x_test\n",
    "    ])\n",
    "x_test_no_dust_autoscaled = np.array([feature_autoscale(x) for x in x_test_no_dust])\n",
    "    \n",
    "IMG_DIR_BASE = 'images_from_flow/autoscaled_augmented'\n",
    "if exists(IMG_DIR_BASE):\n",
    "    makeflow = lambda subdir: ImageDataGenerator(rescale=1.0/255.0).flow_from_directory(\n",
    "        os.path.join(IMG_DIR_BASE, subdir),\n",
    "        target_size=(28,28),\n",
    "        color_mode='grayscale',\n",
    "        class_mode='categorical',\n",
    "        batch_size=BS,\n",
    "    )\n",
    "    flow_train_data = makeflow('train')\n",
    "    flow_valid_data = makeflow('valid')\n",
    "    \n",
    "else:\n",
    "    (x_train, y_train), (x_valid, y_valid) = keras.datasets\\\n",
    "                                            .mnist.load_data()\n",
    "\n",
    "    y_train = keras.utils.to_categorical(y_train)\n",
    "    y_valid = keras.utils.to_categorical(y_valid)\n",
    "\n",
    "    x_train = x_train.astype('float32') / 255.0\n",
    "    x_valid = x_valid.astype('float32') / 255.0\n",
    "\n",
    "    preprocess = lambda x: feature_remove_dust(feature_smoothen(x))\n",
    "    x_train_no_dust = np.array([preprocess(x) for x in x_train]) \n",
    "    x_valid_no_dust = np.array([preprocess(x) for x in x_valid]) \n",
    "\n",
    "    scale = lambda x: feature_autoscale(x.reshape(28, 28)).reshape(28, 28, 1)\n",
    "    data_gen = ImageDataGenerator(rotation_range=20,\n",
    "                                   width_shift_range=0.13, height_shift_range=0.13,\n",
    "                                   shear_range=0.2, zoom_range=0.1,\n",
    "                                   fill_mode='constant', cval=0.0,\n",
    "                                   data_format='channels_last', preprocessing_function=scale)\n",
    "    flow_train_data = data_gen.flow(x_train_no_dust.reshape(INPUT_SHAPE), y_train, batch_size=BS)\n",
    "    flow_valid_data = data_gen.flow(x_valid_no_dust.reshape(INPUT_SHAPE), y_valid, batch_size=BS)\n",
    "    \n",
    "#x_train_no_dust_sobel = np.array(tuple(map(feature_sobel, x_train_no_dust)))\n",
    "#x_valid_no_dust_sobel = np.array(tuple(map(feature_sobel, x_valid_no_dust)))\n",
    "#x_test_no_dust_sobel = np.array(tuple(map(feature_sobel, x_test_no_dust)))\n",
    "#\n",
    "#x_train_no_dust_autoscaled = np.array(tuple(map(feature_autoscale, x_train_no_dust)))\n",
    "#x_valid_no_dust_autoscaled = np.array(tuple(map(feature_autoscale, x_valid_no_dust)))\n",
    "#x_test_no_dust_autoscaled = np.array(tuple(map(feature_autoscale, x_test_no_dust)))"
   ]
  },
  {
   "cell_type": "code",
   "execution_count": 37,
   "metadata": {
    "collapsed": true
   },
   "outputs": [],
   "source": [
    "def get_histogram(img):\n",
    "    return np.concatenate((feature_histogram_horiz(img), \n",
    "                           feature_histogram_vert(img),\n",
    "                           feature_histogram_circ(img)))\n",
    "\n",
    "def transform_to_histograms(img_array):\n",
    "    return np.array([get_histogram(img) for img in img_array])\n",
    "\n",
    "#x_train_histograms = transform_to_histograms(x_train_no_dust_autoscaled)\n",
    "#x_valid_histograms = transform_to_histograms(x_valid_no_dust_autoscaled)\n",
    "x_test_histograms =  transform_to_histograms(x_test_no_dust_autoscaled)"
   ]
  },
  {
   "cell_type": "code",
   "execution_count": 38,
   "metadata": {
    "collapsed": true
   },
   "outputs": [],
   "source": [
    "def make_histogram_flow(data_flow):\n",
    "    while True:\n",
    "        inputs, targets = next(data_flow)\n",
    "        yield np.array([get_histogram(i.reshape(28,28)) for i in inputs]), targets\n",
    "    \n",
    "flow_hist_train_data = make_histogram_flow(flow_train_data)\n",
    "flow_hist_valid_data = make_histogram_flow(flow_valid_data)\n",
    "#test_data_flow_hist =  make_histogram_flow(test_data_flow)"
   ]
  },
  {
   "cell_type": "code",
   "execution_count": 44,
   "metadata": {},
   "outputs": [
    {
     "data": {
      "image/png": "[encoded data removed]",
      "text/plain": [
       "<matplotlib.figure.Figure at 0x7fcb953bdef0>"
      ]
     },
     "metadata": {},
     "output_type": "display_data"
    }
   ],
   "source": [
    "i = next(flow_hist_train_data)[0][0]\n",
    "plt.plot(i[:28])\n",
    "plt.show()\n"
   ]
  },
  {
   "cell_type": "code",
   "execution_count": null,
   "metadata": {},
   "outputs": [],
   "source": [
    "show_imgs(train_data_flow_hist.next()[0][:45].reshape(45, 28,28))\n",
    "show_imgs(test_data_flow.next()[0][:45].reshape(45, 28,28))"
   ]
  },
  {
   "cell_type": "code",
   "execution_count": null,
   "metadata": {
    "collapsed": true
   },
   "outputs": [],
   "source": [
    "d = train_data_flow.next()\n",
    "np.savez('images_from_flow/autoscaled_augmented_train', targets=d[0].reshape(-1, ) \n",
    "print('done')"
   ]
  },
  {
   "cell_type": "code",
   "execution_count": null,
   "metadata": {},
   "outputs": [],
   "source": []
  },
  {
   "cell_type": "code",
   "execution_count": null,
   "metadata": {},
   "outputs": [],
   "source": [
    "show_imgs([random.choice(x_test).reshape(28,28) for i in range(45)])\n",
    "show_imgs([random.choice(x_train).reshape(28,28) for i in range(45)])"
   ]
  },
  {
   "cell_type": "code",
   "execution_count": null,
   "metadata": {
    "scrolled": true
   },
   "outputs": [],
   "source": [
    "examples = [random.choice(x_train).reshape(28,28) for i in range(45)]\n",
    "show_imgs(examples, title='No features')\n",
    "show_imgs([feature_remove_dust(feature_smoothen(e)) for e in examples], title=\"'Dust' removal and smoothening\")\n",
    "show_imgs([feature_sobel(feature_remove_dust(feature_smoothen(e))) for e in examples], title=\"Sobelizing\")"
   ]
  },
  {
   "cell_type": "code",
   "execution_count": null,
   "metadata": {},
   "outputs": [],
   "source": [
    "for i in range(5):\n",
    "    im = random.choice(x_train)\n",
    "    im = feature_smoothen(im)\n",
    "    im = feature_remove_dust(im)\n",
    "    im = feature_autoscale(im)\n",
    "    \n",
    "    plt.subplot(311)\n",
    "    plt.plot(feature_histogram_vert(im), label='Vertical histogram')\n",
    "    plt.legend()\n",
    "    \n",
    "    plt.subplot(312)\n",
    "    plt.plot(feature_histogram_horiz(im), label='Horizontal histogram')\n",
    "    plt.legend()\n",
    "    \n",
    "    plt.subplot(313)\n",
    "    plt.plot(feature_histogram_circ(im), label='I would call it a circular histogram')\n",
    "    plt.legend()\n",
    "    plt.show()\n",
    "\n",
    "    plt.imshow(im)\n",
    "    plt.show()\n"
   ]
  },
  {
   "cell_type": "code",
   "execution_count": null,
   "metadata": {},
   "outputs": [],
   "source": []
  },
  {
   "cell_type": "code",
   "execution_count": null,
   "metadata": {
    "scrolled": true
   },
   "outputs": [],
   "source": [
    "# baseline (validation accuracy about 0.90)\n",
    "# its siblings were reaching accuracy up to 0.92 (and blazingly fast to train)\n",
    "model_simple = build_model(\n",
    "    kl.InputLayer((28,28,1)),\n",
    "    \n",
    "    kl.Conv2D(filters=8, kernel_size=3, activation='relu', padding='same'),\n",
    "    kl.Dropout(0.2),\n",
    "    kl.MaxPool2D(pool_size=2, strides=2),\n",
    "    \n",
    "    kl.Flatten(),\n",
    "    \n",
    "    kl.Dropout(0.2),\n",
    "    kl.Dense(units=64, activation='relu'),\n",
    "    kl.Dense(units=10, activation='softmax'),\n",
    "    \n",
    "    verbose=1\n",
    ")\n",
    "\n",
    "hist_simple = model_simple.fit(x_train_no_dust.reshape(INPUT_SHAPE), y_train,\n",
    "                               validation_data=(x_valid_no_dust.reshape(INPUT_SHAPE), y_valid),\n",
    "                               epochs=EPOCHS, batch_size=BS, verbose=VERBOSE)"
   ]
  },
  {
   "cell_type": "code",
   "execution_count": null,
   "metadata": {
    "collapsed": true
   },
   "outputs": [],
   "source": [
    "print('Eval:', model_simple.evaluate(x_test_no_dust.reshape(INPUT_SHAPE), y_test, verbose=0))\n",
    "\n",
    "plot_history(hist_simple, start_x_from=5)"
   ]
  },
  {
   "cell_type": "code",
   "execution_count": null,
   "metadata": {
    "scrolled": true
   },
   "outputs": [],
   "source": [
    "# baseline (validation accuracy about 0.90)\n",
    "# its siblings were reaching accuracy up to 0.92 (and blazingly fast to train)\n",
    "model_simple_autoscale = build_model(\n",
    "    kl.InputLayer((28,28,1)),\n",
    "    \n",
    "    kl.Conv2D(filters=8, kernel_size=3, activation='relu', padding='same'),\n",
    "    kl.Dropout(0.2),\n",
    "    kl.MaxPool2D(pool_size=2, strides=2),\n",
    "    \n",
    "    kl.Flatten(),\n",
    "    \n",
    "    kl.Dropout(0.2),\n",
    "    kl.Dense(units=64, activation='relu'),\n",
    "    kl.Dense(units=10, activation='softmax'),\n",
    "    \n",
    "    verbose=1\n",
    ")\n",
    "\n",
    "hist_simple_autoscale = model_simple_autoscale.fit(x_train_no_dust_autoscaled.reshape(INPUT_SHAPE), y_train,\n",
    "                               validation_data=(x_test_no_dust_autoscaled.reshape(INPUT_SHAPE), y_test),\n",
    "                               epochs=EPOCHS, batch_size=BS, verbose=VERBOSE)"
   ]
  },
  {
   "cell_type": "code",
   "execution_count": null,
   "metadata": {},
   "outputs": [],
   "source": [
    "print('Eval:', model_simple_autoscale.evaluate(x_test_no_dust_autoscaled.reshape(INPUT_SHAPE), y_test, verbose=0))\n",
    "\n",
    "plot_history(hist_simple_autoscale, start_x_from=5)"
   ]
  },
  {
   "cell_type": "code",
   "execution_count": null,
   "metadata": {
    "scrolled": true
   },
   "outputs": [],
   "source": [
    "# baseline (validation accuracy about 0.90)\n",
    "# its siblings were reaching accuracy up to 0.92 (and blazingly fast to train)\n",
    "model_simple_sobel = build_model(\n",
    "    kl.InputLayer((28,28,1)),\n",
    "    \n",
    "    kl.Conv2D(filters=8, kernel_size=3, activation='relu', padding='same'),\n",
    "    kl.Dropout(0.2),\n",
    "    kl.MaxPool2D(pool_size=2, strides=2),\n",
    "    \n",
    "    kl.Flatten(),\n",
    "    \n",
    "    kl.Dropout(0.2),\n",
    "    kl.Dense(units=64, activation='relu'),\n",
    "    kl.Dense(units=10, activation='softmax'),\n",
    "    \n",
    "    verbose=1\n",
    ")\n",
    "\n",
    "hist_simple_sobel = model_simple_sobel.fit(x_train_no_dust_sobel.reshape(INPUT_SHAPE), y_train,\n",
    "                               validation_data=(x_test_no_dust_sobel.reshape(INPUT_SHAPE), y_test),\n",
    "                               epochs=EPOCHS, batch_size=BS, verbose=VERBOSE)"
   ]
  },
  {
   "cell_type": "code",
   "execution_count": null,
   "metadata": {},
   "outputs": [],
   "source": [
    "print('Eval:', model_simple_sobel.evaluate(x_test_no_dust_sobel.reshape(INPUT_SHAPE), y_test, verbose=0))\n",
    "\n",
    "plot_history(hist_simple_sobel, start_x_from=5)"
   ]
  },
  {
   "cell_type": "code",
   "execution_count": null,
   "metadata": {},
   "outputs": [],
   "source": [
    "model_lentil_reg = build_model(\n",
    "    kl.InputLayer((28,28,1)),\n",
    "\n",
    "    kl.Conv2D(filters=20, kernel_size=5, padding='same', activation='relu'),\n",
    "    kl.Conv2D(filters=40, kernel_size=3, padding='same', activation='relu'),\n",
    "    kl.Dropout(0.1),\n",
    "    kl.MaxPool2D(pool_size=2, strides=2),\n",
    "\n",
    "\n",
    "    kl.Conv2D(filters=50, kernel_size=5, padding='same', activation='relu'),\n",
    "    kl.Dropout(0.1),\n",
    "    kl.MaxPool2D(pool_size=2, strides=2),\n",
    "\n",
    "    kl.Flatten(),\n",
    "\n",
    "    kl.Dropout(0.1),\n",
    "    kl.Dense(units=200, activation='relu'),\n",
    "    kl.Dense(units=80, activation='relu'),\n",
    "    kl.Dense(units=10, activation='softmax'),\n",
    "    \n",
    "    verbose=1\n",
    ")\n",
    "\n",
    "hist_lentil_reg = model_lentil_reg.fit_generator(generator=train_data_flow,\n",
    "                                    validation_data=test_data_flow,\n",
    "                                    steps_per_epoch=len(x_train) // BS,\n",
    "                                    epochs=40, verbose=1)"
   ]
  },
  {
   "cell_type": "code",
   "execution_count": null,
   "metadata": {},
   "outputs": [],
   "source": [
    "print('Eval:', model_lentil_reg.evaluate_generator(test_data_flow))\n",
    "\n",
    "plot_history(hist_lentil_reg, start_x_from=5)"
   ]
  },
  {
   "cell_type": "code",
   "execution_count": null,
   "metadata": {},
   "outputs": [],
   "source": [
    "model_just_dense = build_model(\n",
    "    kl.InputLayer((168,)),\n",
    "    \n",
    "    kl.Dense(units=170, activation='elu'),\n",
    "    kl.Dropout(0.2),\n",
    "    kl.Dense(units=120, activation='elu'),\n",
    "    kl.Dropout(0.1),\n",
    "    kl.Dense(units=80, activation='elu'),\n",
    "    kl.Dropout(0.1),\n",
    "    kl.Dense(units=80, activation='elu'),\n",
    "    kl.Dense(units=10, activation='softmax'),\n",
    "    \n",
    "    verbose=1\n",
    ")\n",
    "\n",
    "#hist_just_dense = model_just_dense.fit(x_train_histograms, y_train,\n",
    "#                                       validation_data=(x_test_histograms, y_test),\n",
    "#                                       epochs=300, batch_size=2000, verbose=VERBOSE)"
   ]
  },
  {
   "cell_type": "code",
   "execution_count": null,
   "metadata": {},
   "outputs": [],
   "source": [
    "hist_just_dense = model_just_dense.fit_generator(generator=train_data_flow_hist,\n",
    "                                    validation_data=(x_test_histograms, y_test),\n",
    "                                    steps_per_epoch=len(x_train) // BS,\n",
    "                                    epochs=40, verbose=1)\n",
    "\n",
    "print('Eval:', model_just_dense.evaluate(x_test_histograms, y_test))\n",
    "\n",
    "\n",
    "plot_history(hist_just_dense, start_x_from=5)"
   ]
  },
  {
   "cell_type": "code",
   "execution_count": null,
   "metadata": {
    "scrolled": true
   },
   "outputs": [],
   "source": [
    "model_just_dense = build_model(\n",
    "    kl.InputLayer((168,1)),\n",
    "    kl.Flatten(),\n",
    "    \n",
    "    kl.Dense(units=168, activation='relu', kernel_constraint=keras.constraints.max_norm(3)),\n",
    "    kl.Dropout(0.1),\n",
    "    kl.Dense(units=168, activation='relu', kernel_constraint=keras.constraints.max_norm(3)),\n",
    "    kl.Dense(units=100, activation='relu', kernel_constraint=keras.constraints.max_norm(3)),\n",
    "    kl.Dropout(0.1),\n",
    "    kl.Dense(units=60, activation='relu', kernel_constraint=keras.constraints.max_norm(3)),\n",
    "    kl.Dense(units=10, activation='softmax'),\n",
    "    \n",
    "    verbose=1\n",
    ")"
   ]
  },
  {
   "cell_type": "code",
   "execution_count": null,
   "metadata": {},
   "outputs": [],
   "source": [
    "nexttrain_data_flow_hist)[0].shape"
   ]
  },
  {
   "cell_type": "code",
   "execution_count": null,
   "metadata": {
    "scrolled": true
   },
   "outputs": [],
   "source": [
    "hist_just_dense = model_just_dense.fit(x_train_histograms.reshape(-1, 168, 1), y_train,\n",
    "                                       validation_data=(x_test_histograms.reshape(-1, 168, 1), y_test),\n",
    "                                       epochs=500, batch_size=20000, verbose=VERBOSE)\n",
    "print('Eval:', model_just_dense.evaluate(x_test_histograms.reshape(-1, 168, 1), y_test))\n",
    "\n",
    "\n",
    "plot_history(hist_just_dense, start_x_from=0)"
   ]
  }
 ],
 "metadata": {
  "kernelspec": {
   "display_name": "Python 3",
   "language": "python",
   "name": "python3"
  },
  "language_info": {
   "codemirror_mode": {
    "name": "ipython",
    "version": 3
   },
   "file_extension": ".py",
   "mimetype": "text/x-python",
   "name": "python",
   "nbconvert_exporter": "python",
   "pygments_lexer": "ipython3",
   "version": "3.7.2"
  }
 },
 "nbformat": 4,
 "nbformat_minor": 2
}
