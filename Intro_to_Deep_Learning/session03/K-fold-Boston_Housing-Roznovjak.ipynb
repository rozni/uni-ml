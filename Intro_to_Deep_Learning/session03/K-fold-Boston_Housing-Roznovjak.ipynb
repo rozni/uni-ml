{
 "cells": [
  {
   "cell_type": "code",
   "execution_count": 1,
   "metadata": {},
   "outputs": [
    {
     "name": "stderr",
     "output_type": "stream",
     "text": [
      "/usr/lib/python3.6/site-packages/h5py/__init__.py:36: FutureWarning: Conversion of the second argument of issubdtype from `float` to `np.floating` is deprecated. In future, it will be treated as `np.float64 == np.dtype(float).type`.\n",
      "  from ._conv import register_converters as _register_converters\n",
      "Using TensorFlow backend.\n"
     ]
    }
   ],
   "source": [
    "import numpy as np\n",
    "import matplotlib.pyplot as plt\n",
    "import keras"
   ]
  },
  {
   "cell_type": "code",
   "execution_count": 2,
   "metadata": {
    "collapsed": true
   },
   "outputs": [],
   "source": [
    "### Dataset related functions ###\n",
    "\n",
    "def all_same_length(*args):\n",
    "    return all(len(a) == len(args[0]) for a in args)\n",
    "\n",
    "def shuffle_together(*numpy_arrays):\n",
    "    assert all_same_length(*numpy_arrays)\n",
    "    permut = np.random.permutation(len(numpy_arrays[0]))\n",
    "    return tuple(a[permut] for a in numpy_arrays)\n",
    "\n",
    "def get_inner_slice_from_k_split(k, ith_slice, numpy_array):\n",
    "    \"\"\"The validation part of the data\"\"\"\n",
    "    split_length = len(numpy_array) // k \n",
    "    return numpy_array[ith_slice * split_length : (ith_slice + 1) * split_length]\n",
    "    \n",
    "def get_outer_slice_from_k_split(k, ith_slice, numpy_array):\n",
    "    \"\"\"The training part of the data\"\"\"\n",
    "    split_length = len(numpy_array) // k \n",
    "    return np.concatenate((\n",
    "        numpy_array[:ith_slice * split_length],\n",
    "        numpy_array[(ith_slice + 1) * split_length:]),\n",
    "        axis=0)\n",
    "\n",
    "def get_k_fold_sets(k, ith_set, x_data, y_targets):\n",
    "    \n",
    "    x_train = get_outer_slice_from_k_split(k, ith_set, x_data)\n",
    "    y_train = get_outer_slice_from_k_split(k, ith_set, y_targets)\n",
    "    \n",
    "    x_valid = get_inner_slice_from_k_split(k, ith_set, x_data)\n",
    "    y_valid = get_inner_slice_from_k_split(k, ith_set, y_targets)\n",
    "    \n",
    "    return (x_train, y_train), (x_valid, y_valid)"
   ]
  },
  {
   "cell_type": "code",
   "execution_count": 3,
   "metadata": {
    "collapsed": true
   },
   "outputs": [],
   "source": [
    "### Model related functions ###\n",
    "\n",
    "def make_model(neurons, activations, input_shape, verbose=True,\n",
    "               optimizer='sgd', loss='categorical_crossentropy', metrics=['acc']):\n",
    "    model = keras.models.Sequential()\n",
    "    zzz = zip(neurons, activations)\n",
    "    \n",
    "    n, a = next(zzz)\n",
    "    model.add(keras.layers.Dense(n, input_shape=input_shape, activation=a))\n",
    "    for n, a in zzz:\n",
    "        model.add(keras.layers.Dense(n, activation=a))\n",
    "        \n",
    "    if verbose:\n",
    "        print(\"Model summary:\")\n",
    "        model.summary()\n",
    "    \n",
    "    model.compile(optimizer=optimizer, loss=loss, metrics=metrics)\n",
    "    \n",
    "    return model\n",
    "\n",
    "def plot_history(history, figsize=(15,4), title='', columns=2, start_x_from=0):\n",
    "    if hasattr(history, 'history'): # full history given\n",
    "        history = history.history   # only that history is enough\n",
    "        \n",
    "    assert hasattr(history, 'keys')\n",
    "    keys = [key for key in history.keys() if not key.startswith(\"val_\")]\n",
    "    assert keys # there is one at least\n",
    "    epochs = list(range(1,len(history[keys[0]])+1)) # all should have the same size list\n",
    "    \n",
    "    rows = np.ceil(len(keys)/columns).astype('int')\n",
    "    \n",
    "    fig=plt.figure(figsize=figsize)\n",
    "    f = plt.title(title)\n",
    "    f.axes.get_xaxis().set_visible(False)\n",
    "    f.axes.get_yaxis().set_visible(False)\n",
    "    \n",
    "    i = 1\n",
    "    for key in sorted(keys):\n",
    "        valkey = \"val_\" + key\n",
    "        fig.add_subplot(rows, columns, i)\n",
    "        i += 1\n",
    "        plt.plot(epochs[start_x_from:], history[key][start_x_from:], 'bo', label=\"Training \" + key)\n",
    "        if valkey in history:\n",
    "            plt.plot(epochs[start_x_from:], history[valkey][start_x_from:], 'r+', label='Validation ' + key)\n",
    "        plt.legend()\n",
    "        \n",
    "    plt.show()"
   ]
  },
  {
   "cell_type": "code",
   "execution_count": 4,
   "metadata": {
    "collapsed": true
   },
   "outputs": [],
   "source": [
    "### Some other utilities ###\n",
    "\n",
    "def average_histories(histories, for_keys=None):\n",
    "    if for_keys == None:\n",
    "        for_keys = histories[0].keys()\n",
    "        \n",
    "    average_history = {}\n",
    "    for key in for_keys:\n",
    "        average_history[key] = [\n",
    "            np.mean([hist[key][epoch] for hist in histories]) for epoch in range(len(histories[0][key]))]\n",
    "        \n",
    "    return average_history\n",
    "\n",
    "def kfoldize(K, train_data, train_targets, epochs, batch_size, model_factory, verbose_level=1):\n",
    "    histories = []\n",
    "    for i in range(K):\n",
    "        if verbose_level:\n",
    "            print('fold', i+1, 'out of', K)\n",
    "        kfold_training, kfold_validation = get_k_fold_sets(K, i, train_data, train_targets)\n",
    "        model = model_factory()\n",
    "        hist = model.fit(*kfold_training, validation_data=kfold_validation,\n",
    "                        epochs=epochs, batch_size=batch_size, verbose=(verbose_level >= 10))\n",
    "        histories.append(hist.history)\n",
    "        \n",
    "    return histories"
   ]
  },
  {
   "cell_type": "code",
   "execution_count": 5,
   "metadata": {
    "collapsed": true
   },
   "outputs": [],
   "source": [
    "### Load the dataset, normalize ###\n",
    "\n",
    "from keras.datasets import boston_housing\n",
    "\n",
    "(orig_x_train, orig_y_train), (x_test, y_test) = boston_housing.load_data()\n",
    "\n",
    "orig_x_train, orig_y_train = shuffle_together(orig_x_train, orig_y_train)\n",
    "\n",
    "mean = np.mean(orig_x_train, axis=0)\n",
    "std = np.std(orig_x_train, axis=0)\n",
    "\n",
    "orig_x_train -= mean\n",
    "orig_x_train /= (2 * std)\n",
    "\n",
    "x_test -= mean\n",
    "x_test /= (2 * std)\n",
    "\n",
    "WANTED_METRICS = {'val_mean_absolute_error', 'val_mean_squared_error', 'mean_absolute_error', 'mean_squared_error'}\n",
    "KFOLDIZE_KWARGS = dict(K=8, train_data=orig_x_train, train_targets=orig_y_train,\n",
    "                      epochs=300, batch_size=32, verbose_level=0)"
   ]
  },
  {
   "cell_type": "markdown",
   "metadata": {},
   "source": [
    "Starting with small models, then growing, trying to get an idea about their behaviour and the behaviour of different optimizers, showing here just some of the original:"
   ]
  },
  {
   "cell_type": "code",
   "execution_count": 6,
   "metadata": {},
   "outputs": [
    {
     "name": "stdout",
     "output_type": "stream",
     "text": [
      "        val_mean_squared_error:  21.90\n",
      "            mean_squared_error:  15.71\n",
      "       val_mean_absolute_error:   3.18\n",
      "           mean_absolute_error:   2.35\n"
     ]
    },
    {
     "data": {
      "image/png": "[encoded data removed]",
      "text/plain": [
       "<matplotlib.figure.Figure at 0x7f057059e9e8>"
      ]
     },
     "metadata": {},
     "output_type": "display_data"
    }
   ],
   "source": [
    "histories = kfoldize(**KFOLDIZE_KWARGS, \n",
    "                     model_factory=lambda: make_model(\n",
    "                         (8, 4, 1),\n",
    "                         ('selu','selu', 'linear'),\n",
    "                         input_shape=(13,), verbose=False,\n",
    "                         loss='mae', optimizer='sgd',\n",
    "                         metrics=['mae', 'mse']))\n",
    "\n",
    "avg_hist = average_histories(histories, WANTED_METRICS)\n",
    "for k, v in avg_hist.items():\n",
    "    print(\"{:>30}: {:6.2f}\".format(k, v[-1]))\n",
    "plot_history(avg_hist, start_x_from=80)"
   ]
  },
  {
   "cell_type": "code",
   "execution_count": 7,
   "metadata": {},
   "outputs": [
    {
     "name": "stdout",
     "output_type": "stream",
     "text": [
      "        val_mean_squared_error:  15.47\n",
      "            mean_squared_error:  14.96\n",
      "       val_mean_absolute_error:   2.57\n",
      "           mean_absolute_error:   2.28\n"
     ]
    },
    {
     "data": {
      "image/png": "[encoded data removed]",
      "text/plain": [
       "<matplotlib.figure.Figure at 0x7f05561abe80>"
      ]
     },
     "metadata": {},
     "output_type": "display_data"
    }
   ],
   "source": [
    "histories = kfoldize(**KFOLDIZE_KWARGS,\n",
    "                     model_factory=lambda: make_model(\n",
    "                         (8, 4,1),\n",
    "                         ('relu','relu', 'linear'),\n",
    "                         input_shape=(13,), verbose=False,\n",
    "                         loss='mae', optimizer='adam',\n",
    "                         metrics=['mae', 'mse']))\n",
    "\n",
    "avg_hist = average_histories(histories, WANTED_METRICS)\n",
    "for k, v in avg_hist.items():\n",
    "    print(\"{:>30}: {:6.2f}\".format(k, v[-1]))\n",
    "plot_history(avg_hist, start_x_from=80)"
   ]
  },
  {
   "cell_type": "code",
   "execution_count": 8,
   "metadata": {},
   "outputs": [
    {
     "name": "stdout",
     "output_type": "stream",
     "text": [
      "mse,     sgd:   val_mean_absolute_error:   2.69\n",
      "mse,     sgd:    val_mean_squared_error:  12.65\n",
      "\n",
      "mse, rmsprop:   val_mean_absolute_error:   3.10\n",
      "mse, rmsprop:    val_mean_squared_error:  19.88\n",
      "\n",
      "mse,    adam:   val_mean_absolute_error:   3.17\n",
      "mse,    adam:    val_mean_squared_error:  22.73\n",
      "\n",
      "mae,     sgd:   val_mean_absolute_error:   2.79\n",
      "mae,     sgd:    val_mean_squared_error:  19.85\n",
      "\n",
      "mae, rmsprop:   val_mean_absolute_error:   3.09\n",
      "mae, rmsprop:    val_mean_squared_error:  24.93\n",
      "\n",
      "mae,    adam:   val_mean_absolute_error:   2.97\n",
      "mae,    adam:    val_mean_squared_error:  22.14\n",
      "\n"
     ]
    }
   ],
   "source": [
    "for loss in ('mse', 'mae'):\n",
    "    for optimizer in ('sgd', 'rmsprop', 'adam'):\n",
    "        histories = kfoldize(K=8, verbose_level=0,\n",
    "                             train_data=orig_x_train,\n",
    "                             train_targets=orig_y_train,\n",
    "                             epochs=100, batch_size=15,\n",
    "                             model_factory=lambda: make_model(\n",
    "                                 (13,1),\n",
    "                                 ('elu', 'linear'),\n",
    "                                 input_shape=(13,), verbose=False,\n",
    "                                 loss=loss, optimizer=optimizer,\n",
    "                                 metrics=['mae', 'mse']))\n",
    "\n",
    "        avg_hist = average_histories(histories, ('val_mean_absolute_error', 'val_mean_squared_error'))\n",
    "        for k, v in avg_hist.items():\n",
    "            print(\"{}, {:>7}: {:>25}: {:6.2f}\".format(loss, optimizer, k, v[-1]))\n",
    "        print()"
   ]
  },
  {
   "cell_type": "code",
   "execution_count": 9,
   "metadata": {},
   "outputs": [
    {
     "name": "stdout",
     "output_type": "stream",
     "text": [
      "mse,     sgd:   val_mean_absolute_error:   2.36\n",
      "mse,     sgd:    val_mean_squared_error:  10.79\n",
      "\n",
      "mse, rmsprop:   val_mean_absolute_error:   3.03\n",
      "mse, rmsprop:    val_mean_squared_error:  18.54\n",
      "\n",
      "mse,    adam:   val_mean_absolute_error:   3.14\n",
      "mse,    adam:    val_mean_squared_error:  19.51\n",
      "\n",
      "mae,     sgd:   val_mean_absolute_error:   2.83\n",
      "mae,     sgd:    val_mean_squared_error:  19.90\n",
      "\n",
      "mae, rmsprop:   val_mean_absolute_error:   2.81\n",
      "mae, rmsprop:    val_mean_squared_error:  20.19\n",
      "\n",
      "mae,    adam:   val_mean_absolute_error:   2.76\n",
      "mae,    adam:    val_mean_squared_error:  19.44\n",
      "\n"
     ]
    }
   ],
   "source": [
    "for loss in ('mse', 'mae'):\n",
    "    for optimizer in ('sgd', 'rmsprop', 'adam'):\n",
    "        histories = kfoldize(K=8, verbose_level=0,\n",
    "                             train_data=orig_x_train,\n",
    "                             train_targets=orig_y_train,\n",
    "                             epochs=100, batch_size=15,\n",
    "                             model_factory=lambda: make_model(\n",
    "                                 (30,1),\n",
    "                                 ('elu', 'linear'),\n",
    "                                 input_shape=(13,), verbose=False,\n",
    "                                 loss=loss, optimizer=optimizer,\n",
    "                                 metrics=['mae', 'mse']))\n",
    "\n",
    "        avg_hist = average_histories(histories, ('val_mean_absolute_error', 'val_mean_squared_error'))\n",
    "        for k, v in avg_hist.items():\n",
    "            print(\"{}, {:>7}: {:>25}: {:6.2f}\".format(loss, optimizer, k, v[-1]))\n",
    "        print()"
   ]
  },
  {
   "cell_type": "code",
   "execution_count": 10,
   "metadata": {},
   "outputs": [
    {
     "name": "stdout",
     "output_type": "stream",
     "text": [
      "mse,     sgd:   val_mean_absolute_error:    nan\n",
      "mse,     sgd:    val_mean_squared_error:    nan\n",
      "\n",
      "mse, rmsprop:   val_mean_absolute_error:   2.78\n",
      "mse, rmsprop:    val_mean_squared_error:  15.85\n",
      "\n",
      "mse,    adam:   val_mean_absolute_error:   2.71\n",
      "mse,    adam:    val_mean_squared_error:  13.85\n",
      "\n",
      "mae,     sgd:   val_mean_absolute_error:   2.45\n",
      "mae,     sgd:    val_mean_squared_error:  16.05\n",
      "\n",
      "mae, rmsprop:   val_mean_absolute_error:   3.78\n",
      "mae, rmsprop:    val_mean_squared_error:  42.26\n",
      "\n",
      "mae,    adam:   val_mean_absolute_error:   2.61\n",
      "mae,    adam:    val_mean_squared_error:  16.77\n",
      "\n"
     ]
    }
   ],
   "source": [
    "for loss in ('mse', 'mae'):\n",
    "    for optimizer in ('sgd', 'rmsprop', 'adam'):\n",
    "        histories = kfoldize(K=8, verbose_level=0,\n",
    "                             train_data=orig_x_train,\n",
    "                             train_targets=orig_y_train,\n",
    "                             epochs=100, batch_size=15,\n",
    "                             model_factory=lambda: make_model(\n",
    "                                 (13, 4, 1),\n",
    "                                 ('relu', 'elu', 'linear'),\n",
    "                                 input_shape=(13,), verbose=False,\n",
    "                                 loss=loss, optimizer=optimizer,\n",
    "                                 metrics=['mae', 'mse']))\n",
    "\n",
    "        avg_hist = average_histories(histories, ('val_mean_absolute_error', 'val_mean_squared_error'))\n",
    "        for k, v in avg_hist.items():\n",
    "            print(\"{}, {:>7}: {:>25}: {:6.2f}\".format(loss, optimizer, k, v[-1]))\n",
    "        print()"
   ]
  },
  {
   "cell_type": "code",
   "execution_count": 11,
   "metadata": {},
   "outputs": [
    {
     "name": "stdout",
     "output_type": "stream",
     "text": [
      "mae, rmsprop:   val_mean_absolute_error:   2.49\n",
      "mae, rmsprop:    val_mean_squared_error:  16.80\n",
      "\n",
      "mae,    adam:   val_mean_absolute_error:   2.48\n",
      "mae,    adam:    val_mean_squared_error:  16.66\n",
      "\n",
      "mae,     sgd:   val_mean_absolute_error:   2.58\n",
      "mae,     sgd:    val_mean_squared_error:  17.27\n",
      "\n",
      "mse, rmsprop:   val_mean_absolute_error:   2.64\n",
      "mse, rmsprop:    val_mean_squared_error:  13.75\n",
      "\n",
      "mse,    adam:   val_mean_absolute_error:   2.69\n",
      "mse,    adam:    val_mean_squared_error:  14.43\n",
      "\n",
      "mse,     sgd:   val_mean_absolute_error:   2.70\n",
      "mse,     sgd:    val_mean_squared_error:  15.37\n",
      "\n"
     ]
    }
   ],
   "source": [
    "for loss in ('mae', 'mse'):\n",
    "    for optimizer in ('rmsprop','adam','sgd'):\n",
    "        histories = kfoldize(K=8, verbose_level=0,\n",
    "                             train_data=orig_x_train,\n",
    "                             train_targets=orig_y_train,\n",
    "                             epochs=100, batch_size=25,\n",
    "                             model_factory=lambda: make_model(\n",
    "                                 (30, 30,1),\n",
    "                                 ('elu','elu', 'linear'),\n",
    "                                 input_shape=(13,), verbose=False,\n",
    "                                 loss=loss, optimizer=optimizer,\n",
    "                                 metrics=['mae', 'mse']))\n",
    "\n",
    "        avg_hist = average_histories(histories, ('val_mean_absolute_error', 'val_mean_squared_error'))\n",
    "        for k, v in avg_hist.items():\n",
    "            print(\"{}, {:>7}: {:>25}: {:6.2f}\".format(loss, optimizer, k, v[-1]))\n",
    "        print()"
   ]
  },
  {
   "cell_type": "code",
   "execution_count": 12,
   "metadata": {},
   "outputs": [
    {
     "name": "stdout",
     "output_type": "stream",
     "text": [
      "mse,     sgd:   val_mean_absolute_error:    nan\n",
      "mse,     sgd:    val_mean_squared_error:    nan\n",
      "\n",
      "mse, rmsprop:   val_mean_absolute_error:   2.29\n",
      "mse, rmsprop:    val_mean_squared_error:  10.06\n",
      "\n",
      "mse,    adam:   val_mean_absolute_error:   2.27\n",
      "mse,    adam:    val_mean_squared_error:  10.13\n",
      "\n",
      "mae,     sgd:   val_mean_absolute_error:   2.38\n",
      "mae,     sgd:    val_mean_squared_error:  11.71\n",
      "\n",
      "mae, rmsprop:   val_mean_absolute_error:   2.18\n",
      "mae, rmsprop:    val_mean_squared_error:  10.86\n",
      "\n",
      "mae,    adam:   val_mean_absolute_error:   2.22\n",
      "mae,    adam:    val_mean_squared_error:  11.79\n",
      "\n"
     ]
    }
   ],
   "source": [
    "for loss in ('mse', 'mae'):\n",
    "    for optimizer in ('sgd', 'rmsprop', 'adam'):\n",
    "        histories = kfoldize(K=8, verbose_level=0,\n",
    "                             train_data=orig_x_train,\n",
    "                             train_targets=orig_y_train,\n",
    "                             epochs=200, batch_size=15,\n",
    "                             model_factory=lambda: make_model(\n",
    "                                 (60, 40, 20, 1),\n",
    "                                 ('elu', 'elu', 'elu', 'linear'),\n",
    "                                 input_shape=(13,), verbose=False,\n",
    "                                 loss=loss, optimizer=optimizer,\n",
    "                                 metrics=['mae', 'mse']))\n",
    "\n",
    "        avg_hist = average_histories(histories, ('val_mean_absolute_error', 'val_mean_squared_error'))\n",
    "        for k, v in avg_hist.items():\n",
    "            print(\"{}, {:>7}: {:>25}: {:6.2f}\".format(loss, optimizer, k, v[-1]))\n",
    "        print()"
   ]
  },
  {
   "cell_type": "code",
   "execution_count": 17,
   "metadata": {},
   "outputs": [
    {
     "name": "stdout",
     "output_type": "stream",
     "text": [
      "102/102 [==============================] - 1s 15ms/step\n"
     ]
    },
    {
     "data": {
      "text/plain": [
       "[10.790202496098537, 2.2741290447758695]"
      ]
     },
     "execution_count": 17,
     "metadata": {},
     "output_type": "execute_result"
    }
   ],
   "source": [
    "model = make_model((30, 30, 1),\n",
    "                   ('elu','elu','linear'),\n",
    "                   input_shape=(13,), verbose=False,\n",
    "                   loss='mse', optimizer='adam', metrics=['mae'])\n",
    "\n",
    "hist1 = model.fit(orig_x_train, orig_y_train,\n",
    "                 epochs=1000, batch_size = 25, verbose=False)\n",
    "\n",
    "model.evaluate(x_test, y_test)"
   ]
  },
  {
   "cell_type": "code",
   "execution_count": 19,
   "metadata": {},
   "outputs": [
    {
     "data": {
      "image/png": "[encoded data removed]",
      "text/plain": [
       "<matplotlib.figure.Figure at 0x7f0504f35e10>"
      ]
     },
     "metadata": {},
     "output_type": "display_data"
    }
   ],
   "source": [
    "plt.plot(y_test, hist1.model.predict(x_test), 'ro')\n",
    "plt.plot([0,50], [0,50], 'b')\n",
    "plt.show()"
   ]
  },
  {
   "cell_type": "code",
   "execution_count": 21,
   "metadata": {},
   "outputs": [
    {
     "name": "stdout",
     "output_type": "stream",
     "text": [
      "0.00980392156862745\n"
     ]
    }
   ],
   "source": [
    "print(np.sum(np.round(hist1.model.predict(x_test)[:,0]) == y_test) / len(y_test))\n",
    "1/102"
   ]
  },
  {
   "cell_type": "code",
   "execution_count": 18,
   "metadata": {},
   "outputs": [
    {
     "name": "stdout",
     "output_type": "stream",
     "text": [
      "102/102 [==============================] - 2s 15ms/step\n"
     ]
    },
    {
     "data": {
      "text/plain": [
       "[11.359180076449524, 2.3761214181488635]"
      ]
     },
     "execution_count": 18,
     "metadata": {},
     "output_type": "execute_result"
    }
   ],
   "source": [
    "model = make_model((60, 40, 20, 1),\n",
    "                   ('elu','elu','elu','linear'),\n",
    "                   input_shape=(13,), verbose=False,\n",
    "                   loss='mse', optimizer='adam', metrics=['mae'])\n",
    "\n",
    "hist2 = model.fit(orig_x_train, orig_y_train,\n",
    "                 epochs=1000, batch_size = 25, verbose=False)\n",
    "\n",
    "model.evaluate(x_test, y_test)"
   ]
  },
  {
   "cell_type": "code",
   "execution_count": 20,
   "metadata": {},
   "outputs": [
    {
     "data": {
      "image/png": "[encoded data removed]",
      "text/plain": [
       "<matplotlib.figure.Figure at 0x7f0504d963c8>"
      ]
     },
     "metadata": {},
     "output_type": "display_data"
    }
   ],
   "source": [
    "plt.plot(y_test, hist2.model.predict(x_test), 'ro')\n",
    "plt.plot([0,50], [0,50], 'b')\n",
    "plt.show()"
   ]
  },
  {
   "cell_type": "code",
   "execution_count": 23,
   "metadata": {},
   "outputs": [
    {
     "name": "stdout",
     "output_type": "stream",
     "text": [
      "0.0196078431372549\n"
     ]
    },
    {
     "data": {
      "text/plain": [
       "0.0196078431372549"
      ]
     },
     "execution_count": 23,
     "metadata": {},
     "output_type": "execute_result"
    }
   ],
   "source": [
    "print(np.sum(np.round(hist2.model.predict(x_test)[:,0]) == y_test) / len(y_test))\n",
    "2/102"
   ]
  },
  {
   "cell_type": "markdown",
   "metadata": {},
   "source": [
    "I after a lot of experimenting I found out that:\n",
    "* SGD had surprisingly usually lowest MAE being trained on smaller networks, even though its progress is much noisier than that of Adam or RMSProp\n",
    "\n",
    "* SGD had big troubles to finish training though - the metrics became NaN, this was especially happening with ReLU, using MSE as a loss function and having more than one hidden layer, it was a bit better using MAE and different activation functions\n",
    "\n",
    "* Adam generally performed slightly better than RMSProp\n",
    "\n",
    "* as expected k-fold validation for higher values of k was yielding more stable final metrics and trying to design the network without validation felt like blind-shooting\n",
    "\n",
    "* one has to run the things many times to get the idea how it really is\n",
    "\n",
    "* ELU seemed to be better then other *elu variants (at least over ReLU with some significance)\n",
    "\n",
    "\n",
    "In the end I managed to train a model (the (30, 30, 1)) which performs relatively good - well, at least better than previously, now being just 1 wrong but on average being off by $2300."
   ]
  }
 ],
 "metadata": {
  "kernelspec": {
   "display_name": "Python 3",
   "language": "python",
   "name": "python3"
  },
  "language_info": {
   "codemirror_mode": {
    "name": "ipython",
    "version": 3
   },
   "file_extension": ".py",
   "mimetype": "text/x-python",
   "name": "python",
   "nbconvert_exporter": "python",
   "pygments_lexer": "ipython3",
   "version": "3.7.2"
  }
 },
 "nbformat": 4,
 "nbformat_minor": 2
}
