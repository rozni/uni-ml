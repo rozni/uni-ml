{
 "cells": [
  {
   "cell_type": "code",
   "execution_count": 1,
   "metadata": {},
   "outputs": [
    {
     "name": "stderr",
     "output_type": "stream",
     "text": [
      "Using TensorFlow backend.\n"
     ]
    }
   ],
   "source": [
    "import numpy as np\n",
    "import keras"
   ]
  },
  {
   "cell_type": "code",
   "execution_count": 2,
   "metadata": {},
   "outputs": [
    {
     "name": "stdout",
     "output_type": "stream",
     "text": [
      "(2000, 1)\n"
     ]
    }
   ],
   "source": [
    "x = np.random.rand(2000,1) * 1.0\n",
    "y = 4 * (x  + (0.2 - np.random.rand(2000,1) * 0.4)) + 3\n",
    "\n",
    "liny = 4 * x + 3\n",
    "\n",
    "print(x.shape)"
   ]
  },
  {
   "cell_type": "code",
   "execution_count": 3,
   "metadata": {},
   "outputs": [
    {
     "data": {
      "image/png": "[encoded data removed]",
      "text/plain": [
       "<matplotlib.figure.Figure at 0x1815092198>"
      ]
     },
     "metadata": {},
     "output_type": "display_data"
    }
   ],
   "source": [
    "import matplotlib.pyplot as plt\n",
    "\n",
    "plt.plot(x, y, 'bo')\n",
    "plt.plot(x, liny, 'r')\n",
    "plt.xlabel('x')\n",
    "plt.ylabel('y')\n",
    "plt.show()"
   ]
  },
  {
   "cell_type": "code",
   "execution_count": 4,
   "metadata": {},
   "outputs": [
    {
     "name": "stdout",
     "output_type": "stream",
     "text": [
      "_________________________________________________________________\n",
      "Layer (type)                 Output Shape              Param #   \n",
      "=================================================================\n",
      "dense_1 (Dense)              (None, 1)                 2         \n",
      "=================================================================\n",
      "Total params: 2\n",
      "Trainable params: 2\n",
      "Non-trainable params: 0\n",
      "_________________________________________________________________\n",
      "Epoch 1/30\n",
      "2000/2000 [==============================] - 0s 124us/step - loss: 6.2307 - mean_squared_error: 6.2307\n",
      "Epoch 2/30\n",
      "2000/2000 [==============================] - 0s 49us/step - loss: 0.6480 - mean_squared_error: 0.6480\n",
      "Epoch 3/30\n",
      "2000/2000 [==============================] - 0s 52us/step - loss: 0.5197 - mean_squared_error: 0.5197\n",
      "Epoch 4/30\n",
      "2000/2000 [==============================] - 0s 48us/step - loss: 0.4354 - mean_squared_error: 0.4354\n",
      "Epoch 5/30\n",
      "2000/2000 [==============================] - 0s 52us/step - loss: 0.3751 - mean_squared_error: 0.3751\n",
      "Epoch 6/30\n",
      "2000/2000 [==============================] - 0s 48us/step - loss: 0.3314 - mean_squared_error: 0.3314\n",
      "Epoch 7/30\n",
      "2000/2000 [==============================] - 0s 49us/step - loss: 0.3003 - mean_squared_error: 0.3003\n",
      "Epoch 8/30\n",
      "2000/2000 [==============================] - 0s 51us/step - loss: 0.2779 - mean_squared_error: 0.2779\n",
      "Epoch 9/30\n",
      "2000/2000 [==============================] - 0s 56us/step - loss: 0.2616 - mean_squared_error: 0.2616\n",
      "Epoch 10/30\n",
      "2000/2000 [==============================] - 0s 54us/step - loss: 0.2504 - mean_squared_error: 0.2504\n",
      "Epoch 11/30\n",
      "2000/2000 [==============================] - 0s 52us/step - loss: 0.2419 - mean_squared_error: 0.2419\n",
      "Epoch 12/30\n",
      "2000/2000 [==============================] - 0s 53us/step - loss: 0.2361 - mean_squared_error: 0.2361\n",
      "Epoch 13/30\n",
      "2000/2000 [==============================] - 0s 51us/step - loss: 0.2318 - mean_squared_error: 0.2318\n",
      "Epoch 14/30\n",
      "2000/2000 [==============================] - 0s 53us/step - loss: 0.2288 - mean_squared_error: 0.2288\n",
      "Epoch 15/30\n",
      "2000/2000 [==============================] - 0s 52us/step - loss: 0.2265 - mean_squared_error: 0.2265\n",
      "Epoch 16/30\n",
      "2000/2000 [==============================] - 0s 53us/step - loss: 0.2247 - mean_squared_error: 0.2247\n",
      "Epoch 17/30\n",
      "2000/2000 [==============================] - 0s 54us/step - loss: 0.2238 - mean_squared_error: 0.2238\n",
      "Epoch 18/30\n",
      "2000/2000 [==============================] - 0s 56us/step - loss: 0.2230 - mean_squared_error: 0.2230\n",
      "Epoch 19/30\n",
      "2000/2000 [==============================] - 0s 57us/step - loss: 0.2223 - mean_squared_error: 0.2223\n",
      "Epoch 20/30\n",
      "2000/2000 [==============================] - 0s 53us/step - loss: 0.2221 - mean_squared_error: 0.2221\n",
      "Epoch 21/30\n",
      "2000/2000 [==============================] - 0s 52us/step - loss: 0.2217 - mean_squared_error: 0.2217\n",
      "Epoch 22/30\n",
      "2000/2000 [==============================] - 0s 54us/step - loss: 0.2215 - mean_squared_error: 0.2215\n",
      "Epoch 23/30\n",
      "2000/2000 [==============================] - 0s 51us/step - loss: 0.2214 - mean_squared_error: 0.2214\n",
      "Epoch 24/30\n",
      "2000/2000 [==============================] - 0s 51us/step - loss: 0.2213 - mean_squared_error: 0.2213\n",
      "Epoch 25/30\n",
      "2000/2000 [==============================] - 0s 49us/step - loss: 0.2211 - mean_squared_error: 0.2211\n",
      "Epoch 26/30\n",
      "2000/2000 [==============================] - 0s 54us/step - loss: 0.2211 - mean_squared_error: 0.2211\n",
      "Epoch 27/30\n",
      "2000/2000 [==============================] - 0s 129us/step - loss: 0.2210 - mean_squared_error: 0.2210\n",
      "Epoch 28/30\n",
      "2000/2000 [==============================] - 0s 44us/step - loss: 0.2210 - mean_squared_error: 0.2210\n",
      "Epoch 29/30\n",
      "2000/2000 [==============================] - 0s 43us/step - loss: 0.2210 - mean_squared_error: 0.2210\n",
      "Epoch 30/30\n",
      "2000/2000 [==============================] - 0s 43us/step - loss: 0.2209 - mean_squared_error: 0.2209\n"
     ]
    }
   ],
   "source": [
    "import keras\n",
    "\n",
    "model = keras.models.Sequential()\n",
    "model.add(keras.layers.Dense(1, input_shape=(1,)))\n",
    "model.summary()\n",
    "\n",
    "model.compile(optimizer='sgd', loss='mse', metrics=['mse'])\n",
    "hist = model.fit(x, y, epochs=30, batch_size=16)"
   ]
  },
  {
   "cell_type": "code",
   "execution_count": 5,
   "metadata": {},
   "outputs": [
    {
     "data": {
      "text/plain": [
       "[array([[ 3.94742298]], dtype=float32), array([ 3.02505159], dtype=float32)]"
      ]
     },
     "execution_count": 5,
     "metadata": {},
     "output_type": "execute_result"
    }
   ],
   "source": [
    "model.get_weights()"
   ]
  },
  {
   "cell_type": "code",
   "execution_count": 6,
   "metadata": {
    "collapsed": true
   },
   "outputs": [],
   "source": [
    "p = model.predict(np.array([3]))"
   ]
  },
  {
   "cell_type": "code",
   "execution_count": 7,
   "metadata": {},
   "outputs": [
    {
     "name": "stdout",
     "output_type": "stream",
     "text": [
      "[[ 14.86732101]]\n"
     ]
    }
   ],
   "source": [
    "print(p)"
   ]
  },
  {
   "cell_type": "code",
   "execution_count": null,
   "metadata": {
    "collapsed": true
   },
   "outputs": [],
   "source": []
  }
 ],
 "metadata": {
  "kernelspec": {
   "display_name": "Python 3",
   "language": "python",
   "name": "python3"
  },
  "language_info": {
   "codemirror_mode": {
    "name": "ipython",
    "version": 3
   },
   "file_extension": ".py",
   "mimetype": "text/x-python",
   "name": "python",
   "nbconvert_exporter": "python",
   "pygments_lexer": "ipython3",
   "version": "3.6.4"
  }
 },
 "nbformat": 4,
 "nbformat_minor": 2
}
