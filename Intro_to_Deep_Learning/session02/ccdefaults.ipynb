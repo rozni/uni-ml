{
 "cells": [
  {
   "cell_type": "code",
   "execution_count": 22,
   "metadata": {},
   "outputs": [],
   "source": [
    "import numpy as np\n",
    "import keras"
   ]
  },
  {
   "cell_type": "code",
   "execution_count": 23,
   "metadata": {
    "collapsed": true
   },
   "outputs": [],
   "source": [
    "data = np.loadtxt(\"ccdefaults.csv\", delimiter=';')\n",
    "np.random.shuffle(data)"
   ]
  },
  {
   "cell_type": "code",
   "execution_count": 24,
   "metadata": {},
   "outputs": [
    {
     "name": "stdout",
     "output_type": "stream",
     "text": [
      "(30000, 25)\n"
     ]
    }
   ],
   "source": [
    "print(data.shape)"
   ]
  },
  {
   "cell_type": "code",
   "execution_count": 25,
   "metadata": {
    "collapsed": true
   },
   "outputs": [],
   "source": [
    "n_training = 28000\n",
    "\n",
    "x_train = data[:n_training,0:24]\n",
    "y_train = data[:n_training,24]\n",
    "\n",
    "x_val = data[n_training:,0:24]\n",
    "y_val = data[n_training:,24]\n",
    "\n",
    "mean = np.mean(x_train, axis=0)\n",
    "std = np.std(x_train, axis=0)\n",
    "\n",
    "x_train -= mean\n",
    "x_train /= std\n",
    "\n",
    "x_val -= mean\n",
    "x_val /= std"
   ]
  },
  {
   "cell_type": "code",
   "execution_count": 26,
   "metadata": {
    "collapsed": true
   },
   "outputs": [],
   "source": [
    "model = keras.models.Sequential()\n",
    "model.add(keras.layers.Dense(1, input_shape=(24,), activation='sigmoid'))\n",
    "\n",
    "model.compile(loss='binary_crossentropy', optimizer='sgd', metrics=['acc'])"
   ]
  },
  {
   "cell_type": "code",
   "execution_count": 27,
   "metadata": {},
   "outputs": [
    {
     "name": "stdout",
     "output_type": "stream",
     "text": [
      "Train on 28000 samples, validate on 2000 samples\n",
      "Epoch 1/20\n",
      "28000/28000 [==============================] - 0s 17us/step - loss: 0.6520 - acc: 0.6643 - val_loss: 0.5392 - val_acc: 0.7730\n",
      "Epoch 2/20\n",
      "28000/28000 [==============================] - 0s 11us/step - loss: 0.5008 - acc: 0.7996 - val_loss: 0.5016 - val_acc: 0.7930\n",
      "Epoch 3/20\n",
      "28000/28000 [==============================] - 0s 12us/step - loss: 0.4778 - acc: 0.8050 - val_loss: 0.4931 - val_acc: 0.7895\n",
      "Epoch 4/20\n",
      "28000/28000 [==============================] - 0s 12us/step - loss: 0.4708 - acc: 0.8047 - val_loss: 0.4906 - val_acc: 0.7910\n",
      "Epoch 5/20\n",
      "28000/28000 [==============================] - 0s 11us/step - loss: 0.4679 - acc: 0.8071 - val_loss: 0.4892 - val_acc: 0.7905\n",
      "Epoch 6/20\n",
      "28000/28000 [==============================] - 0s 12us/step - loss: 0.4665 - acc: 0.8083 - val_loss: 0.4887 - val_acc: 0.7910\n",
      "Epoch 7/20\n",
      "28000/28000 [==============================] - 0s 13us/step - loss: 0.4657 - acc: 0.8089 - val_loss: 0.4881 - val_acc: 0.7930\n",
      "Epoch 8/20\n",
      "28000/28000 [==============================] - 0s 12us/step - loss: 0.4652 - acc: 0.8095 - val_loss: 0.4880 - val_acc: 0.7935\n",
      "Epoch 9/20\n",
      "28000/28000 [==============================] - 0s 11us/step - loss: 0.4649 - acc: 0.8098 - val_loss: 0.4878 - val_acc: 0.7915\n",
      "Epoch 10/20\n",
      "28000/28000 [==============================] - 0s 11us/step - loss: 0.4646 - acc: 0.8108 - val_loss: 0.4878 - val_acc: 0.7940\n",
      "Epoch 11/20\n",
      "28000/28000 [==============================] - 0s 11us/step - loss: 0.4644 - acc: 0.8116 - val_loss: 0.4873 - val_acc: 0.7920\n",
      "Epoch 12/20\n",
      "28000/28000 [==============================] - 0s 11us/step - loss: 0.4644 - acc: 0.8119 - val_loss: 0.4872 - val_acc: 0.7900\n",
      "Epoch 13/20\n",
      "28000/28000 [==============================] - 0s 11us/step - loss: 0.4643 - acc: 0.8114 - val_loss: 0.4872 - val_acc: 0.7940\n",
      "Epoch 14/20\n",
      "28000/28000 [==============================] - 0s 11us/step - loss: 0.4642 - acc: 0.8112 - val_loss: 0.4873 - val_acc: 0.7935\n",
      "Epoch 15/20\n",
      "28000/28000 [==============================] - 0s 11us/step - loss: 0.4641 - acc: 0.8125 - val_loss: 0.4869 - val_acc: 0.7915\n",
      "Epoch 16/20\n",
      "28000/28000 [==============================] - 0s 11us/step - loss: 0.4641 - acc: 0.8125 - val_loss: 0.4871 - val_acc: 0.7930\n",
      "Epoch 17/20\n",
      "28000/28000 [==============================] - 0s 11us/step - loss: 0.4640 - acc: 0.8121 - val_loss: 0.4869 - val_acc: 0.7930\n",
      "Epoch 18/20\n",
      "28000/28000 [==============================] - 0s 12us/step - loss: 0.4640 - acc: 0.8121 - val_loss: 0.4873 - val_acc: 0.7925\n",
      "Epoch 19/20\n",
      "28000/28000 [==============================] - 0s 11us/step - loss: 0.4640 - acc: 0.8118 - val_loss: 0.4871 - val_acc: 0.7930\n",
      "Epoch 20/20\n",
      "28000/28000 [==============================] - 0s 11us/step - loss: 0.4639 - acc: 0.8121 - val_loss: 0.4869 - val_acc: 0.7935\n"
     ]
    },
    {
     "data": {
      "image/png": "[encoded data removed]",
      "text/plain": [
       "<matplotlib.figure.Figure at 0x7fd228f21da0>"
      ]
     },
     "metadata": {},
     "output_type": "display_data"
    },
    {
     "data": {
      "image/png": "[encoded data removed]",
      "text/plain": [
       "<matplotlib.figure.Figure at 0x7fd228bc9390>"
      ]
     },
     "metadata": {},
     "output_type": "display_data"
    }
   ],
   "source": [
    "hist = model.fit(x_train, y_train, epochs=20, batch_size=64, validation_data=(x_val, y_val))\n",
    "\n",
    "acc = hist.history['acc']\n",
    "val_acc = hist.history['val_acc']\n",
    "loss = hist.history['loss']\n",
    "val_loss = hist.history['val_loss']\n",
    "epochs = range(1, len(acc) + 1)\n",
    "\n",
    "import matplotlib.pyplot as plt\n",
    "\n",
    "plt.plot(epochs, acc, 'bo', label='Training acc')\n",
    "plt.plot(epochs, val_acc, 'b', label='Validation acc')\n",
    "plt.title('Training and validation accuracy')\n",
    "plt.legend()\n",
    "\n",
    "plt.figure()\n",
    "plt.plot(epochs, loss, 'bo', label='Training loss')\n",
    "plt.plot(epochs, val_loss, 'b', label='Validation loss')\n",
    "plt.title('Training and validation loss')\n",
    "plt.legend()\n",
    "\n",
    "plt.show()"
   ]
  },
  {
   "cell_type": "code",
   "execution_count": 28,
   "metadata": {},
   "outputs": [
    {
     "name": "stdout",
     "output_type": "stream",
     "text": [
      "[[0.16613032]]\n"
     ]
    }
   ],
   "source": [
    "print(model.predict(x_val[3].reshape(-1,24)))"
   ]
  },
  {
   "cell_type": "code",
   "execution_count": null,
   "metadata": {
    "collapsed": true
   },
   "outputs": [],
   "source": []
  }
 ],
 "metadata": {
  "kernelspec": {
   "display_name": "Python 3",
   "language": "python",
   "name": "python3"
  },
  "language_info": {
   "codemirror_mode": {
    "name": "ipython",
    "version": 3
   },
   "file_extension": ".py",
   "mimetype": "text/x-python",
   "name": "python",
   "nbconvert_exporter": "python",
   "pygments_lexer": "ipython3",
   "version": "3.6.4"
  }
 },
 "nbformat": 4,
 "nbformat_minor": 2
}
