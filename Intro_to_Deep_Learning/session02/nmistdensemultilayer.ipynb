{
 "cells": [
  {
   "cell_type": "markdown",
   "metadata": {},
   "source": [
    "The code here is unchanged except for the number of epochs for learning (not to overfit...)"
   ]
  },
  {
   "cell_type": "code",
   "execution_count": 1,
   "metadata": {},
   "outputs": [
    {
     "name": "stderr",
     "output_type": "stream",
     "text": [
      "/usr/lib/python3.6/site-packages/h5py/__init__.py:36: FutureWarning: Conversion of the second argument of issubdtype from `float` to `np.floating` is deprecated. In future, it will be treated as `np.float64 == np.dtype(float).type`.\n",
      "  from ._conv import register_converters as _register_converters\n",
      "Using TensorFlow backend.\n"
     ]
    },
    {
     "name": "stdout",
     "output_type": "stream",
     "text": [
      "/home/martin/Uni/Intro_to_Deep_Learning/session02\n",
      "2.1.2\n",
      "1.4.1\n"
     ]
    }
   ],
   "source": [
    "import numpy as np\n",
    "import keras\n",
    "import matplotlib.pyplot as plt\n",
    "import tensorflow as tf\n",
    "\n",
    "print(keras.__version__)\n",
    "print(tf.__version__)"
   ]
  },
  {
   "cell_type": "code",
   "execution_count": 2,
   "metadata": {},
   "outputs": [
    {
     "data": {
      "image/png": "[encoded data removed]",
      "text/plain": [
       "<matplotlib.figure.Figure at 0x7fe17fe72da0>"
      ]
     },
     "metadata": {},
     "output_type": "display_data"
    },
    {
     "data": {
      "image/png": "[encoded data removed]",
      "text/plain": [
       "<matplotlib.figure.Figure at 0x7fe17c9e7908>"
      ]
     },
     "metadata": {},
     "output_type": "display_data"
    }
   ],
   "source": [
    "from keras.datasets import mnist\n",
    "\n",
    "from keras.preprocessing.image import load_img\n",
    "from keras.preprocessing import image\n",
    "from scipy import misc\n",
    "\n",
    "#mimg = load_img('my_numbers/0s/0-02.bmp', target_size=(28,28), grayscale=True)\n",
    "#mimg = image.img_to_array(mimg)\n",
    "#mimg = 1-mimg.reshape((28, 28)).astype('float32') / 255.0\n",
    "#print(type(mimg), mimg.shape)\n",
    "#plt.imshow(mimg, cmap=plt.cm.binary)\n",
    "#plt.show()\n",
    "\n",
    "(x_train, y_train), (x_test, y_test) = mnist.load_data()\n",
    "\n",
    "#print(\"shapes are:\", x_train.shape, y_train.shape)\n",
    "\n",
    "img1 = x_train[314].reshape(-1, 28*28).astype('float32') / 255.0\n",
    "img1label = y_train[314]\n",
    "\n",
    "\"\"\"\n",
    "img=x_train[3]\n",
    "for r in img:\n",
    "    for c in r:\n",
    "        if c:\n",
    "            print('()', end='', sep='')\n",
    "        else:\n",
    "            print('  ', end='', sep='')\n",
    "    print()\n",
    "print(y_train[3])\"\"\"\n",
    "\n",
    "img = x_train[3]\n",
    "plt.imshow(img, cmap=plt.cm.binary)\n",
    "plt.show()\n",
    "\n",
    "plt.imshow(img1.reshape(28,28), cmap=plt.cm.gray)\n",
    "plt.show()\n",
    "\n",
    "\n",
    "x_train = x_train.reshape(-1, 28 * 28).astype('float32') / 255.0\n",
    "x_test = x_test.reshape(-1, 28 * 28).astype('float32') / 255.0\n",
    "\n",
    "y_train = keras.utils.to_categorical(y_train)\n",
    "y_test = keras.utils.to_categorical(y_test)"
   ]
  },
  {
   "cell_type": "code",
   "execution_count": 3,
   "metadata": {},
   "outputs": [
    {
     "name": "stdout",
     "output_type": "stream",
     "text": [
      "_________________________________________________________________\n",
      "Layer (type)                 Output Shape              Param #   \n",
      "=================================================================\n",
      "dense_1 (Dense)              (None, 100)               78500     \n",
      "_________________________________________________________________\n",
      "dense_2 (Dense)              (None, 50)                5050      \n",
      "_________________________________________________________________\n",
      "dense_3 (Dense)              (None, 50)                2550      \n",
      "_________________________________________________________________\n",
      "dense_4 (Dense)              (None, 25)                1275      \n",
      "_________________________________________________________________\n",
      "dense_5 (Dense)              (None, 25)                650       \n",
      "_________________________________________________________________\n",
      "dense_6 (Dense)              (None, 10)                260       \n",
      "=================================================================\n",
      "Total params: 88,285\n",
      "Trainable params: 88,285\n",
      "Non-trainable params: 0\n",
      "_________________________________________________________________\n"
     ]
    }
   ],
   "source": [
    "model = keras.models.Sequential()\n",
    "model.add(keras.layers.Dense(100, input_shape=(28 * 28,), activation='relu'))\n",
    "model.add(keras.layers.Dense(50, activation='relu'))\n",
    "model.add(keras.layers.Dense(50, activation='relu'))\n",
    "model.add(keras.layers.Dense(25, activation='relu'))\n",
    "model.add(keras.layers.Dense(25, activation='relu'))\n",
    "model.add(keras.layers.Dense(10, activation='softmax'))\n",
    "\n",
    "model.summary()"
   ]
  },
  {
   "cell_type": "code",
   "execution_count": 4,
   "metadata": {},
   "outputs": [
    {
     "name": "stdout",
     "output_type": "stream",
     "text": [
      "Train on 60000 samples, validate on 10000 samples\n",
      "Epoch 1/60\n",
      "60000/60000 [==============================] - 2s 40us/step - loss: 1.4987 - acc: 0.5015 - val_loss: 0.5783 - val_acc: 0.8126\n",
      "Epoch 2/60\n",
      "60000/60000 [==============================] - 2s 37us/step - loss: 0.4396 - acc: 0.8682 - val_loss: 0.3392 - val_acc: 0.8974\n",
      "Epoch 3/60\n",
      "60000/60000 [==============================] - 2s 36us/step - loss: 0.3009 - acc: 0.9121 - val_loss: 0.2606 - val_acc: 0.9244\n",
      "Epoch 4/60\n",
      "60000/60000 [==============================] - 2s 39us/step - loss: 0.2407 - acc: 0.9296 - val_loss: 0.2360 - val_acc: 0.9305\n",
      "Epoch 5/60\n",
      "60000/60000 [==============================] - 2s 38us/step - loss: 0.2033 - acc: 0.9405 - val_loss: 0.1926 - val_acc: 0.9432\n",
      "Epoch 6/60\n",
      "60000/60000 [==============================] - 2s 38us/step - loss: 0.1771 - acc: 0.9479 - val_loss: 0.1745 - val_acc: 0.9489\n",
      "Epoch 7/60\n",
      "60000/60000 [==============================] - 2s 36us/step - loss: 0.1566 - acc: 0.9543 - val_loss: 0.1662 - val_acc: 0.9519\n",
      "Epoch 8/60\n",
      "60000/60000 [==============================] - 2s 36us/step - loss: 0.1411 - acc: 0.9589 - val_loss: 0.1570 - val_acc: 0.9520\n",
      "Epoch 9/60\n",
      "60000/60000 [==============================] - 2s 36us/step - loss: 0.1292 - acc: 0.9626 - val_loss: 0.1369 - val_acc: 0.9598\n",
      "Epoch 10/60\n",
      "60000/60000 [==============================] - 2s 36us/step - loss: 0.1187 - acc: 0.9654 - val_loss: 0.1409 - val_acc: 0.9593\n",
      "Epoch 11/60\n",
      "60000/60000 [==============================] - 2s 36us/step - loss: 0.1097 - acc: 0.9682 - val_loss: 0.1436 - val_acc: 0.9571\n",
      "Epoch 12/60\n",
      "60000/60000 [==============================] - 2s 37us/step - loss: 0.1012 - acc: 0.9707 - val_loss: 0.1252 - val_acc: 0.9637\n",
      "Epoch 13/60\n",
      "60000/60000 [==============================] - 2s 36us/step - loss: 0.0951 - acc: 0.9726 - val_loss: 0.1199 - val_acc: 0.9665\n",
      "Epoch 14/60\n",
      "60000/60000 [==============================] - 2s 36us/step - loss: 0.0879 - acc: 0.9743 - val_loss: 0.1210 - val_acc: 0.9649\n",
      "Epoch 15/60\n",
      "60000/60000 [==============================] - 2s 37us/step - loss: 0.0830 - acc: 0.9760 - val_loss: 0.1208 - val_acc: 0.9644\n",
      "Epoch 16/60\n",
      "60000/60000 [==============================] - 2s 36us/step - loss: 0.0775 - acc: 0.9779 - val_loss: 0.1333 - val_acc: 0.9610\n",
      "Epoch 17/60\n",
      "60000/60000 [==============================] - 2s 37us/step - loss: 0.0730 - acc: 0.9788 - val_loss: 0.1103 - val_acc: 0.9694\n",
      "Epoch 18/60\n",
      "60000/60000 [==============================] - 2s 36us/step - loss: 0.0686 - acc: 0.9800 - val_loss: 0.1275 - val_acc: 0.9626\n",
      "Epoch 19/60\n",
      "60000/60000 [==============================] - 2s 37us/step - loss: 0.0646 - acc: 0.9813 - val_loss: 0.1249 - val_acc: 0.9643\n",
      "Epoch 20/60\n",
      "60000/60000 [==============================] - 2s 36us/step - loss: 0.0601 - acc: 0.9825 - val_loss: 0.1109 - val_acc: 0.9692\n",
      "Epoch 21/60\n",
      "60000/60000 [==============================] - 2s 37us/step - loss: 0.0572 - acc: 0.9834 - val_loss: 0.1046 - val_acc: 0.9727\n",
      "Epoch 22/60\n",
      "60000/60000 [==============================] - 2s 39us/step - loss: 0.0536 - acc: 0.9844 - val_loss: 0.1134 - val_acc: 0.9689\n",
      "Epoch 23/60\n",
      "60000/60000 [==============================] - 2s 37us/step - loss: 0.0507 - acc: 0.9855 - val_loss: 0.0995 - val_acc: 0.9736\n",
      "Epoch 24/60\n",
      "60000/60000 [==============================] - 2s 37us/step - loss: 0.0466 - acc: 0.9866 - val_loss: 0.1083 - val_acc: 0.9708\n",
      "Epoch 25/60\n",
      "60000/60000 [==============================] - 2s 37us/step - loss: 0.0442 - acc: 0.9873 - val_loss: 0.1043 - val_acc: 0.9723\n",
      "Epoch 26/60\n",
      "60000/60000 [==============================] - 2s 37us/step - loss: 0.0421 - acc: 0.9876 - val_loss: 0.1162 - val_acc: 0.9696\n",
      "Epoch 27/60\n",
      "60000/60000 [==============================] - 2s 38us/step - loss: 0.0387 - acc: 0.9892 - val_loss: 0.1033 - val_acc: 0.9734\n",
      "Epoch 28/60\n",
      "60000/60000 [==============================] - 2s 37us/step - loss: 0.0360 - acc: 0.9901 - val_loss: 0.1151 - val_acc: 0.9691\n",
      "Epoch 29/60\n",
      "60000/60000 [==============================] - 2s 38us/step - loss: 0.0347 - acc: 0.9903 - val_loss: 0.1098 - val_acc: 0.9709\n",
      "Epoch 30/60\n",
      "60000/60000 [==============================] - 2s 37us/step - loss: 0.0324 - acc: 0.9908 - val_loss: 0.1117 - val_acc: 0.9712\n",
      "Epoch 31/60\n",
      "60000/60000 [==============================] - 2s 36us/step - loss: 0.0300 - acc: 0.9915 - val_loss: 0.1053 - val_acc: 0.9732\n",
      "Epoch 32/60\n",
      "60000/60000 [==============================] - 2s 36us/step - loss: 0.0274 - acc: 0.9925 - val_loss: 0.1204 - val_acc: 0.9694\n",
      "Epoch 33/60\n",
      "60000/60000 [==============================] - 2s 37us/step - loss: 0.0249 - acc: 0.9934 - val_loss: 0.1084 - val_acc: 0.9731\n",
      "Epoch 34/60\n",
      "60000/60000 [==============================] - 2s 38us/step - loss: 0.0237 - acc: 0.9938 - val_loss: 0.1134 - val_acc: 0.9711\n",
      "Epoch 35/60\n",
      "60000/60000 [==============================] - 2s 38us/step - loss: 0.0215 - acc: 0.9947 - val_loss: 0.1130 - val_acc: 0.9721\n",
      "Epoch 36/60\n",
      "60000/60000 [==============================] - 2s 37us/step - loss: 0.0208 - acc: 0.9945 - val_loss: 0.1263 - val_acc: 0.9695\n",
      "Epoch 37/60\n",
      "60000/60000 [==============================] - 2s 39us/step - loss: 0.0189 - acc: 0.9950 - val_loss: 0.1113 - val_acc: 0.9725\n",
      "Epoch 38/60\n",
      "60000/60000 [==============================] - 2s 37us/step - loss: 0.0178 - acc: 0.9957 - val_loss: 0.1158 - val_acc: 0.9722\n",
      "Epoch 39/60\n",
      "60000/60000 [==============================] - 2s 36us/step - loss: 0.0160 - acc: 0.9962 - val_loss: 0.1341 - val_acc: 0.9673\n",
      "Epoch 40/60\n",
      "60000/60000 [==============================] - 2s 36us/step - loss: 0.0146 - acc: 0.9967 - val_loss: 0.1183 - val_acc: 0.9719\n",
      "Epoch 41/60\n",
      "60000/60000 [==============================] - 2s 36us/step - loss: 0.0136 - acc: 0.9971 - val_loss: 0.1309 - val_acc: 0.9691\n",
      "Epoch 42/60\n",
      "60000/60000 [==============================] - 2s 36us/step - loss: 0.0126 - acc: 0.9971 - val_loss: 0.2151 - val_acc: 0.9525\n",
      "Epoch 43/60\n",
      "60000/60000 [==============================] - 2s 37us/step - loss: 0.0116 - acc: 0.9973 - val_loss: 0.1309 - val_acc: 0.9694\n",
      "Epoch 44/60\n",
      "60000/60000 [==============================] - 2s 38us/step - loss: 0.0100 - acc: 0.9980 - val_loss: 0.1443 - val_acc: 0.9674\n",
      "Epoch 45/60\n",
      "60000/60000 [==============================] - 2s 39us/step - loss: 0.0094 - acc: 0.9981 - val_loss: 0.1240 - val_acc: 0.9723\n",
      "Epoch 46/60\n",
      "60000/60000 [==============================] - 2s 37us/step - loss: 0.0084 - acc: 0.9984 - val_loss: 0.1217 - val_acc: 0.9724\n",
      "Epoch 47/60\n",
      "60000/60000 [==============================] - 2s 37us/step - loss: 0.0078 - acc: 0.9986 - val_loss: 0.1299 - val_acc: 0.9711\n",
      "Epoch 48/60\n",
      "60000/60000 [==============================] - 2s 38us/step - loss: 0.0071 - acc: 0.9988 - val_loss: 0.1297 - val_acc: 0.9712\n",
      "Epoch 49/60\n",
      "60000/60000 [==============================] - 2s 38us/step - loss: 0.0067 - acc: 0.9987 - val_loss: 0.1320 - val_acc: 0.9723\n",
      "Epoch 50/60\n",
      "60000/60000 [==============================] - 2s 37us/step - loss: 0.0059 - acc: 0.9990 - val_loss: 0.1304 - val_acc: 0.9713\n",
      "Epoch 51/60\n",
      "60000/60000 [==============================] - 2s 36us/step - loss: 0.0056 - acc: 0.9992 - val_loss: 0.1301 - val_acc: 0.9735\n",
      "Epoch 52/60\n",
      "60000/60000 [==============================] - 2s 37us/step - loss: 0.0047 - acc: 0.9993 - val_loss: 0.1293 - val_acc: 0.9733\n",
      "Epoch 53/60\n",
      "60000/60000 [==============================] - 2s 37us/step - loss: 0.0041 - acc: 0.9996 - val_loss: 0.1365 - val_acc: 0.9725\n",
      "Epoch 54/60\n",
      "60000/60000 [==============================] - 2s 37us/step - loss: 0.0034 - acc: 0.9997 - val_loss: 0.1323 - val_acc: 0.9729\n",
      "Epoch 55/60\n",
      "60000/60000 [==============================] - 2s 37us/step - loss: 0.0029 - acc: 0.9998 - val_loss: 0.1351 - val_acc: 0.9722\n",
      "Epoch 56/60\n",
      "60000/60000 [==============================] - 2s 38us/step - loss: 0.0027 - acc: 0.9998 - val_loss: 0.1342 - val_acc: 0.9726\n",
      "Epoch 57/60\n",
      "60000/60000 [==============================] - 2s 37us/step - loss: 0.0026 - acc: 0.9998 - val_loss: 0.1352 - val_acc: 0.9719\n",
      "Epoch 58/60\n",
      "60000/60000 [==============================] - 2s 37us/step - loss: 0.0022 - acc: 0.9999 - val_loss: 0.1348 - val_acc: 0.9725\n",
      "Epoch 59/60\n",
      "60000/60000 [==============================] - 2s 38us/step - loss: 0.0020 - acc: 1.0000 - val_loss: 0.1382 - val_acc: 0.9725\n",
      "Epoch 60/60\n"
     ]
    },
    {
     "name": "stdout",
     "output_type": "stream",
     "text": [
      "60000/60000 [==============================] - 2s 36us/step - loss: 0.0019 - acc: 0.9999 - val_loss: 0.1402 - val_acc: 0.9718\n"
     ]
    }
   ],
   "source": [
    "model.compile(optimizer='sgd', loss='categorical_crossentropy', metrics=['acc'])\n",
    "\n",
    "hist = model.fit(x_train, y_train, epochs=60, batch_size=64, validation_data=(x_test,y_test))"
   ]
  },
  {
   "cell_type": "code",
   "execution_count": 5,
   "metadata": {},
   "outputs": [
    {
     "name": "stdout",
     "output_type": "stream",
     "text": [
      "(1, 784)\n",
      "1\n",
      "5\n"
     ]
    }
   ],
   "source": [
    "acc = hist.history['acc']\n",
    "val_acc = hist.history['val_acc']\n",
    "loss = hist.history['loss']\n",
    "val_loss = hist.history['val_loss']\n",
    "epochs = range(1, len(acc) + 1)\n",
    "\n",
    "import matplotlib.pyplot as plt\n",
    "\n",
    "plt.plot(epochs, acc, 'bo', label='Training acc')\n",
    "plt.plot(epochs, val_acc, 'b', label='Validation acc')\n",
    "plt.title('Training and validation accuracy')\n",
    "plt.legend()\n",
    "\n",
    "plt.figure()\n",
    "plt.plot(epochs, loss, 'bo', label='Training loss')\n",
    "plt.plot(epochs, val_loss, 'b', label='Validation loss')\n",
    "plt.title('Training and validation loss')\n",
    "plt.legend()\n",
    "\n",
    "#plt.show()\n",
    "\n",
    "mimg = load_img('/home/martin/fasdfas.png', target_size=(28,28), grayscale=True)\n",
    "mimg = image.img_to_array(mimg)\n",
    "mimg = 1-mimg.reshape((28, 28)).astype('float32') / 255.0\n",
    "\n",
    "mimg = mimg.reshape((1, 784))\n",
    "print(mimg.shape)\n",
    "pred=model.predict(mimg)\n",
    "print(np.argmax(pred))\n",
    "print(np.argmax(y_train[0]))\n",
    "\n"
   ]
  },
  {
   "cell_type": "code",
   "execution_count": 6,
   "metadata": {},
   "outputs": [
    {
     "ename": "ValueError",
     "evalue": "invalid literal for int() with base 10: 'f'",
     "output_type": "error",
     "traceback": [
      "\u001b[0;31m---------------------------------------------------------------------------\u001b[0m",
      "\u001b[0;31mValueError\u001b[0m                                Traceback (most recent call last)",
      "\u001b[0;32m<ipython-input-6-8ed4dc1282ff>\u001b[0m in \u001b[0;36m<module>\u001b[0;34m()\u001b[0m\n\u001b[1;32m     14\u001b[0m     \u001b[0mimg_list\u001b[0m\u001b[0;34m.\u001b[0m\u001b[0mappend\u001b[0m\u001b[0;34m(\u001b[0m\u001b[0mimg\u001b[0m\u001b[0;34m.\u001b[0m\u001b[0mreshape\u001b[0m\u001b[0;34m(\u001b[0m\u001b[0mIMG_SIZE\u001b[0m\u001b[0;34m)\u001b[0m\u001b[0;34m)\u001b[0m\u001b[0;34m\u001b[0m\u001b[0m\n\u001b[1;32m     15\u001b[0m     \u001b[0;31m# note what number it is\u001b[0m\u001b[0;34m\u001b[0m\u001b[0;34m\u001b[0m\u001b[0m\n\u001b[0;32m---> 16\u001b[0;31m     \u001b[0manswers\u001b[0m\u001b[0;34m.\u001b[0m\u001b[0mappend\u001b[0m\u001b[0;34m(\u001b[0m\u001b[0mint\u001b[0m\u001b[0;34m(\u001b[0m\u001b[0mfile\u001b[0m\u001b[0;34m[\u001b[0m\u001b[0;36m0\u001b[0m\u001b[0;34m]\u001b[0m\u001b[0;34m)\u001b[0m\u001b[0;34m)\u001b[0m\u001b[0;34m\u001b[0m\u001b[0m\n\u001b[0m\u001b[1;32m     17\u001b[0m \u001b[0;34m\u001b[0m\u001b[0m\n\u001b[1;32m     18\u001b[0m \u001b[0mdata\u001b[0m \u001b[0;34m=\u001b[0m \u001b[0mnp\u001b[0m\u001b[0;34m.\u001b[0m\u001b[0marray\u001b[0m\u001b[0;34m(\u001b[0m\u001b[0mimg_list\u001b[0m\u001b[0;34m)\u001b[0m\u001b[0;34m\u001b[0m\u001b[0m\n",
      "\u001b[0;31mValueError\u001b[0m: invalid literal for int() with base 10: 'f'"
     ]
    }
   ],
   "source": [
    "from glob import glob\n",
    "import os\n",
    "\n",
    "\n",
    "IMG_SIZE = (28, 28)\n",
    "\n",
    "JKJ\n",
    "\n",
    "reshaped_data = 1 - data.reshape(-1, 28*28)\n",
    "\n",
    "right = 0\n",
    "counter = [0]*10\n",
    "for p in range(len(answers)):\n",
    "    ans = model.predict(reshaped_data[p].reshape((1, 784)))\n",
    "    ans = np.argmax(ans)\n",
    "    print(\"{} : {}\".format(answers[p], ans))\n",
    "    if answers[p] == ans:\n",
    "        right += 1\n",
    "    counter[ans] += 1\n",
    "        \n",
    "print(right / len(answers))\n",
    "print(counter)\n"
   ]
  },
  {
   "cell_type": "code",
   "execution_count": null,
   "metadata": {},
   "outputs": [],
   "source": [
    "n=61\n",
    "img=x_train[n].reshape(IMG_SIZE)\n",
    "for r in img:\n",
    "    for c in r:\n",
    "        if c:\n",
    "            print('{: 2.0f}'.format(c*100), end='', sep='')\n",
    "        else:\n",
    "            print('  ', end='', sep='')\n",
    "    print()\n",
    "print(np.argmax(y_train[n]))\n",
    "\n",
    "img=1-data[52]\n",
    "for r in img:\n",
    "    for c in r:\n",
    "        if c:\n",
    "            print('{: 2.0f}'.format(c*100), end='', sep='')\n",
    "        else:\n",
    "            print('  ', end='', sep='')\n",
    "    print()"
   ]
  }
 ],
 "metadata": {
  "kernelspec": {
   "display_name": "Python 3",
   "language": "python",
   "name": "python3"
  },
  "language_info": {
   "codemirror_mode": {
    "name": "ipython",
    "version": 3
   },
   "file_extension": ".py",
   "mimetype": "text/x-python",
   "name": "python",
   "nbconvert_exporter": "python",
   "pygments_lexer": "ipython3",
   "version": "3.6.4"
  }
 },
 "nbformat": 4,
 "nbformat_minor": 2
}
