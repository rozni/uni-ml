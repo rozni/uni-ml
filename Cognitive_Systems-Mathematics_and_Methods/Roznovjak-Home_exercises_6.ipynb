{
 "cells": [
  {
   "cell_type": "code",
   "execution_count": 1,
   "metadata": {},
   "outputs": [],
   "source": [
    "import numpy as np"
   ]
  },
  {
   "cell_type": "code",
   "execution_count": 2,
   "metadata": {},
   "outputs": [],
   "source": [
    "x = np.array([1.1, 4.1, 2.7, 3.9, 7.1, 1.3, 9.7, 0.7, 3.4, 6.0]).reshape(-1,1)"
   ]
  },
  {
   "cell_type": "code",
   "execution_count": 3,
   "metadata": {},
   "outputs": [],
   "source": [
    "y = np.array([0,1,0,0,1,0,1,0,1,0]).reshape(-1,1)"
   ]
  },
  {
   "cell_type": "code",
   "execution_count": 4,
   "metadata": {},
   "outputs": [],
   "source": [
    "def g(x, theta_0, theta_1):\n",
    "    return 1 / (1 + np.exp(theta_0 + theta_1*x))"
   ]
  },
  {
   "cell_type": "code",
   "execution_count": 5,
   "metadata": {},
   "outputs": [],
   "source": [
    "g = lambda x: 1 / (1 + np.exp(x))"
   ]
  },
  {
   "cell_type": "code",
   "execution_count": 6,
   "metadata": {},
   "outputs": [],
   "source": [
    "X = np.hstack((np.ones_like(x), x))"
   ]
  },
  {
   "cell_type": "code",
   "execution_count": 7,
   "metadata": {},
   "outputs": [
    {
     "data": {
      "text/plain": [
       "array([[ 3.1205982 ],\n",
       "       [-0.66024532]])"
      ]
     },
     "execution_count": 7,
     "metadata": {},
     "output_type": "execute_result"
    }
   ],
   "source": [
    "alpha = 1e-4\n",
    "M = np.random.random((2,1))\n",
    "\n",
    "# let's assume the series is convergent\n",
    "STOP_THRESHOLD = 1e-8\n",
    "M_last = 10*M\n",
    "while np.any(np.abs(M_last - M) > STOP_THRESHOLD):\n",
    "    M_last = M.copy()\n",
    "    M = M - alpha*X.T@(y - g(X@M))\n",
    "M"
   ]
  },
  {
   "cell_type": "code",
   "execution_count": 8,
   "metadata": {},
   "outputs": [],
   "source": [
    "np.set_printoptions(formatter={\n",
    "    'int':'{:4d}'.format,\n",
    "    'float':'{:.2f}'.format\n",
    "})"
   ]
  },
  {
   "cell_type": "code",
   "execution_count": 9,
   "metadata": {},
   "outputs": [
    {
     "name": "stdout",
     "output_type": "stream",
     "text": [
      "x:          [1.10 4.10 2.70 3.90 7.10 1.30 9.70 0.70 3.40 6.00]\n",
      "True:       [   0    1    0    0    1    0    1    0    1    0]\n",
      "Prediction: [0.08 0.40 0.21 0.37 0.83 0.09 0.96 0.07 0.29 0.70]\n",
      "Decision:   [   0    0    0    0    1    0    1    0    0    1]\n"
     ]
    }
   ],
   "source": [
    "pred = g(X@M).ravel()\n",
    "print('x:         ', x.ravel())\n",
    "print('True:      ', y.ravel())\n",
    "print('Prediction:', pred)\n",
    "print('Decision:  ', 1*(pred > 0.5))"
   ]
  }
 ],
 "metadata": {
  "kernelspec": {
   "display_name": "Python 3",
   "language": "python",
   "name": "python3"
  },
  "language_info": {
   "codemirror_mode": {
    "name": "ipython",
    "version": 3
   },
   "file_extension": ".py",
   "mimetype": "text/x-python",
   "name": "python",
   "nbconvert_exporter": "python",
   "pygments_lexer": "ipython3",
   "version": "3.7.2"
  }
 },
 "nbformat": 4,
 "nbformat_minor": 2
}
