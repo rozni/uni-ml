{
 "cells": [
  {
   "cell_type": "code",
   "execution_count": 1,
   "metadata": {},
   "outputs": [],
   "source": [
    "import numpy as np\n",
    "import pandas as pd"
   ]
  },
  {
   "cell_type": "code",
   "execution_count": 54,
   "metadata": {},
   "outputs": [],
   "source": [
    "types = {\n",
    "    'age':      np.float64,\n",
    "    'bp':       np.float64,\n",
    "    'sg':       'category',\n",
    "    'al':       'category',\n",
    "    'su':       'category',\n",
    "    'rbc':      'category',\n",
    "    'pc':       'category',\n",
    "    'pcc':      'category',\n",
    "    'ba':       'category',\n",
    "    'bgr':      np.float64,\n",
    "    'bu':       np.float64,\n",
    "    'sc':       np.float64,\n",
    "    'sod':      np.float64,\n",
    "    'pot':      np.float64,\n",
    "    'hemo':     np.float64,\n",
    "    'pcv':      np.float64,\n",
    "    'wbcc':     np.float64,\n",
    "    'rbcc':     np.float64,\n",
    "    'htn':      'category',\n",
    "    'dm':       'category',\n",
    "    'cad':      'category',\n",
    "    'appet':    'category',\n",
    "    'pe':       'category',\n",
    "    'ane':      'category',\n",
    "    'class':    'category',\n",
    "}"
   ]
  },
  {
   "cell_type": "code",
   "execution_count": 102,
   "metadata": {},
   "outputs": [
    {
     "name": "stderr",
     "output_type": "stream",
     "text": [
      "/usr/lib/python3.7/site-packages/ipykernel_launcher.py:5: ParserWarning: Falling back to the 'python' engine because the 'c' engine does not support regex separators (separators > 1 char and different from '\\s+' are interpreted as regex); you can avoid this warning by specifying engine='python'.\n",
      "  \"\"\"\n"
     ]
    }
   ],
   "source": [
    "df = pd.read_csv(\n",
    "    'kd.csv',\n",
    "    sep=',\\s*',\n",
    "    na_values='?',\n",
    "    dtype=types,\n",
    ")"
   ]
  },
  {
   "cell_type": "code",
   "execution_count": 103,
   "metadata": {},
   "outputs": [],
   "source": [
    "ckd = df[ df['class']=='ckd' ]\n",
    "assert len(ckd) == 250, 'different number of affected patients than claimed'"
   ]
  },
  {
   "cell_type": "markdown",
   "metadata": {},
   "source": [
    "Basic statistics about patients with CKD."
   ]
  },
  {
   "cell_type": "code",
   "execution_count": 104,
   "metadata": {},
   "outputs": [
    {
     "data": {
      "text/html": [
       "<div>\n",
       "<style scoped>\n",
       "    .dataframe tbody tr th:only-of-type {\n",
       "        vertical-align: middle;\n",
       "    }\n",
       "\n",
       "    .dataframe tbody tr th {\n",
       "        vertical-align: top;\n",
       "    }\n",
       "\n",
       "    .dataframe thead th {\n",
       "        text-align: right;\n",
       "    }\n",
       "</style>\n",
       "<table border=\"1\" class=\"dataframe\">\n",
       "  <thead>\n",
       "    <tr style=\"text-align: right;\">\n",
       "      <th></th>\n",
       "      <th>age</th>\n",
       "      <th>bp</th>\n",
       "      <th>bgr</th>\n",
       "      <th>bu</th>\n",
       "      <th>sc</th>\n",
       "      <th>sod</th>\n",
       "      <th>pot</th>\n",
       "      <th>hemo</th>\n",
       "      <th>pcv</th>\n",
       "      <th>wbcc</th>\n",
       "      <th>rbcc</th>\n",
       "    </tr>\n",
       "  </thead>\n",
       "  <tbody>\n",
       "    <tr>\n",
       "      <th>count</th>\n",
       "      <td>242.000000</td>\n",
       "      <td>240.000000</td>\n",
       "      <td>212.000000</td>\n",
       "      <td>237.000000</td>\n",
       "      <td>238.000000</td>\n",
       "      <td>168.000000</td>\n",
       "      <td>167.000000</td>\n",
       "      <td>204.000000</td>\n",
       "      <td>183.000000</td>\n",
       "      <td>151.000000</td>\n",
       "      <td>126.000000</td>\n",
       "    </tr>\n",
       "    <tr>\n",
       "      <th>mean</th>\n",
       "      <td>54.541322</td>\n",
       "      <td>79.625000</td>\n",
       "      <td>175.419811</td>\n",
       "      <td>72.389030</td>\n",
       "      <td>4.414916</td>\n",
       "      <td>133.901786</td>\n",
       "      <td>4.878443</td>\n",
       "      <td>10.647549</td>\n",
       "      <td>32.939891</td>\n",
       "      <td>9069.536424</td>\n",
       "      <td>3.945238</td>\n",
       "    </tr>\n",
       "    <tr>\n",
       "      <th>std</th>\n",
       "      <td>17.388899</td>\n",
       "      <td>15.234053</td>\n",
       "      <td>92.082223</td>\n",
       "      <td>58.587236</td>\n",
       "      <td>6.950275</td>\n",
       "      <td>12.402827</td>\n",
       "      <td>4.321550</td>\n",
       "      <td>2.185790</td>\n",
       "      <td>7.208945</td>\n",
       "      <td>3580.521254</td>\n",
       "      <td>0.865296</td>\n",
       "    </tr>\n",
       "    <tr>\n",
       "      <th>min</th>\n",
       "      <td>2.000000</td>\n",
       "      <td>50.000000</td>\n",
       "      <td>22.000000</td>\n",
       "      <td>1.500000</td>\n",
       "      <td>0.500000</td>\n",
       "      <td>4.500000</td>\n",
       "      <td>2.500000</td>\n",
       "      <td>3.100000</td>\n",
       "      <td>9.000000</td>\n",
       "      <td>2200.000000</td>\n",
       "      <td>2.100000</td>\n",
       "    </tr>\n",
       "    <tr>\n",
       "      <th>25%</th>\n",
       "      <td>47.000000</td>\n",
       "      <td>70.000000</td>\n",
       "      <td>106.750000</td>\n",
       "      <td>32.000000</td>\n",
       "      <td>1.425000</td>\n",
       "      <td>132.000000</td>\n",
       "      <td>3.850000</td>\n",
       "      <td>9.475000</td>\n",
       "      <td>28.500000</td>\n",
       "      <td>6750.000000</td>\n",
       "      <td>3.400000</td>\n",
       "    </tr>\n",
       "    <tr>\n",
       "      <th>50%</th>\n",
       "      <td>59.000000</td>\n",
       "      <td>80.000000</td>\n",
       "      <td>143.500000</td>\n",
       "      <td>53.000000</td>\n",
       "      <td>2.250000</td>\n",
       "      <td>136.000000</td>\n",
       "      <td>4.300000</td>\n",
       "      <td>10.900000</td>\n",
       "      <td>33.000000</td>\n",
       "      <td>8800.000000</td>\n",
       "      <td>3.900000</td>\n",
       "    </tr>\n",
       "    <tr>\n",
       "      <th>75%</th>\n",
       "      <td>66.000000</td>\n",
       "      <td>90.000000</td>\n",
       "      <td>219.250000</td>\n",
       "      <td>93.000000</td>\n",
       "      <td>4.550000</td>\n",
       "      <td>139.000000</td>\n",
       "      <td>4.900000</td>\n",
       "      <td>12.025000</td>\n",
       "      <td>37.000000</td>\n",
       "      <td>10600.000000</td>\n",
       "      <td>4.400000</td>\n",
       "    </tr>\n",
       "    <tr>\n",
       "      <th>max</th>\n",
       "      <td>90.000000</td>\n",
       "      <td>180.000000</td>\n",
       "      <td>490.000000</td>\n",
       "      <td>391.000000</td>\n",
       "      <td>76.000000</td>\n",
       "      <td>163.000000</td>\n",
       "      <td>47.000000</td>\n",
       "      <td>16.100000</td>\n",
       "      <td>52.000000</td>\n",
       "      <td>26400.000000</td>\n",
       "      <td>8.000000</td>\n",
       "    </tr>\n",
       "  </tbody>\n",
       "</table>\n",
       "</div>"
      ],
      "text/plain": [
       "              age          bp         bgr          bu          sc         sod  \\\n",
       "count  242.000000  240.000000  212.000000  237.000000  238.000000  168.000000   \n",
       "mean    54.541322   79.625000  175.419811   72.389030    4.414916  133.901786   \n",
       "std     17.388899   15.234053   92.082223   58.587236    6.950275   12.402827   \n",
       "min      2.000000   50.000000   22.000000    1.500000    0.500000    4.500000   \n",
       "25%     47.000000   70.000000  106.750000   32.000000    1.425000  132.000000   \n",
       "50%     59.000000   80.000000  143.500000   53.000000    2.250000  136.000000   \n",
       "75%     66.000000   90.000000  219.250000   93.000000    4.550000  139.000000   \n",
       "max     90.000000  180.000000  490.000000  391.000000   76.000000  163.000000   \n",
       "\n",
       "              pot        hemo         pcv          wbcc        rbcc  \n",
       "count  167.000000  204.000000  183.000000    151.000000  126.000000  \n",
       "mean     4.878443   10.647549   32.939891   9069.536424    3.945238  \n",
       "std      4.321550    2.185790    7.208945   3580.521254    0.865296  \n",
       "min      2.500000    3.100000    9.000000   2200.000000    2.100000  \n",
       "25%      3.850000    9.475000   28.500000   6750.000000    3.400000  \n",
       "50%      4.300000   10.900000   33.000000   8800.000000    3.900000  \n",
       "75%      4.900000   12.025000   37.000000  10600.000000    4.400000  \n",
       "max     47.000000   16.100000   52.000000  26400.000000    8.000000  "
      ]
     },
     "execution_count": 104,
     "metadata": {},
     "output_type": "execute_result"
    }
   ],
   "source": [
    "ckd.describe()"
   ]
  },
  {
   "cell_type": "markdown",
   "metadata": {},
   "source": [
    "Correlation matrix for patients with CKD."
   ]
  },
  {
   "cell_type": "code",
   "execution_count": 100,
   "metadata": {},
   "outputs": [
    {
     "data": {
      "image/png": "[encoded data removed]",
      "text/plain": [
       "<Figure size 432x288 with 2 Axes>"
      ]
     },
     "metadata": {
      "needs_background": "light"
     },
     "output_type": "display_data"
    }
   ],
   "source": [
    "import matplotlib.pyplot as plt\n",
    "\n",
    "# correlation matrix\n",
    "cm = ckd.corr()\n",
    "\n",
    "# plot correlation matrix\n",
    "labels = cm.axes[0]\n",
    "fig = plt.figure()\n",
    "ax = fig.add_subplot(111)\n",
    "cax = ax.matshow(cm, vmin=-1, vmax=1)\n",
    "fig.colorbar(cax)\n",
    "ticks = np.arange(0,11,1)\n",
    "ax.set_xticks(ticks)\n",
    "ax.set_yticks(ticks)\n",
    "ax.set_xticklabels(labels)\n",
    "ax.set_yticklabels(labels)\n",
    "plt.xticks(rotation=60)\n",
    "plt.show()"
   ]
  }
 ],
 "metadata": {
  "kernelspec": {
   "display_name": "Python 3",
   "language": "python",
   "name": "python3"
  },
  "language_info": {
   "codemirror_mode": {
    "name": "ipython",
    "version": 3
   },
   "file_extension": ".py",
   "mimetype": "text/x-python",
   "name": "python",
   "nbconvert_exporter": "python",
   "pygments_lexer": "ipython3",
   "version": "3.7.2"
  }
 },
 "nbformat": 4,
 "nbformat_minor": 2
}
