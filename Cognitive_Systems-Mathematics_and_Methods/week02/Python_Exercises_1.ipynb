{
 "cells": [
  {
   "cell_type": "markdown",
   "metadata": {},
   "source": [
    "# Exercises 1"
   ]
  },
  {
   "cell_type": "code",
   "execution_count": 1,
   "metadata": {},
   "outputs": [],
   "source": [
    "import numpy as np\n",
    "import numpy.linalg as la\n",
    "import matplotlib.pyplot as plt\n",
    "\n",
    "from IPython.core.magic import register_line_magic\n",
    "\n",
    "@register_line_magic\n",
    "def M(line):\n",
    "    \"\"\"\n",
    "    Creates a matrix (NumPy array) from input, so that:\n",
    "    spaces[ ] separate columns (values in a row),\n",
    "    semicolons[;] separate rows.\n",
    "    \n",
    "    For example, 3x3 upper triangular matrix:\n",
    "    A = %M 1 2 3; 0 1 2; 0 0 1\n",
    "    \"\"\"\n",
    "    matrix = [\n",
    "        [\n",
    "            eval(expr) # to keep number type and to enable such as '4/5+1'\n",
    "            for expr in row.split(' ')\n",
    "            if expr.strip() # skip if empty\n",
    "        ]\n",
    "        for row in line.split(';')\n",
    "        if row.strip() # skip if empty, e.g. line ends with ;\n",
    "    ]\n",
    "    return np.array(matrix)"
   ]
  },
  {
   "cell_type": "markdown",
   "metadata": {},
   "source": [
    "## 1."
   ]
  },
  {
   "cell_type": "code",
   "execution_count": 2,
   "metadata": {},
   "outputs": [
    {
     "name": "stdout",
     "output_type": "stream",
     "text": [
      "a) [[3 6]] @ [[5] [2]] = [[27]]\n"
     ]
    }
   ],
   "source": [
    "# a)\n",
    "# I will use _ to denote a row vector\n",
    "# @ denotes matrix multiplication\n",
    "v_ = %M 3 6\n",
    "u = %M 5; 2\n",
    "print(f'a) {v_} @ {u} = {v_ @ u}'.replace('\\n',''))"
   ]
  },
  {
   "cell_type": "code",
   "execution_count": 3,
   "metadata": {},
   "outputs": [
    {
     "name": "stdout",
     "output_type": "stream",
     "text": [
      "b) [[5] [2]] @ [[3 6]] = [[15 30] [ 6 12]]\n"
     ]
    }
   ],
   "source": [
    "# b)\n",
    "print(f'b) {u} @ {v_} = {u @ v_}'.replace('\\n',''))"
   ]
  },
  {
   "cell_type": "code",
   "execution_count": 4,
   "metadata": {},
   "outputs": [
    {
     "name": "stdout",
     "output_type": "stream",
     "text": [
      "c) [[5] [2]] @ [[3] [6]] is  undefined\n"
     ]
    }
   ],
   "source": [
    "# c)\n",
    "print(f'c) {u} @ {v_.T} is  undefined'.replace('\\n',''))"
   ]
  },
  {
   "cell_type": "code",
   "execution_count": 5,
   "metadata": {},
   "outputs": [
    {
     "name": "stdout",
     "output_type": "stream",
     "text": [
      "d) [[1 2] [3 5]] @ [[4] [6]] = [[16] [42]]\n"
     ]
    }
   ],
   "source": [
    "# d)\n",
    "A = %M 1 2; 3 5\n",
    "u = %M 4; 6\n",
    "print(f'd) {A} @ {u} = {A @ u}'.replace('\\n',''))"
   ]
  },
  {
   "cell_type": "code",
   "execution_count": 6,
   "metadata": {},
   "outputs": [
    {
     "name": "stdout",
     "output_type": "stream",
     "text": [
      "e) [[4 6]] @ [[1 2] [3 5]] = [[22 38]]\n"
     ]
    }
   ],
   "source": [
    "# e)\n",
    "print(f'e) {u.T} @ {A} = {u.T @ A}'.replace('\\n',''))"
   ]
  },
  {
   "cell_type": "code",
   "execution_count": 7,
   "metadata": {},
   "outputs": [
    {
     "name": "stdout",
     "output_type": "stream",
     "text": [
      "f) [[4 6]] @ [[1 2] [3 5]] @ [[4] [6]] = [[316]]\n"
     ]
    }
   ],
   "source": [
    "# f)\n",
    "print(f'f) {u.T} @ {A} @ {u} = {u.T @ A @ u}'.replace('\\n',''))"
   ]
  },
  {
   "cell_type": "markdown",
   "metadata": {},
   "source": [
    "## 2."
   ]
  },
  {
   "cell_type": "code",
   "execution_count": 8,
   "metadata": {},
   "outputs": [],
   "source": [
    "A = %M 1 0; 0 2; 3 0\n",
    "B = %M 0 4; 0 5; 6 0"
   ]
  },
  {
   "cell_type": "code",
   "execution_count": 9,
   "metadata": {},
   "outputs": [
    {
     "name": "stdout",
     "output_type": "stream",
     "text": [
      "a) A @ B is undefined\n"
     ]
    }
   ],
   "source": [
    "# a)\n",
    "print('a) A @ B is undefined')"
   ]
  },
  {
   "cell_type": "code",
   "execution_count": 10,
   "metadata": {
    "scrolled": true
   },
   "outputs": [
    {
     "name": "stdout",
     "output_type": "stream",
     "text": [
      "b) A * B = [[ 0  0] [ 0 10] [18  0]]\n"
     ]
    }
   ],
   "source": [
    "# b)\n",
    "print(f'b) A * B = {A * B}'.replace('\\n',''))"
   ]
  },
  {
   "cell_type": "code",
   "execution_count": 11,
   "metadata": {
    "scrolled": true
   },
   "outputs": [
    {
     "name": "stdout",
     "output_type": "stream",
     "text": [
      "c) Aᵀ @ B = [[18  4] [ 0 10]]\n"
     ]
    }
   ],
   "source": [
    "# c)\n",
    "print(f'c) Aᵀ @ B = {A.T @ B}'.replace('\\n',''))"
   ]
  },
  {
   "cell_type": "code",
   "execution_count": 12,
   "metadata": {
    "scrolled": true
   },
   "outputs": [
    {
     "name": "stdout",
     "output_type": "stream",
     "text": [
      "d) A @ Bᵀ = [[ 0  0  6] [ 8 10  0] [ 0  0 18]]\n"
     ]
    }
   ],
   "source": [
    "# d)\n",
    "print(f'd) A @ Bᵀ = {A @ B.T}'.replace('\\n',''))"
   ]
  },
  {
   "cell_type": "code",
   "execution_count": 13,
   "metadata": {
    "scrolled": true
   },
   "outputs": [
    {
     "name": "stdout",
     "output_type": "stream",
     "text": [
      "e) 10*A = [[10  0] [ 0 20] [30  0]]\n"
     ]
    }
   ],
   "source": [
    "# e)\n",
    "print(f'e) 10*A = {10*A}'.replace('\\n',''))"
   ]
  },
  {
   "cell_type": "code",
   "execution_count": 14,
   "metadata": {
    "scrolled": true
   },
   "outputs": [
    {
     "name": "stdout",
     "output_type": "stream",
     "text": [
      "f) 10 + A = [[11 10] [10 12] [13 10]]\n"
     ]
    }
   ],
   "source": [
    "# f)\n",
    "print(f'f) 10 + A = {10 + A}'.replace('\\n',''))"
   ]
  },
  {
   "cell_type": "markdown",
   "metadata": {},
   "source": [
    "## 3."
   ]
  },
  {
   "cell_type": "code",
   "execution_count": 15,
   "metadata": {},
   "outputs": [
    {
     "data": {
      "image/png": "[encoded data removed]",
      "text/plain": [
       "<Figure size 432x288 with 1 Axes>"
      ]
     },
     "metadata": {
      "needs_background": "light"
     },
     "output_type": "display_data"
    }
   ],
   "source": [
    "x = np.linspace(-2, 2)\n",
    "gx = 1 / (1 + np.exp(x))\n",
    "plt.plot(x, gx);"
   ]
  },
  {
   "cell_type": "markdown",
   "metadata": {},
   "source": [
    "## 4."
   ]
  },
  {
   "cell_type": "code",
   "execution_count": 16,
   "metadata": {},
   "outputs": [
    {
     "data": {
      "image/png": "[encoded data removed]",
      "text/plain": [
       "<Figure size 432x288 with 1 Axes>"
      ]
     },
     "metadata": {
      "needs_background": "light"
     },
     "output_type": "display_data"
    }
   ],
   "source": [
    "x = np.linspace(0, 5, 1000)\n",
    "fx = (\n",
    "    ( x**3 + abs(x) + np.log(x + 1e-8) )\n",
    "    /\n",
    "    ( np.sqrt(100.0 + x) + 0.01*x*np.exp(x) )\n",
    ")\n",
    "plt.plot(x, fx);"
   ]
  },
  {
   "cell_type": "markdown",
   "metadata": {},
   "source": [
    "## 5."
   ]
  },
  {
   "cell_type": "code",
   "execution_count": 17,
   "metadata": {},
   "outputs": [
    {
     "name": "stdout",
     "output_type": "stream",
     "text": [
      "A:\n",
      "[[ 1  2  4]\n",
      " [-3  1  5]\n",
      " [ 2 -4  1]]\n",
      "\n",
      "b:\n",
      "[[12]\n",
      " [ 2]\n",
      " [-7]]\n"
     ]
    }
   ],
   "source": [
    "A = %M 1 2 4; -3 1 5; 2 -4 1\n",
    "print(f'A:\\n{A}')\n",
    "\n",
    "b = %M 12; 2; -7\n",
    "print(f'\\nb:\\n{b}')"
   ]
  },
  {
   "cell_type": "code",
   "execution_count": 18,
   "metadata": {},
   "outputs": [
    {
     "name": "stdout",
     "output_type": "stream",
     "text": [
      "x = A⁻¹ @ b = [[2.] [3.] [1.]]\n"
     ]
    }
   ],
   "source": [
    "A_inv = la.inv(A)\n",
    "x = A_inv @ b\n",
    "print(f'x = A⁻¹ @ b = {x}'.replace('\\n','')) "
   ]
  },
  {
   "cell_type": "markdown",
   "metadata": {},
   "source": [
    "## 6."
   ]
  },
  {
   "cell_type": "code",
   "execution_count": 19,
   "metadata": {},
   "outputs": [],
   "source": [
    "A = %M 2 5 -1 3 6; 1 0 0 -2 0; 4 1 -2 0 7; 0 3 5 1 -1"
   ]
  },
  {
   "cell_type": "code",
   "execution_count": 20,
   "metadata": {},
   "outputs": [
    {
     "name": "stdout",
     "output_type": "stream",
     "text": [
      "A(1,1) = 2\n",
      "A(2,4) = -2\n",
      "A(4,4) = 1\n"
     ]
    }
   ],
   "source": [
    "# a)\n",
    "print('A(1,1) =', A[0,0])\n",
    "print('A(2,4) =', A[1,3])\n",
    "print('A(4,4) =', A[3,3])"
   ]
  },
  {
   "cell_type": "code",
   "execution_count": 21,
   "metadata": {},
   "outputs": [
    {
     "name": "stdout",
     "output_type": "stream",
     "text": [
      "A(3,.) = [ 4  1 -2  0  7]\n"
     ]
    }
   ],
   "source": [
    "# b)\n",
    "print('A(3,.) =', A[2,:])"
   ]
  },
  {
   "cell_type": "code",
   "execution_count": 22,
   "metadata": {},
   "outputs": [
    {
     "name": "stdout",
     "output_type": "stream",
     "text": [
      "first three columns of A:\n",
      "[[ 2  5 -1]\n",
      " [ 1  0  0]\n",
      " [ 4  1 -2]\n",
      " [ 0  3  5]]\n"
     ]
    }
   ],
   "source": [
    "# c)\n",
    "print('first three columns of A:')\n",
    "print(A[:,:3])"
   ]
  },
  {
   "cell_type": "markdown",
   "metadata": {},
   "source": [
    "## 7."
   ]
  },
  {
   "cell_type": "code",
   "execution_count": 23,
   "metadata": {},
   "outputs": [],
   "source": [
    "A = %M 1 0; 0 2; 3 0\n",
    "B = %M 0 4; 0 5; 6 0"
   ]
  },
  {
   "cell_type": "code",
   "execution_count": 24,
   "metadata": {},
   "outputs": [
    {
     "name": "stdout",
     "output_type": "stream",
     "text": [
      "C = [A B] =\n",
      "[[1 0 0 4]\n",
      " [0 2 0 5]\n",
      " [3 0 6 0]]\n"
     ]
    }
   ],
   "source": [
    "C = np.concatenate((A,B), axis=1)\n",
    "print('C = [A B] =')\n",
    "print(C)"
   ]
  },
  {
   "cell_type": "code",
   "execution_count": 25,
   "metadata": {},
   "outputs": [
    {
     "name": "stdout",
     "output_type": "stream",
     "text": [
      "C = concatenate B under A =\n",
      "[[1 0]\n",
      " [0 2]\n",
      " [3 0]\n",
      " [0 4]\n",
      " [0 5]\n",
      " [6 0]]\n"
     ]
    }
   ],
   "source": [
    "D = np.concatenate((A,B))\n",
    "print('C = concatenate B under A =')\n",
    "print(D)"
   ]
  },
  {
   "cell_type": "code",
   "execution_count": 26,
   "metadata": {},
   "outputs": [
    {
     "name": "stdout",
     "output_type": "stream",
     "text": [
      "C reshaped to column vector:\n",
      "[[1]\n",
      " [0]\n",
      " [0]\n",
      " [4]\n",
      " [0]\n",
      " [2]\n",
      " [0]\n",
      " [5]\n",
      " [3]\n",
      " [0]\n",
      " [6]\n",
      " [0]]\n"
     ]
    }
   ],
   "source": [
    "c = C.reshape((12,1))\n",
    "print('C reshaped to column vector:')\n",
    "print(c)"
   ]
  }
 ],
 "metadata": {
  "kernelspec": {
   "display_name": "Python 3",
   "language": "python",
   "name": "python3"
  },
  "language_info": {
   "codemirror_mode": {
    "name": "ipython",
    "version": 3
   },
   "file_extension": ".py",
   "mimetype": "text/x-python",
   "name": "python",
   "nbconvert_exporter": "python",
   "pygments_lexer": "ipython3",
   "version": "3.7.2"
  }
 },
 "nbformat": 4,
 "nbformat_minor": 2
}
