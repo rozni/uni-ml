{
 "cells": [
  {
   "cell_type": "code",
   "execution_count": 54,
   "metadata": {},
   "outputs": [],
   "source": [
    "import pandas as pd"
   ]
  },
  {
   "cell_type": "code",
   "execution_count": 56,
   "metadata": {},
   "outputs": [],
   "source": [
    "data = {\n",
    "    'weight':[92,70,58,99,55,76,62,92,71,70,77,79],\n",
    "    'exercise':[6,6,6,2,8,4,6,6,5,6,4,4],\n",
    "    'cholesterol':[4.8,5.1,6.4,6.5,2.3,5.7,4.2,6.9,4.8,4.8,7.7,5.7],\n",
    "    'income':[2060,2660,2530,1740,3520,3750,2720,3130,2100,3340,2430,2700],\n",
    "    'happiness':[49,36,49,28,77,55,43,39,54,29,53,47],\n",
    "    'birthyear':[1953,1955,1939,1942,1989,1937,1979,1905,1995,1966,1938,1993],\n",
    "}\n",
    "df = pd.DataFrame(data)"
   ]
  },
  {
   "cell_type": "code",
   "execution_count": 70,
   "metadata": {},
   "outputs": [
    {
     "data": {
      "text/html": [
       "<div>\n",
       "<style scoped>\n",
       "    .dataframe tbody tr th:only-of-type {\n",
       "        vertical-align: middle;\n",
       "    }\n",
       "\n",
       "    .dataframe tbody tr th {\n",
       "        vertical-align: top;\n",
       "    }\n",
       "\n",
       "    .dataframe thead th {\n",
       "        text-align: right;\n",
       "    }\n",
       "</style>\n",
       "<table border=\"1\" class=\"dataframe\">\n",
       "  <thead>\n",
       "    <tr style=\"text-align: right;\">\n",
       "      <th></th>\n",
       "      <th>weight</th>\n",
       "      <th>exercise</th>\n",
       "      <th>cholesterol</th>\n",
       "      <th>income</th>\n",
       "      <th>happiness</th>\n",
       "      <th>birthyear</th>\n",
       "    </tr>\n",
       "  </thead>\n",
       "  <tbody>\n",
       "    <tr>\n",
       "      <th>count</th>\n",
       "      <td>12.000000</td>\n",
       "      <td>12.000000</td>\n",
       "      <td>12.000000</td>\n",
       "      <td>12.000000</td>\n",
       "      <td>12.000000</td>\n",
       "      <td>12.000000</td>\n",
       "    </tr>\n",
       "    <tr>\n",
       "      <th>mean</th>\n",
       "      <td>75.083333</td>\n",
       "      <td>5.250000</td>\n",
       "      <td>5.408333</td>\n",
       "      <td>2723.333333</td>\n",
       "      <td>46.583333</td>\n",
       "      <td>1957.583333</td>\n",
       "    </tr>\n",
       "    <tr>\n",
       "      <th>std</th>\n",
       "      <td>13.813421</td>\n",
       "      <td>1.544786</td>\n",
       "      <td>1.419000</td>\n",
       "      <td>614.807188</td>\n",
       "      <td>13.283334</td>\n",
       "      <td>27.566311</td>\n",
       "    </tr>\n",
       "    <tr>\n",
       "      <th>min</th>\n",
       "      <td>55.000000</td>\n",
       "      <td>2.000000</td>\n",
       "      <td>2.300000</td>\n",
       "      <td>1740.000000</td>\n",
       "      <td>28.000000</td>\n",
       "      <td>1905.000000</td>\n",
       "    </tr>\n",
       "    <tr>\n",
       "      <th>25%</th>\n",
       "      <td>68.000000</td>\n",
       "      <td>4.000000</td>\n",
       "      <td>4.800000</td>\n",
       "      <td>2347.500000</td>\n",
       "      <td>38.250000</td>\n",
       "      <td>1938.750000</td>\n",
       "    </tr>\n",
       "    <tr>\n",
       "      <th>50%</th>\n",
       "      <td>73.500000</td>\n",
       "      <td>6.000000</td>\n",
       "      <td>5.400000</td>\n",
       "      <td>2680.000000</td>\n",
       "      <td>48.000000</td>\n",
       "      <td>1954.000000</td>\n",
       "    </tr>\n",
       "    <tr>\n",
       "      <th>75%</th>\n",
       "      <td>82.250000</td>\n",
       "      <td>6.000000</td>\n",
       "      <td>6.425000</td>\n",
       "      <td>3182.500000</td>\n",
       "      <td>53.250000</td>\n",
       "      <td>1981.500000</td>\n",
       "    </tr>\n",
       "    <tr>\n",
       "      <th>max</th>\n",
       "      <td>99.000000</td>\n",
       "      <td>8.000000</td>\n",
       "      <td>7.700000</td>\n",
       "      <td>3750.000000</td>\n",
       "      <td>77.000000</td>\n",
       "      <td>1995.000000</td>\n",
       "    </tr>\n",
       "  </tbody>\n",
       "</table>\n",
       "</div>"
      ],
      "text/plain": [
       "          weight   exercise  cholesterol       income  happiness    birthyear\n",
       "count  12.000000  12.000000    12.000000    12.000000  12.000000    12.000000\n",
       "mean   75.083333   5.250000     5.408333  2723.333333  46.583333  1957.583333\n",
       "std    13.813421   1.544786     1.419000   614.807188  13.283334    27.566311\n",
       "min    55.000000   2.000000     2.300000  1740.000000  28.000000  1905.000000\n",
       "25%    68.000000   4.000000     4.800000  2347.500000  38.250000  1938.750000\n",
       "50%    73.500000   6.000000     5.400000  2680.000000  48.000000  1954.000000\n",
       "75%    82.250000   6.000000     6.425000  3182.500000  53.250000  1981.500000\n",
       "max    99.000000   8.000000     7.700000  3750.000000  77.000000  1995.000000"
      ]
     },
     "execution_count": 70,
     "metadata": {},
     "output_type": "execute_result"
    }
   ],
   "source": [
    "df.describe()"
   ]
  },
  {
   "cell_type": "code",
   "execution_count": 85,
   "metadata": {},
   "outputs": [
    {
     "name": "stdout",
     "output_type": "stream",
     "text": [
      "Person  1: below average income.\n",
      "Person  2: below average income.\n",
      "Person  3: below average income.\n",
      "Person  4: below average income.\n",
      "Person  5: above average income.\n",
      "Person  6: above average income.\n",
      "Person  7: below average income.\n",
      "Person  8: above average income.\n",
      "Person  9: below average income.\n",
      "Person 10: above average income.\n",
      "Person 11: below average income.\n",
      "Person 12: below average income.\n"
     ]
    }
   ],
   "source": [
    "mean_income = df.income.mean()\n",
    "for person, income in enumerate(df.income, 1):\n",
    "    # not branching for exactly average income case...\n",
    "    income_str = \"below\" if income < mean_income else \"above\"\n",
    "    print(f'Person {person:>2}: {income_str} average income.')"
   ]
  }
 ],
 "metadata": {
  "kernelspec": {
   "display_name": "Python 3",
   "language": "python",
   "name": "python3"
  },
  "language_info": {
   "codemirror_mode": {
    "name": "ipython",
    "version": 3
   },
   "file_extension": ".py",
   "mimetype": "text/x-python",
   "name": "python",
   "nbconvert_exporter": "python",
   "pygments_lexer": "ipython3",
   "version": "3.7.2"
  }
 },
 "nbformat": 4,
 "nbformat_minor": 2
}
