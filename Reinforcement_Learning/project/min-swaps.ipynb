{
 "cells": [
  {
   "cell_type": "markdown",
   "metadata": {},
   "source": [
    "generate cycles as follows:  \n",
    "input: arr, sarr = sorted(arr)  \n",
    "construct cycles by chaining transpositions of (i arr[j])  \n",
    "where:  \n",
    "    i is i-th element in arr  \n",
    "    j is the first non-used, non-stationary element arr[i]"
   ]
  },
  {
   "cell_type": "code",
   "execution_count": null,
   "metadata": {},
   "outputs": [],
   "source": [
    "def minSwaps(arr):\n",
    "    sarr = sorted(arr)\n",
    "    length = len(sarr)\n",
    "    visited = [o==s for o, s in zip(arr, sarr)]\n",
    "    \n",
    "    def find_index(value):\n",
    "        for idx, elem in enumerate()\n",
    "        \n",
    "    \n",
    "    for i in range(length):\n",
    "        \n",
    "        if visited[i]:\n",
    "            continue\n",
    "        \n",
    "        \n",
    "    "
   ]
  },
  {
   "cell_type": "code",
   "execution_count": 296,
   "metadata": {},
   "outputs": [],
   "source": [
    "import itertools as it"
   ]
  },
  {
   "cell_type": "code",
   "execution_count": 297,
   "metadata": {},
   "outputs": [],
   "source": [
    "import operator"
   ]
  },
  {
   "cell_type": "code",
   "execution_count": 184,
   "metadata": {},
   "outputs": [
    {
     "data": {
      "text/plain": [
       "{2: [1, 2, 3, 6], 3: [0, 5], 4: [4]}"
      ]
     },
     "execution_count": 184,
     "metadata": {},
     "output_type": "execute_result"
    }
   ],
   "source": [
    "ivs = list(enumerate([3,2,2,2,4,3,2]))\n",
    "\n",
    "index_getter = operator.itemgetter(0)\n",
    "value_getter = operator.itemgetter(1)\n",
    "\n",
    "sivs = sorted(ivs, key=value_getter)\n",
    "\n",
    "givs = dict((k, list(map(index_getter, g))) for k,g in it.groupby(sivs, key=value_getter))\n",
    "givs"
   ]
  },
  {
   "cell_type": "code",
   "execution_count": 72,
   "metadata": {},
   "outputs": [],
   "source": [
    "def f(val):\n",
    "    for i, v in enumerate(original_vals):\n",
    "        if v == val and available[i]: return i\n",
    "    \n",
    "def g(val):\n",
    "    i = original_vals.index(val)\n",
    "    while not available[i]:\n",
    "        i = original_vals.index(val, i+1)\n",
    "    return i\n",
    "\n",
    "def h(val):\n",
    "    i = 0\n",
    "    while not (available[i] and original_vals[i]==val): i+=1\n",
    "    return i"
   ]
  },
  {
   "cell_type": "code",
   "execution_count": 74,
   "metadata": {},
   "outputs": [
    {
     "name": "stdout",
     "output_type": "stream",
     "text": [
      "16 16 16\n",
      "791 ns ± 4.67 ns per loop (mean ± std. dev. of 7 runs, 1000000 loops each)\n",
      "338 ns ± 2.78 ns per loop (mean ± std. dev. of 7 runs, 1000000 loops each)\n",
      "1.31 µs ± 3.3 ns per loop (mean ± std. dev. of 7 runs, 1000000 loops each)\n"
     ]
    }
   ],
   "source": [
    "v = 8\n",
    "print(f(v), g(v), h(v))\n",
    "%timeit f(v)\n",
    "%timeit g(v)\n",
    "%timeit h(v)"
   ]
  },
  {
   "cell_type": "code",
   "execution_count": 581,
   "metadata": {},
   "outputs": [
    {
     "name": "stdout",
     "output_type": "stream",
     "text": [
      " 3  2  2  2  4  3  2  1  6  5  7  4  6  6  5  4  8  4  4  1  1  3  2  2  2  2  6  2  2  3  5  8  4  2  2\n",
      " 1  1  1  2  2  2  2  2  2  2  2  2  2  2  2  3  3  3  3  4  4  4  4  4  4  5  5  5  6  6  6  6  7  8  8\n",
      " 0  1  2  3  4  5  6  7  8  9 10 11 12 13 14 15 16 17 18 19 20 21 22 23 24 25 26 27 28 29 30 31 32 33 34\n"
     ]
    }
   ],
   "source": [
    "print(' '.join(map('{:2d}'.format, original_vals)))\n",
    "print(' '.join(map('{:2d}'.format, sorted_vals)))\n",
    "print(' '.join(map('{:2d}'.format, range(len(sorted_vals)))))"
   ]
  },
  {
   "cell_type": "code",
   "execution_count": 580,
   "metadata": {},
   "outputs": [],
   "source": [
    "\n",
    "original_vals = [3,2,2,2,4,3,2,1,6,5,7,4,6,6,5,4,8,4,4,1,1,3,2,2,2,2,6,2,2,3,5,8,4,2,2]\n",
    "original_idcs = list(range(len(original_vals)))\n",
    "\n",
    "sorted_vals_idcs = sorted(zip(original_vals, original_idcs))\n",
    "sorted_vals, sorted_idcs = zip(*sorted_vals_idcs)\n",
    "\n",
    "available = [original_vals[i]!=sorted_vals[i] for i in range(len(original_vals))]"
   ]
  },
  {
   "cell_type": "code",
   "execution_count": 92,
   "metadata": {},
   "outputs": [],
   "source": [
    "def min_swaps(sequence):\n",
    "    original_vals = sequence\n",
    "    length = len(original_vals)\n",
    "    sorted_vals = sorted(original_vals)\n",
    "    \n",
    "    available = [original_vals[i]!=sorted_vals[i] for i in range(length)]\n",
    "\n",
    "    def find(val):\n",
    "        i = original_vals.index(val)\n",
    "        while not available[i]:\n",
    "            i = original_vals.index(val, i+1)\n",
    "        return i\n",
    "\n",
    "    permutations = []\n",
    "    for i in range(length):\n",
    "\n",
    "        if not available[i]: continue\n",
    "\n",
    "        start_val = original_vals[i]\n",
    "        target_val = sorted_vals[i]\n",
    "\n",
    "        permutation = [i]\n",
    "\n",
    "        while start_val != target_val:\n",
    "            ni = find(target_val)\n",
    "            available[ni] = False\n",
    "            target_val = sorted_vals[ni]\n",
    "            permutation.append(ni)\n",
    "\n",
    "        available[i] = False\n",
    "        permutations.append(permutation)\n",
    "        \n",
    "    return permutations"
   ]
  },
  {
   "cell_type": "code",
   "execution_count": 93,
   "metadata": {},
   "outputs": [
    {
     "name": "stdout",
     "output_type": "stream",
     "text": [
      "29.7 µs ± 492 ns per loop (mean ± std. dev. of 7 runs, 10000 loops each)\n"
     ]
    }
   ],
   "source": [
    "%timeit min_swaps([3,2,2,2,4,3,2,1,6,5,7,4,6,6,5,4,8,4,4,1,1,3,2,2,2,2,6,2,2,3,5,8,4,2,2])"
   ]
  },
  {
   "cell_type": "code",
   "execution_count": null,
   "metadata": {},
   "outputs": [],
   "source": [
    "nai"
   ]
  },
  {
   "cell_type": "code",
   "execution_count": 182,
   "metadata": {},
   "outputs": [],
   "source": [
    "%%cython\n",
    "def min_swaps(sequence):\n",
    "    original_vals = sequence\n",
    "    length = len(original_vals)\n",
    "    sorted_vals = sorted(original_vals)\n",
    "    \n",
    "    available = [original_vals[i]!=sorted_vals[i] for i in range(length)]\n",
    "\n",
    "    #permutations = []\n",
    "    swaps = 0\n",
    "    for i in range(length):\n",
    "\n",
    "        if not available[i]: continue\n",
    "\n",
    "        start_val = original_vals[i]\n",
    "        target_val = sorted_vals[i]\n",
    "\n",
    "        #permutation = [i]\n",
    "\n",
    "        while start_val != target_val:\n",
    "            ni = original_vals.index(target_val)\n",
    "            while not available[ni]:\n",
    "                ni = original_vals.index(target_val, ni+1)\n",
    "            available[ni] = False\n",
    "            target_val = sorted_vals[ni]\n",
    "            #permutation.append(ni)\n",
    "            swaps += 1\n",
    "\n",
    "        available[i] = False\n",
    "        #permutations.append(permutation)\n",
    "        \n",
    "    return swaps #, permutations"
   ]
  },
  {
   "cell_type": "code",
   "execution_count": 157,
   "metadata": {},
   "outputs": [],
   "source": [
    "nparr = np.random.randint(0, 10**8, 10000)\n",
    "arr = list(nparr)"
   ]
  },
  {
   "cell_type": "code",
   "execution_count": 159,
   "metadata": {},
   "outputs": [
    {
     "name": "stdout",
     "output_type": "stream",
     "text": [
      "7.04 s ± 67.3 ms per loop (mean ± std. dev. of 7 runs, 1 loop each)\n"
     ]
    }
   ],
   "source": [
    "%timeit min_swaps(arr)"
   ]
  },
  {
   "cell_type": "code",
   "execution_count": 147,
   "metadata": {},
   "outputs": [
    {
     "data": {
      "text/plain": [
       "array([0, 7, 6, 6, 7, 2, 8, 8, 4, 3, 3, 8, 0, 2, 0, 3, 7, 2, 1, 8, 3, 8,\n",
       "       1, 2, 6, 1, 7, 4, 4, 4, 2, 5, 8, 4, 9, 2, 9, 2, 4, 5, 6, 4, 2, 5,\n",
       "       1, 7, 0, 3, 4, 2, 4, 1, 3, 2, 2, 7, 8, 2, 5, 2, 9, 2, 1, 0, 4, 8,\n",
       "       8, 6, 4, 6, 0, 2, 7, 6, 8, 6, 6, 4, 1, 6, 5, 5, 7, 2, 5, 9, 6, 6,\n",
       "       7, 9, 2, 8, 9, 6, 5, 8, 7, 5, 5, 7])"
      ]
     },
     "execution_count": 147,
     "metadata": {},
     "output_type": "execute_result"
    }
   ],
   "source": [
    "arr"
   ]
  },
  {
   "cell_type": "code",
   "execution_count": 275,
   "metadata": {},
   "outputs": [],
   "source": [
    "%%cython\n",
    "cpdef int min_swaps(list sequence):\n",
    "    original_vals = sequence\n",
    "    length = len(original_vals)\n",
    "    sorted_vals = sorted(original_vals)\n",
    "    \n",
    "    cdef int i, ni, start_val, target_val\n",
    "    available = [original_vals[i]!=sorted_vals[i] for i in range(length)]\n",
    "\n",
    "    #permutations = []\n",
    "    cdef int swaps = 0\n",
    "    for i in range(length):\n",
    "\n",
    "        if not available[i]: continue\n",
    "\n",
    "        start_val = original_vals[i]\n",
    "        target_val = sorted_vals[i]\n",
    "\n",
    "        #permutation = [i]\n",
    "\n",
    "        while start_val != target_val:\n",
    "            ni = original_vals.index(target_val)\n",
    "            while not available[ni]:\n",
    "                ni = original_vals.index(target_val, ni+1)\n",
    "            available[ni] = False\n",
    "            target_val = sorted_vals[ni]\n",
    "            #permutation.append(ni)\n",
    "            swaps+=1\n",
    "\n",
    "        available[i] = False\n",
    "        #permutations.append(permutation)\n",
    "        \n",
    "    return swaps#, permutations"
   ]
  },
  {
   "cell_type": "code",
   "execution_count": 276,
   "metadata": {},
   "outputs": [
    {
     "name": "stdout",
     "output_type": "stream",
     "text": [
      "7.46 s ± 46.4 ms per loop (mean ± std. dev. of 7 runs, 1 loop each)\n"
     ]
    }
   ],
   "source": [
    "%timeit min_swaps(arr)"
   ]
  },
  {
   "cell_type": "code",
   "execution_count": 270,
   "metadata": {},
   "outputs": [],
   "source": [
    "%%cython\n",
    "import numpy as np\n",
    "cimport numpy as np\n",
    "DTYPE = np.int64\n",
    "ctypedef np.int64_t DTYPE_t\n",
    "cpdef int min_swaps(np.ndarray[DTYPE_t, ndim=1] sequence):\n",
    "    cdef np.ndarray[DTYPE_t, ndim=1] original_vals = sequence\n",
    "    cdef np.ndarray[DTYPE_t, ndim=1] sorted_vals = np.sort(original_vals)\n",
    "    cdef np.ndarray[np.uint8_t, ndim=1, cast=True] available = original_vals!=sorted_vals\n",
    "\n",
    "    #permutations = []\n",
    "    cdef DTYPE_t start_val, target_val\n",
    "    cdef int i, ni, swaps = 0\n",
    "    for i in range(original_vals.shape[0]):\n",
    "\n",
    "        if not available[i]: continue\n",
    "\n",
    "        start_val = original_vals[i]\n",
    "        target_val = sorted_vals[i]\n",
    "\n",
    "        #permutation = [i]\n",
    "\n",
    "        while start_val != target_val:\n",
    "            #ni = 0\n",
    "            #while not (available[ni] and original_vals[ni]==target_val): ni+=1\n",
    "            ni = np.where((original_vals==target_val) & available)[0][0]\n",
    "            available[ni] = False\n",
    "            target_val = sorted_vals[ni]\n",
    "            #permutation.append(ni)\n",
    "            swaps += 1\n",
    "\n",
    "        available[i] = False\n",
    "        #permutations.append(permutation)\n",
    "        \n",
    "    return swaps#, permutations"
   ]
  },
  {
   "cell_type": "code",
   "execution_count": 271,
   "metadata": {},
   "outputs": [
    {
     "data": {
      "text/plain": [
       "9992"
      ]
     },
     "execution_count": 271,
     "metadata": {},
     "output_type": "execute_result"
    }
   ],
   "source": [
    " min_swaps(nparr)"
   ]
  },
  {
   "cell_type": "code",
   "execution_count": 273,
   "metadata": {},
   "outputs": [],
   "source": [
    "%%cython\n",
    "import numpy as np\n",
    "def min_swaps(sequence):\n",
    "    original_vals = sequence\n",
    "    sorted_vals = np.sort(original_vals)\n",
    "    \n",
    "    available = original_vals!=sorted_vals\n",
    "\n",
    "    #permutations = []\n",
    "    #cdef int i, ni, start_val, target_val, swaps = 0\n",
    "    swaps = 0\n",
    "    for i in range(original_vals.shape[0]):\n",
    "\n",
    "        if not available[i]: continue\n",
    "\n",
    "        start_val = original_vals[i]\n",
    "        target_val = sorted_vals[i]\n",
    "\n",
    "        #permutation = [i]\n",
    "\n",
    "        while start_val != target_val:\n",
    "            #ni = 0\n",
    "            #while not (available[ni] and original_vals[ni]==target_val): ni+=1\n",
    "            ni = np.where((original_vals==target_val) & available)[0][0]\n",
    "            available[ni] = False\n",
    "            target_val = sorted_vals[ni]\n",
    "            #permutation.append(ni)\n",
    "            swaps += 1\n",
    "\n",
    "        available[i] = False\n",
    "        #permutations.append(permutation)\n",
    "        \n",
    "    return swaps#, permutations"
   ]
  },
  {
   "cell_type": "code",
   "execution_count": 274,
   "metadata": {},
   "outputs": [
    {
     "name": "stdout",
     "output_type": "stream",
     "text": [
      "77.4 ms ± 2.03 ms per loop (mean ± std. dev. of 7 runs, 10 loops each)\n"
     ]
    }
   ],
   "source": [
    "%timeit min_swaps(nparr)"
   ]
  },
  {
   "cell_type": "code",
   "execution_count": 88,
   "metadata": {},
   "outputs": [
    {
     "name": "stdout",
     "output_type": "stream",
     "text": [
      "621 ns ± 3.49 ns per loop (mean ± std. dev. of 7 runs, 1000000 loops each)\n",
      "6.03 µs ± 65.8 ns per loop (mean ± std. dev. of 7 runs, 100000 loops each)\n",
      "4.46 µs ± 227 ns per loop (mean ± std. dev. of 7 runs, 100000 loops each)\n",
      "1.68 µs ± 30 ns per loop (mean ± std. dev. of 7 runs, 1000000 loops each)\n",
      "1.7 µs ± 20.3 ns per loop (mean ± std. dev. of 7 runs, 1000000 loops each)\n",
      "1.77 µs ± 33.5 ns per loop (mean ± std. dev. of 7 runs, 1000000 loops each)\n",
      "1.68 µs ± 6.05 ns per loop (mean ± std. dev. of 7 runs, 1000000 loops each)\n"
     ]
    }
   ],
   "source": [
    "%timeit sorted(arr)\n",
    "%timeit sorted(nparr)\n",
    "%timeit np.sort(arr)\n",
    "%timeit np.sort(nparr)\n",
    "%timeit np.sort(nparr, kind='mergesort')\n",
    "%timeit np.sort(nparr, kind='heapsort')\n",
    "%timeit np.sort(nparr, kind='stable')"
   ]
  },
  {
   "cell_type": "code",
   "execution_count": 87,
   "metadata": {},
   "outputs": [],
   "source": [
    "np.sort?"
   ]
  },
  {
   "cell_type": "code",
   "execution_count": 59,
   "metadata": {},
   "outputs": [
    {
     "data": {
      "text/plain": [
       "array([ True, False,  True,  True,  True,  True,  True])"
      ]
     },
     "execution_count": 59,
     "metadata": {},
     "output_type": "execute_result"
    }
   ],
   "source": [
    "a = r>0\n",
    "a[[1,]] = False;a"
   ]
  },
  {
   "cell_type": "code",
   "execution_count": 60,
   "metadata": {},
   "outputs": [
    {
     "data": {
      "text/plain": [
       "(array([2, 3]),)"
      ]
     },
     "execution_count": 60,
     "metadata": {},
     "output_type": "execute_result"
    }
   ],
   "source": [
    "np.where((r==2) & a)"
   ]
  },
  {
   "cell_type": "code",
   "execution_count": 58,
   "metadata": {},
   "outputs": [],
   "source": [
    "np.where?"
   ]
  },
  {
   "cell_type": "code",
   "execution_count": 15,
   "metadata": {},
   "outputs": [
    {
     "data": {
      "text/plain": [
       "(array([1]),)"
      ]
     },
     "execution_count": 15,
     "metadata": {},
     "output_type": "execute_result"
    }
   ],
   "source": [
    "np.where(a[[1,2,3]]==2)"
   ]
  },
  {
   "cell_type": "code",
   "execution_count": null,
   "metadata": {},
   "outputs": [],
   "source": []
  },
  {
   "cell_type": "code",
   "execution_count": null,
   "metadata": {},
   "outputs": [],
   "source": []
  },
  {
   "cell_type": "code",
   "execution_count": 289,
   "metadata": {},
   "outputs": [
    {
     "name": "stdout",
     "output_type": "stream",
     "text": [
      "[3, 2, 2, 2, 4, 3, 2]\n",
      "[2, 2, 2, 2, 3, 3, 4]\n",
      "[1, 0, 0, 0, 1, 0, 1]\n"
     ]
    }
   ],
   "source": [
    "ov = original_vals[:7]\n",
    "print(ov)\n",
    "sov = sorted(ov)\n",
    "print(sov)\n",
    "av = [1 if ov[i]!=sov[i] else 0 for i in range(len(ov))]\n",
    "print(av)"
   ]
  },
  {
   "cell_type": "code",
   "execution_count": 295,
   "metadata": {},
   "outputs": [
    {
     "data": {
      "text/plain": [
       "[(2, 1, 0), (2, 2, 1), (2, 3, 2), (2, 6, 3), (3, 0, 4), (3, 5, 5), (4, 4, 6)]"
      ]
     },
     "execution_count": 295,
     "metadata": {},
     "output_type": "execute_result"
    }
   ],
   "source": [
    "x = sorted(zip(ov, range(len(ov))))\n",
    "x = list((v, oi, si) for si, (v, oi) in enumerate(x))\n",
    "x"
   ]
  },
  {
   "cell_type": "code",
   "execution_count": 301,
   "metadata": {},
   "outputs": [
    {
     "data": {
      "text/plain": [
       "{2: [(6, 3)], 3: [(0, 4)], 4: [(4, 6)]}"
      ]
     },
     "execution_count": 301,
     "metadata": {},
     "output_type": "execute_result"
    }
   ],
   "source": [
    "{\n",
    "    k:[(oi, si) for _, oi, si in g if av[oi]]\n",
    "    for k,g in it.groupby(x, key=operator.itemgetter(0))\n",
    "}"
   ]
  },
  {
   "cell_type": "code",
   "execution_count": 320,
   "metadata": {},
   "outputs": [
    {
     "data": {
      "text/plain": [
       "{2: <list_iterator at 0x7f3f29c95da0>,\n",
       " 3: <list_iterator at 0x7f3f29c95160>,\n",
       " 4: <list_iterator at 0x7f3f2aa1a9e8>}"
      ]
     },
     "execution_count": 320,
     "metadata": {},
     "output_type": "execute_result"
    }
   ],
   "source": [
    "value_getter = operator.itemgetter(1)\n",
    "x = sorted(enumerate(ov), key=value_getter)\n",
    "{\n",
    "    k:iter([idx for idx, _ in g if ov[idx]!=value_getter(x[idx])])\n",
    "    for k, g in it.groupby(x, key=value_getter)\n",
    "}"
   ]
  },
  {
   "cell_type": "code",
   "execution_count": 456,
   "metadata": {},
   "outputs": [],
   "source": [
    "%%cython\n",
    "import itertools as it\n",
    "import operator\n",
    "from collections import deque\n",
    "def min_swaps(sequence):\n",
    "    original_vals = sequence\n",
    "    length = len(original_vals)\n",
    "    value_getter = operator.itemgetter(1)\n",
    "    sorted_idcs_vals = sorted(enumerate(original_vals), key=value_getter)\n",
    "    #print(f'ov: {original_vals}\\nsiv: {sorted_idcs_vals}')\n",
    "    available = [original_vals[idx]!=sorted_idcs_vals[idx][1] for idx in range(length)]\n",
    "    val_to_idx = {\n",
    "        k:iter(list(\n",
    "            idx for idx, _ in g\n",
    "            if available[idx]\n",
    "            #if original_vals[idx]!=sorted_idcs_vals[idx][1]\n",
    "        ))\n",
    "        for k, g in it.groupby(sorted_idcs_vals, key=value_getter)\n",
    "    }\n",
    "    \n",
    "    \n",
    "\n",
    "    #permutations = []\n",
    "    swaps = 0\n",
    "    for i in range(length):\n",
    "\n",
    "        if not available[i]: continue\n",
    "\n",
    "        start_val = original_vals[i]\n",
    "        target_val = sorted_idcs_vals[i][1]\n",
    "\n",
    "        #permutation = [i]\n",
    "\n",
    "        while start_val != target_val:\n",
    "            ni = next(val_to_idx[target_val])\n",
    "            #ni = val_to_idx[target_val].popleft()\n",
    "            available[ni] = False\n",
    "            target_val = sorted_idcs_vals[ni][1]\n",
    "            #permutation.append(ni)\n",
    "            swaps += 1\n",
    "\n",
    "        \n",
    "        next(val_to_idx[target_val])\n",
    "        available[i] = False\n",
    "        #permutations.append(permutation)\n",
    "        \n",
    "    return swaps#, permutations"
   ]
  },
  {
   "cell_type": "code",
   "execution_count": 459,
   "metadata": {},
   "outputs": [
    {
     "name": "stdout",
     "output_type": "stream",
     "text": [
      "13.1 ms ± 80.7 µs per loop (mean ± std. dev. of 7 runs, 100 loops each)\n"
     ]
    }
   ],
   "source": [
    "%timeit min_swaps(arr)"
   ]
  },
  {
   "cell_type": "code",
   "execution_count": 449,
   "metadata": {},
   "outputs": [
    {
     "name": "stdout",
     "output_type": "stream",
     "text": [
      "[3, 2, 2, 2, 4, 3, 2, 1, 6, 5, 7, 4, 6, 6, 5, 4, 8, 4, 4, 1]\n"
     ]
    },
    {
     "data": {
      "text/plain": [
       "11"
      ]
     },
     "execution_count": 449,
     "metadata": {},
     "output_type": "execute_result"
    }
   ],
   "source": [
    "a = original_vals[:20]\n",
    "print(a)\n",
    "min_swaps(a)"
   ]
  },
  {
   "cell_type": "code",
   "execution_count": 421,
   "metadata": {},
   "outputs": [
    {
     "data": {
      "text/plain": [
       "[3,\n",
       " 2,\n",
       " 2,\n",
       " 2,\n",
       " 4,\n",
       " 3,\n",
       " 2,\n",
       " 1,\n",
       " 6,\n",
       " 5,\n",
       " 7,\n",
       " 4,\n",
       " 6,\n",
       " 6,\n",
       " 5,\n",
       " 4,\n",
       " 8,\n",
       " 4,\n",
       " 4,\n",
       " 1,\n",
       " 1,\n",
       " 3,\n",
       " 2,\n",
       " 2,\n",
       " 2,\n",
       " 2,\n",
       " 6,\n",
       " 2,\n",
       " 2,\n",
       " 3,\n",
       " 5,\n",
       " 8,\n",
       " 4,\n",
       " 2,\n",
       " 2]"
      ]
     },
     "execution_count": 421,
     "metadata": {},
     "output_type": "execute_result"
    }
   ],
   "source": [
    "original_vals"
   ]
  },
  {
   "cell_type": "code",
   "execution_count": 365,
   "metadata": {},
   "outputs": [],
   "source": [
    "z = list(range(1))"
   ]
  },
  {
   "cell_type": "code",
   "execution_count": 413,
   "metadata": {},
   "outputs": [],
   "source": [
    "d = deque(z)\n",
    "while d: d.popleft()"
   ]
  },
  {
   "cell_type": "code",
   "execution_count": 414,
   "metadata": {},
   "outputs": [
    {
     "data": {
      "text/plain": [
       "deque([])"
      ]
     },
     "execution_count": 414,
     "metadata": {},
     "output_type": "execute_result"
    }
   ],
   "source": []
  },
  {
   "cell_type": "code",
   "execution_count": 367,
   "metadata": {},
   "outputs": [
    {
     "name": "stdout",
     "output_type": "stream",
     "text": [
      "241 ns ± 2.68 ns per loop (mean ± std. dev. of 7 runs, 1000000 loops each)\n"
     ]
    }
   ],
   "source": [
    "%%timeit\n",
    "d = list(z)\n",
    "while d: d.pop(0)"
   ]
  },
  {
   "cell_type": "code",
   "execution_count": 371,
   "metadata": {},
   "outputs": [],
   "source": [
    "vg = operator.itemgetter(1)\n",
    "lb = lambda x: x[1]"
   ]
  },
  {
   "cell_type": "code",
   "execution_count": 372,
   "metadata": {},
   "outputs": [
    {
     "name": "stdout",
     "output_type": "stream",
     "text": [
      "67.7 ns ± 1.43 ns per loop (mean ± std. dev. of 7 runs, 10000000 loops each)\n",
      "75.4 ns ± 0.447 ns per loop (mean ± std. dev. of 7 runs, 10000000 loops each)\n",
      "31 ns ± 0.269 ns per loop (mean ± std. dev. of 7 runs, 10000000 loops each)\n"
     ]
    }
   ],
   "source": [
    "t = (1,2)\n",
    "%timeit vg(t)\n",
    "%timeit lb(t)\n",
    "%timeit t[1]"
   ]
  },
  {
   "cell_type": "code",
   "execution_count": 363,
   "metadata": {},
   "outputs": [],
   "source": [
    "d = deque(range(5))\n",
    "l = list(range(5))"
   ]
  },
  {
   "cell_type": "code",
   "execution_count": 364,
   "metadata": {},
   "outputs": [
    {
     "name": "stdout",
     "output_type": "stream",
     "text": [
      "29.9 ns ± 0.904 ns per loop (mean ± std. dev. of 7 runs, 10000000 loops each)\n",
      "27.4 ns ± 0.167 ns per loop (mean ± std. dev. of 7 runs, 10000000 loops each)\n"
     ]
    }
   ],
   "source": [
    "%timeit d[0]\n",
    "%timeit l[0]"
   ]
  },
  {
   "cell_type": "code",
   "execution_count": 599,
   "metadata": {},
   "outputs": [],
   "source": [
    "%%cython\n",
    "cpdef int ss(list a):\n",
    "    cdef int swaps = 0\n",
    "    cdef int n = len(a)\n",
    "    cdef int i, j, iMin, temp\n",
    "    for j in range(n-1):\n",
    "        iMin = j\n",
    "        for i in range(j+1, n):\n",
    "            if (a[i] < a[iMin]):\n",
    "                iMin = i\n",
    "        if iMin != j:\n",
    "            a[iMin] = a[j]\n",
    "            swaps += 1\n",
    "    return swaps"
   ]
  },
  {
   "cell_type": "code",
   "execution_count": 586,
   "metadata": {},
   "outputs": [],
   "source": [
    "%%cython\n",
    "import numpy as np\n",
    "cimport numpy as np\n",
    "cpdef int min_swapss(np.ndarray[np.int_t, ndim=1] a, int n):\n",
    "    cdef int swaps = 0\n",
    "    cdef int i, min_i\n",
    "    for i in range(n-1):\n",
    "        min_i = np.argmin(a[i:])\n",
    "        if min_i != i:\n",
    "            a[min_i] = a[i]\n",
    "            swaps += 1\n",
    "    return swaps"
   ]
  },
  {
   "cell_type": "code",
   "execution_count": 512,
   "metadata": {},
   "outputs": [],
   "source": [
    "ov = [3, 2, 1]"
   ]
  },
  {
   "cell_type": "code",
   "execution_count": 513,
   "metadata": {},
   "outputs": [
    {
     "name": "stdout",
     "output_type": "stream",
     "text": [
      "2.77 µs ± 62.6 ns per loop (mean ± std. dev. of 7 runs, 100000 loops each)\n"
     ]
    }
   ],
   "source": [
    "%%timeit\n",
    "min_swaps(ov)"
   ]
  },
  {
   "cell_type": "code",
   "execution_count": 514,
   "metadata": {},
   "outputs": [
    {
     "name": "stdout",
     "output_type": "stream",
     "text": [
      "4.63 µs ± 51.5 ns per loop (mean ± std. dev. of 7 runs, 100000 loops each)\n"
     ]
    }
   ],
   "source": [
    "%%timeit\n",
    "z = np.array(ov)\n",
    "ss(z, len(ov))"
   ]
  },
  {
   "cell_type": "code",
   "execution_count": 486,
   "metadata": {},
   "outputs": [
    {
     "name": "stdout",
     "output_type": "stream",
     "text": [
      "549 µs ± 5.55 µs per loop (mean ± std. dev. of 7 runs, 1000 loops each)\n"
     ]
    }
   ],
   "source": [
    "%%timeit\n",
    "z = np.array(arr)"
   ]
  },
  {
   "cell_type": "code",
   "execution_count": 487,
   "metadata": {},
   "outputs": [
    {
     "name": "stdout",
     "output_type": "stream",
     "text": [
      "62.7 ns ± 0.6 ns per loop (mean ± std. dev. of 7 runs, 10000000 loops each)\n"
     ]
    }
   ],
   "source": [
    "%%timeit\n",
    "len(arr)"
   ]
  },
  {
   "cell_type": "code",
   "execution_count": 491,
   "metadata": {},
   "outputs": [],
   "source": [
    "np.argmin?"
   ]
  },
  {
   "cell_type": "code",
   "execution_count": 495,
   "metadata": {},
   "outputs": [
    {
     "data": {
      "text/plain": [
       "[3, 2, 2, 2, 4, 3, 2]"
      ]
     },
     "execution_count": 495,
     "metadata": {},
     "output_type": "execute_result"
    }
   ],
   "source": []
  },
  {
   "cell_type": "code",
   "execution_count": 505,
   "metadata": {},
   "outputs": [
    {
     "data": {
      "text/plain": [
       "deque([])"
      ]
     },
     "execution_count": 505,
     "metadata": {},
     "output_type": "execute_result"
    }
   ],
   "source": [
    "deque([i for i in []])"
   ]
  },
  {
   "cell_type": "code",
   "execution_count": 516,
   "metadata": {},
   "outputs": [],
   "source": [
    "from collections import deque\n",
    "from operator import itemgetter\n",
    "from itertools import groupby\n",
    "\n",
    "def min_swaps(sequence):\n",
    "    \"\"\"\n",
    "    Returns miminum number of transpositions/swaps to sort given sequence.\n",
    "\n",
    "    Much faster than a modified (even Cython-optimized) implementation\n",
    "    of selection sort, even for short arrays.\n",
    "    \n",
    "    This is based on the finding disjoint permutation cycles between\n",
    "    the sequence and its sorted order. It takes exactly length(cycle)-1\n",
    "    transpositions to reverse a cycle.\n",
    "    \"\"\"\n",
    "\n",
    "    # do lexical sort on (value, original_index) pairs\n",
    "    # however sort is stable, so following is an option too (pairs are (original_index, value))\n",
    "    value_getter = itemgetter(1)\n",
    "    sorted_idcs_vals = sorted(enumerate(sequence), key=value_getter)\n",
    "    # get relevant indices for every value\n",
    "    val_to_idcs = {\n",
    "        value:deque(\n",
    "            idx for idx, _ in indices\n",
    "            # if element is not stationary\n",
    "            if sequence[idx]!=sorted_idcs_vals[idx][1]\n",
    "        )\n",
    "        for value, indices in groupby(sorted_idcs_vals, key=value_getter)\n",
    "    }\n",
    "    \n",
    "    # The permutaion cycles can be built by uncommenting lines with \"cycle(s)\" \n",
    "    # I keep it here - it clarifies the algorithm and might be useful some other day\n",
    "    #cycles = []\n",
    "    swaps = 0\n",
    "    while val_to_idcs:\n",
    "        start_value, indices = next(iter(val_to_idcs.items()))\n",
    "\n",
    "        # we have seen the element(s) already or it was stationary\n",
    "        if not indices:\n",
    "            del val_to_idcs[start_value]\n",
    "            continue\n",
    "\n",
    "        idx = indices.popleft()\n",
    "        next_value = sorted_idcs_vals[idx][1]\n",
    "\n",
    "        #cycle = [idx]\n",
    "        while start_value != next_value:\n",
    "            next_idx = val_to_idcs[next_value].popleft()\n",
    "            next_value = sorted_idcs_vals[next_idx][1]\n",
    "            #cycle.append(next_idx)\n",
    "            swaps += 1\n",
    "\n",
    "        #cycles.append(cycle)\n",
    "        \n",
    "    return swaps #, cycles"
   ]
  },
  {
   "cell_type": "code",
   "execution_count": 519,
   "metadata": {},
   "outputs": [
    {
     "name": "stdout",
     "output_type": "stream",
     "text": [
      "57.9 ms ± 885 µs per loop (mean ± std. dev. of 7 runs, 10 loops each)\n"
     ]
    }
   ],
   "source": [
    "%timeit min_swaps(arr)"
   ]
  },
  {
   "cell_type": "code",
   "execution_count": 617,
   "metadata": {},
   "outputs": [],
   "source": [
    "def min_swaps(sequence):\n",
    "    \"\"\"\n",
    "    Returns miminum number of transpositions/swaps to sort given sequence.\n",
    "\n",
    "    Much faster than a modified (even Cython-optimized) implementation\n",
    "    of selection sort, even for short arrays.\n",
    "    \n",
    "    This is based on the finding disjoint permutation cycles between\n",
    "    the sequence and its sorted order. It takes exactly length(cycle)-1\n",
    "    transpositions to reverse a cycle.\n",
    "    \"\"\"\n",
    "\n",
    "    # do lexical sort on (value, original_index) pairs\n",
    "    # however sort is stable, so following is an option too (pairs are (original_index, value))\n",
    "    value_getter = itemgetter(1)\n",
    "    sorted_idcs_vals = sorted(enumerate(sequence), key=value_getter)\n",
    "    # get relevant indices for every value\n",
    "    val_to_idcs = {\n",
    "        value:deque(\n",
    "            idx for idx, _ in indices\n",
    "            # if element is not stationary\n",
    "            if sequence[idx]!=sorted_idcs_vals[idx][1]\n",
    "        )\n",
    "        for value, indices in groupby(sorted_idcs_vals, key=value_getter)\n",
    "    }\n",
    "    \n",
    "    # The permutaion cycles can be built by uncommenting lines with \"cycle(s)\" \n",
    "    # I keep it here - it clarifies the algorithm and might be useful some other day\n",
    "    cycles = []\n",
    "    swaps = 0\n",
    "    for start_value in sequence:\n",
    "        indices = val_to_idcs[start_value]\n",
    "\n",
    "        # we have seen the element(s) already or it was stationary\n",
    "        if not indices: continue\n",
    "\n",
    "        idx = indices.popleft()\n",
    "        next_value = sorted_idcs_vals[idx][1]\n",
    "\n",
    "        cycle = [idx]\n",
    "        while start_value != next_value:\n",
    "            next_idx = val_to_idcs[next_value].popleft()\n",
    "            next_value = sorted_idcs_vals[next_idx][1]\n",
    "            cycle.append(next_idx)\n",
    "            swaps += 1\n",
    "\n",
    "        cycles.append(cycle)\n",
    "        \n",
    "    return swaps , cycles"
   ]
  },
  {
   "cell_type": "code",
   "execution_count": 570,
   "metadata": {},
   "outputs": [
    {
     "name": "stdout",
     "output_type": "stream",
     "text": [
      "18.4 ms ± 280 µs per loop (mean ± std. dev. of 7 runs, 100 loops each)\n"
     ]
    }
   ],
   "source": [
    "%timeit min_swaps(arr)"
   ]
  },
  {
   "cell_type": "code",
   "execution_count": 665,
   "metadata": {},
   "outputs": [],
   "source": [
    "def min_swapz(sequence):\n",
    "    original_vals = sequence\n",
    "    length = len(original_vals)\n",
    "    value_getter = operator.itemgetter(1)\n",
    "    sorted_idcs_vals = sorted(enumerate(original_vals), key=value_getter)\n",
    "    #print(f'ov: {original_vals}\\nsiv: {sorted_idcs_vals}')\n",
    "    available = [original_vals[idx]!=sorted_idcs_vals[idx][1] for idx in range(length)]\n",
    "    val_to_idx = {\n",
    "        k:iter(list(\n",
    "            idx for idx, _ in g\n",
    "            if available[idx]\n",
    "            #if original_vals[idx]!=sorted_idcs_vals[idx][1]\n",
    "        ))\n",
    "        for k, g in it.groupby(sorted_idcs_vals, key=value_getter)\n",
    "    }\n",
    "    \n",
    "    \n",
    "\n",
    "    swaps = 0\n",
    "    while any(available):\n",
    "        i = np.random.randint(length)\n",
    "\n",
    "        if not available[i]: continue\n",
    "\n",
    "        start_val = original_vals[i]\n",
    "        target_val = sorted_idcs_vals[i][1]\n",
    "\n",
    "\n",
    "        while start_val != target_val:\n",
    "            ni = next(val_to_idx[target_val])\n",
    "            #ni = val_to_idx[target_val].popleft()\n",
    "            #ni = val_to_idx[target_val].pop(0)\n",
    "            available[ni] = False\n",
    "            target_val = sorted_idcs_vals[ni][1]\n",
    "            swaps += 1\n",
    "\n",
    "        next(val_to_idx[target_val])\n",
    "        available[i] = False\n",
    "        \n",
    "    return swaps"
   ]
  },
  {
   "cell_type": "code",
   "execution_count": null,
   "metadata": {},
   "outputs": [],
   "source": [
    "%timeit min_swaps(arr)"
   ]
  },
  {
   "cell_type": "code",
   "execution_count": 549,
   "metadata": {},
   "outputs": [
    {
     "name": "stdout",
     "output_type": "stream",
     "text": [
      "3.17 ms ± 45 µs per loop (mean ± std. dev. of 7 runs, 100 loops each)\n"
     ]
    }
   ],
   "source": [
    "%timeit sorted(arr)"
   ]
  },
  {
   "cell_type": "code",
   "execution_count": 532,
   "metadata": {},
   "outputs": [
    {
     "data": {
      "text/plain": [
       "8"
      ]
     },
     "execution_count": 532,
     "metadata": {},
     "output_type": "execute_result"
    }
   ],
   "source": [
    "next(i, 8)"
   ]
  },
  {
   "cell_type": "code",
   "execution_count": 571,
   "metadata": {},
   "outputs": [],
   "source": [
    "def minSwaps(arr): \n",
    "    n = len(arr) \n",
    "      \n",
    "    # Create two arrays and use  \n",
    "    # as pairs where first array  \n",
    "    # is element and second array \n",
    "    # is position of first element \n",
    "    arrpos = [*enumerate(arr)] \n",
    "      \n",
    "    # Sort the array by array element  \n",
    "    # values to get right position of  \n",
    "    # every element as the elements  \n",
    "    # of second array. \n",
    "    arrpos.sort(key = lambda it:it[1]) \n",
    "      \n",
    "    # To keep track of visited elements.  \n",
    "    # Initialize all elements as not  \n",
    "    # visited or false. \n",
    "    vis = {k:False for k in range(n)} \n",
    "      \n",
    "    # Initialize result \n",
    "    ans = 0\n",
    "    for i in range(n): \n",
    "          \n",
    "        # alreadt swapped or  \n",
    "        # alreadt present at  \n",
    "        # correct position \n",
    "        if vis[i] or arrpos[i][0] == i: \n",
    "            continue\n",
    "              \n",
    "        # find number of nodes  \n",
    "        # in this cycle and \n",
    "        # add it to ans \n",
    "        cycle_size = 0\n",
    "        j = i \n",
    "        while not vis[j]: \n",
    "              \n",
    "            # mark node as visited \n",
    "            vis[j] = True\n",
    "              \n",
    "            # move to next node \n",
    "            j = arrpos[j][0] \n",
    "            cycle_size += 1\n",
    "              \n",
    "        # update answer by adding \n",
    "        # current cycle \n",
    "        if cycle_size > 0: \n",
    "            ans += (cycle_size - 1) \n",
    "    # return answer \n",
    "    return ans "
   ]
  },
  {
   "cell_type": "code",
   "execution_count": 697,
   "metadata": {},
   "outputs": [],
   "source": [
    "def cycle_decomposition(permutation):\n",
    "    \"\"\"Generate cycles in the cyclic decomposition of a permutation.\n",
    "\n",
    "        >>> list(cycle_decomposition([7, 2, 9, 5, 0, 3, 6, 8, 1, 4]))\n",
    "        [[0, 7, 8, 1, 2, 9, 4], [3, 5], [6]]\n",
    "\n",
    "    \"\"\"\n",
    "    unvisited = set(permutation)\n",
    "    while unvisited:\n",
    "        j = i = unvisited.pop()\n",
    "        cycle = [i]\n",
    "        while True:\n",
    "            j = permutation[j]\n",
    "            if j == i:\n",
    "                break\n",
    "            cycle.append(j)\n",
    "            unvisited.remove(j)\n",
    "        yield cycle\n",
    "\n",
    "def minimum_swaps(seq):\n",
    "    \"\"\"Return minimum swaps needed to sort the sequence.\n",
    "\n",
    "        >>> minimum_swaps([])\n",
    "        0\n",
    "        >>> minimum_swaps([2, 1])\n",
    "        1\n",
    "        >>> minimum_swaps([4, 8, 1, 5, 9, 3, 6, 0, 7, 2])\n",
    "        7\n",
    "\n",
    "    \"\"\"\n",
    "    permutation = sorted(range(len(seq)), key=seq.__getitem__)\n",
    "    return sum(len(cycle) - 1 for cycle in cycle_decomposition(permutation))"
   ]
  },
  {
   "cell_type": "code",
   "execution_count": 592,
   "metadata": {},
   "outputs": [
    {
     "data": {
      "text/plain": [
       "26"
      ]
     },
     "execution_count": 592,
     "metadata": {},
     "output_type": "execute_result"
    }
   ],
   "source": [
    "l, p = min_swaps(original_vals); l"
   ]
  },
  {
   "cell_type": "code",
   "execution_count": 594,
   "metadata": {},
   "outputs": [
    {
     "data": {
      "text/plain": [
       "[[0, 7, 1, 19, 4, 2, 20, 11, 22, 15],\n",
       " [23, 17, 5],\n",
       " [24, 18, 21, 32, 10],\n",
       " [25, 9],\n",
       " [29, 8, 27, 14, 28, 12, 33, 16],\n",
       " [34, 31, 13],\n",
       " [26, 30]]"
      ]
     },
     "execution_count": 594,
     "metadata": {},
     "output_type": "execute_result"
    }
   ],
   "source": [
    "p"
   ]
  },
  {
   "cell_type": "code",
   "execution_count": 597,
   "metadata": {},
   "outputs": [
    {
     "name": "stdout",
     "output_type": "stream",
     "text": [
      "[3 1 2 1 4 2 1 4 2 4]\n",
      "[2 4 3]\n",
      "[2 4 3 4 7]\n",
      "[2 5]\n",
      "[3 6 2 5 2 6 2 8]\n",
      "[2 8 6]\n",
      "[6 5]\n"
     ]
    }
   ],
   "source": [
    "for z in p: print(np.array(original_vals)[z])"
   ]
  },
  {
   "cell_type": "code",
   "execution_count": 581,
   "metadata": {},
   "outputs": [
    {
     "name": "stdout",
     "output_type": "stream",
     "text": [
      " 3  2  2  2  4  3  2  1  6  5  7  4  6  6  5  4  8  4  4  1  1  3  2  2  2  2  6  2  2  3  5  8  4  2  2\n",
      " 1  1  1  2  2  2  2  2  2  2  2  2  2  2  2  3  3  3  3  4  4  4  4  4  4  5  5  5  6  6  6  6  7  8  8\n",
      " 0  1  2  3  4  5  6  7  8  9 10 11 12 13 14 15 16 17 18 19 20 21 22 23 24 25 26 27 28 29 30 31 32 33 34\n"
     ]
    }
   ],
   "source": [
    "print(' '.join(map('{:2d}'.format, original_vals)))\n",
    "print(' '.join(map('{:2d}'.format, sorted_vals)))\n",
    "print(' '.join(map('{:2d}'.format, range(len(sorted_vals)))))"
   ]
  },
  {
   "cell_type": "code",
   "execution_count": 610,
   "metadata": {},
   "outputs": [],
   "source": [
    "%%cython\n",
    "cpdef int sslt(list a):\n",
    "    cdef int swaps = 0\n",
    "    cdef int n = len(a)\n",
    "    cdef int i, j, iMin, temp\n",
    "    for j in range(n-1):\n",
    "        iMin = j\n",
    "        for i in range(j+1, n):\n",
    "            if (a[i] < a[iMin]):\n",
    "                iMin = i\n",
    "        if iMin != j:\n",
    "            a[iMin] = a[j]\n",
    "            swaps += 1\n",
    "    return swaps"
   ]
  },
  {
   "cell_type": "code",
   "execution_count": 611,
   "metadata": {},
   "outputs": [],
   "source": [
    "%%cython\n",
    "cpdef int ssle(list a):\n",
    "    cdef int swaps = 0\n",
    "    cdef int n = len(a)\n",
    "    cdef int i, j, iMin, temp\n",
    "    for j in range(n-1):\n",
    "        iMin = j\n",
    "        for i in range(j+1, n):\n",
    "            if (a[i] <= a[iMin]):\n",
    "                iMin = i\n",
    "        if iMin != j:\n",
    "            a[iMin] = a[j]\n",
    "            swaps += 1\n",
    "    return swaps"
   ]
  },
  {
   "cell_type": "code",
   "execution_count": 601,
   "metadata": {},
   "outputs": [
    {
     "data": {
      "text/plain": [
       "34"
      ]
     },
     "execution_count": 601,
     "metadata": {},
     "output_type": "execute_result"
    }
   ],
   "source": [
    "min_swapss(np.array(original_vals), len(original_vals))"
   ]
  },
  {
   "cell_type": "code",
   "execution_count": 787,
   "metadata": {},
   "outputs": [
    {
     "name": "stdout",
     "output_type": "stream",
     "text": [
      "50:[0 5 5 2 2 2 2 5 4 2 5 5 3 2 4 0 2 1 2 2 4 0 2 3 3 2 1 5 2 5 0 1 5 0 5 0 5\n",
      " 0 1 2 2 1 4 2 5 5 0 2 4 0]\n",
      "\n",
      "36\n",
      "49\n",
      "\n",
      "33\n",
      "\n",
      "46\n",
      "46\n",
      "\n",
      "\r",
      "36\r",
      "35\r",
      "32\r",
      "31\r",
      "30\r",
      "29\r",
      "28\r",
      "25\r",
      "24"
     ]
    },
    {
     "ename": "KeyboardInterrupt",
     "evalue": "",
     "output_type": "error",
     "traceback": [
      "\u001b[0;31m---------------------------------------------------------------------------\u001b[0m",
      "\u001b[0;31mKeyboardInterrupt\u001b[0m                         Traceback (most recent call last)",
      "\u001b[0;32m<ipython-input-787-800dac3740ea>\u001b[0m in \u001b[0;36m<module>\u001b[0;34m\u001b[0m\n\u001b[1;32m     14\u001b[0m \u001b[0mm\u001b[0m \u001b[0;34m=\u001b[0m \u001b[0;36m1e999\u001b[0m\u001b[0;34m\u001b[0m\u001b[0;34m\u001b[0m\u001b[0m\n\u001b[1;32m     15\u001b[0m \u001b[0;32mwhile\u001b[0m \u001b[0;32mTrue\u001b[0m\u001b[0;34m:\u001b[0m\u001b[0;34m\u001b[0m\u001b[0;34m\u001b[0m\u001b[0m\n\u001b[0;32m---> 16\u001b[0;31m     \u001b[0mz\u001b[0m \u001b[0;34m=\u001b[0m \u001b[0mmin_swaps3\u001b[0m\u001b[0;34m(\u001b[0m\u001b[0ml\u001b[0m\u001b[0;34m)\u001b[0m\u001b[0;34m\u001b[0m\u001b[0;34m\u001b[0m\u001b[0m\n\u001b[0m\u001b[1;32m     17\u001b[0m     \u001b[0;32mif\u001b[0m \u001b[0mz\u001b[0m \u001b[0;34m<\u001b[0m \u001b[0mm\u001b[0m\u001b[0;34m:\u001b[0m\u001b[0;34m\u001b[0m\u001b[0;34m\u001b[0m\u001b[0m\n\u001b[1;32m     18\u001b[0m         \u001b[0mm\u001b[0m \u001b[0;34m=\u001b[0m \u001b[0mz\u001b[0m\u001b[0;34m\u001b[0m\u001b[0;34m\u001b[0m\u001b[0m\n",
      "\u001b[0;31mKeyboardInterrupt\u001b[0m: "
     ]
    }
   ],
   "source": [
    "l = np.random.randint(0, 6, 50)\n",
    "# np.random.shuffle(l)\n",
    "print(f'{len(l)}:{l[:50]}')\n",
    "print()\n",
    "print(sslt(list(l)))\n",
    "print(ssle(list(l)))\n",
    "print()\n",
    "print(min_swaps(l)[0])\n",
    "print()\n",
    "print(minimum_swaps(l))\n",
    "print(minSwaps(l))\n",
    "print()\n",
    "\n",
    "m = 1e999\n",
    "while True:\n",
    "    z = min_swaps3(l)\n",
    "    if z < m:\n",
    "        m = z\n",
    "        print(f'\\r{m}', end='')"
   ]
  },
  {
   "cell_type": "code",
   "execution_count": 790,
   "metadata": {
    "scrolled": true
   },
   "outputs": [
    {
     "name": "stdout",
     "output_type": "stream",
     "text": [
      "2.15 ms ± 68.6 µs per loop (mean ± std. dev. of 7 runs, 100 loops each)\n",
      "1.89 ms ± 16.2 µs per loop (mean ± std. dev. of 7 runs, 1000 loops each)\n"
     ]
    }
   ],
   "source": [
    "z = list(range(100000))\n",
    "d=deque(z)\n",
    "l=list(z)\n",
    "%timeit [i for i in d]\n",
    "%timeit [i for i in l]"
   ]
  },
  {
   "cell_type": "code",
   "execution_count": 772,
   "metadata": {},
   "outputs": [],
   "source": [
    "%%cython\n",
    "from collections import deque\n",
    "from operator import itemgetter\n",
    "from itertools import groupby\n",
    "import numpy as np\n",
    "cimport numpy as np\n",
    "def min_swaps3(sequence):\n",
    "    \"\"\"\n",
    "    Returns miminum number of transpositions/swaps to sort given sequence.\n",
    "\n",
    "    Much faster than a modified (and even Cython-optimized) implementation\n",
    "    of selection sort, even for short arrays.\n",
    "    \n",
    "    This is based on the finding disjoint permutation cycles between\n",
    "    the sequence and its sorted order. It takes exactly length(cycle)-1\n",
    "    transpositions to reverse a cycle.\n",
    "    \"\"\"\n",
    "\n",
    "    # do lexical sort on (value, original_index) pairs\n",
    "    # however sort is stable, so following is an option too (pairs are (original_index, value))\n",
    "    value_getter = itemgetter(1)\n",
    "    sorted_idcs_vals = sorted(enumerate(sequence), key=value_getter)\n",
    "    # get relevant indices for every value\n",
    "    val_to_idcs = {\n",
    "        value:deque(\n",
    "            idx for idx, _ in indices\n",
    "            # if element is not stationary\n",
    "            if sequence[idx]!=sorted_idcs_vals[idx][1]\n",
    "        )\n",
    "        for value, indices in groupby(sorted_idcs_vals, key=value_getter)\n",
    "    }\n",
    "    \n",
    "    # The permutaion cycles can be built by uncommenting lines with \"cycle(s)\" \n",
    "    # I keep it here - it clarifies the algorithm and might be useful some other day\n",
    "    #cycles = []\n",
    "    swaps = 0\n",
    "    ch = list(sequence)\n",
    "    while ch:\n",
    "        start_value = ch.pop(np.random.randint(len(ch)))\n",
    "        indices = val_to_idcs[start_value]\n",
    "\n",
    "        # we have seen the element(s) already or it was stationary\n",
    "        if not indices: continue\n",
    "\n",
    "        idx = indices.popleft()\n",
    "        next_value = sorted_idcs_vals[idx][1]\n",
    "\n",
    "        #cycle = [idx]\n",
    "        while start_value != next_value:\n",
    "            next_idx = val_to_idcs[next_value].popleft()\n",
    "            next_value = sorted_idcs_vals[next_idx][1]\n",
    "            #cycle.append(next_idx)\n",
    "            swaps += 1\n",
    "\n",
    "        #cycles.append(cycle)\n",
    "        \n",
    "    return swaps #, cycles"
   ]
  }
 ],
 "metadata": {
  "kernelspec": {
   "display_name": "Python 3",
   "language": "python",
   "name": "python3"
  },
  "language_info": {
   "codemirror_mode": {
    "name": "ipython",
    "version": 3
   },
   "file_extension": ".py",
   "mimetype": "text/x-python",
   "name": "python",
   "nbconvert_exporter": "python",
   "pygments_lexer": "ipython3",
   "version": "3.7.3"
  }
 },
 "nbformat": 4,
 "nbformat_minor": 2
}
